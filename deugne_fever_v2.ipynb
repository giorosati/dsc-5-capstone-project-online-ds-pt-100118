{
 "cells": [
  {
   "cell_type": "markdown",
   "metadata": {},
   "source": [
    "# Abstract"
   ]
  },
  {
   "cell_type": "markdown",
   "metadata": {},
   "source": [
    "### The problem and challenge\n",
    "\n",
    "Dengue fever is a mosquito-borne tropical disease caused by the dengue virus. Symptoms may include a high fever, headache, vomiting, muscle and joint pains, and a characteristic skin rash. In a small proportion of cases, the disease develops into severe dengue, also known as dengue hemorrhagic fever, resulting in bleeding, low levels of blood platelets and blood plasma leakage, or into dengue shock syndrome, where dangerously low blood pressure occurs.(https://en.wikipedia.org/wiki/Dengue_fever)\n",
    "\n",
    "Each year, up to 400 million people get infected with dengue. Approximately 100 million people get sick from infection, and 22,000 die from severe dengue (https://www.cdc.gov/dengue/about/index.html). Accurate dengue predictions would help public health workers ... and people around the world take steps to reduce the impact of these epidemics. But predicting dengue is a hefty task that calls for the consolidation of different data sets on disease incidence, weather, and the environment. (https://obamawhitehouse.archives.gov/blog/2015/06/05/back-future-using-historical-dengue-data-predict-next-epidemic)\n",
    "\n",
    "Because Dengue Fever is spread by female mosquitos, an increase in mosquito population precedes an increase in reported cases of infection. The goal of this project was to use historical weather and environmental data to see how accurately a machine learning model could predict the number of cases of Dengue Fever in two cities, San Juan, Puerto Rico and Iquitos, Peru.\n",
    "\n",
    "### Methodology\n",
    "This project followed the OSEMN protocol (Obtain, Scrub, Explore, Model, iNterpret). Data was obtained from the U.S. National Oceanic and Atmospheric Administration (NOAA) (https://dengueforecasting.noaa.gov/) and from Dark Sky* via their api (https://darksky.net/dev). The Keras and Tensorflow libraries were utilized to train machine learning models and tested for performance using the mean absolute error metric.  \n",
    "\n",
    "### Results\n",
    "For San Juan, the best performing model utilized only the data from the NOAA dataset from 1990 to 2005 and made predictions for total Dengue Fever cases for 2006 to early 2008. The approximate mean validation loss achieved was 0.0153.\n",
    "\n",
    "For Iquitos, the best performing model utilized data from both NOAA and Dark Sky, from mid-2000 to mid-2008 and made predictions for mid-2008 to mid-2009. The approximate mean validation loss achieved was 0.0261.\n",
    "\n",
    "### Potential further work\n",
    "Some strategies that could be employed to see if the performance could be enhanced include:\n",
    "* Use the minimum or maximum, instead of the mean, when calculating weekly values from the daily DarkSky data.\n",
    "* Differencing the data by taking each week's values and subtracting from the prior week's values.\n",
    "* Test other machine learning models designed for time series data.\n",
    "* Multicollinearity is very present in the weather data. Many factors could be removed to eliminate multicollinearity to see if the models' performance can be improved.\n",
    "* Because adding a dropout layer improved performance substantially, establishing limits to the maximum weights allowable in the model may also improve performance when predicting on new data.\n",
    "\n",
    "### Author Information\n",
    "Giovanni Rosati, giovanni.rosati@gmail.com\n",
    "\n",
    "GitHub Repository: https://github.com/giorosati/dsc-5-capstone-project-online-ds-pt-100118\n",
    "\n",
    "*Powered by Dark Sky (https://darksky.net/poweredby/)"
   ]
  },
  {
   "cell_type": "markdown",
   "metadata": {
    "heading_collapsed": true
   },
   "source": [
    "# Imports"
   ]
  },
  {
   "cell_type": "code",
   "execution_count": 112,
   "metadata": {
    "hidden": true
   },
   "outputs": [],
   "source": [
    "# imports\n",
    "\n",
    "# misc\n",
    "import datetime\n",
    "import math\n",
    "import os, sys, shutil\n",
    "from collections import defaultdict\n",
    "# from tqdm import tqdm\n",
    "\n",
    "# basics\n",
    "import numpy as np\n",
    "from numpy import loadtxt\n",
    "import pandas as pd\n",
    "from pandas.plotting import autocorrelation_plot\n",
    "\n",
    "\n",
    "from sklearn.metrics import mean_squared_error\n",
    "from sklearn.preprocessing import MinMaxScaler\n",
    "from sklearn.metrics import mean_absolute_error\n",
    "\n",
    "\n",
    "# keras\n",
    "from keras.models import Sequential\n",
    "from keras.layers import Dense\n",
    "from keras.layers import LSTM\n",
    "from keras.layers import Dropout\n",
    "\n",
    "# charting\n",
    "import matplotlib.pyplot as plt\n",
    "\n",
    "import seaborn as sns\n",
    "sns.set_style('darkgrid')\n",
    "%matplotlib inline \n",
    "\n",
    "# for darksky api\n",
    "import json\n",
    "from pandas.io.json import json_normalize\n",
    "import requests\n"
   ]
  },
  {
   "cell_type": "markdown",
   "metadata": {
    "heading_collapsed": true
   },
   "source": [
    "# Code needed to load the data from DrivenData"
   ]
  },
  {
   "cell_type": "code",
   "execution_count": 2,
   "metadata": {
    "hidden": true
   },
   "outputs": [],
   "source": [
    "# load the data\n",
    "df_train = pd.read_csv('source_data/dengue_features_train.csv') "
   ]
  },
  {
   "cell_type": "code",
   "execution_count": 3,
   "metadata": {
    "hidden": true
   },
   "outputs": [
    {
     "data": {
      "text/html": [
       "<div>\n",
       "<style scoped>\n",
       "    .dataframe tbody tr th:only-of-type {\n",
       "        vertical-align: middle;\n",
       "    }\n",
       "\n",
       "    .dataframe tbody tr th {\n",
       "        vertical-align: top;\n",
       "    }\n",
       "\n",
       "    .dataframe thead th {\n",
       "        text-align: right;\n",
       "    }\n",
       "</style>\n",
       "<table border=\"1\" class=\"dataframe\">\n",
       "  <thead>\n",
       "    <tr style=\"text-align: right;\">\n",
       "      <th></th>\n",
       "      <th>city</th>\n",
       "      <th>year</th>\n",
       "      <th>weekofyear</th>\n",
       "      <th>week_start_date</th>\n",
       "      <th>ndvi_ne</th>\n",
       "      <th>ndvi_nw</th>\n",
       "      <th>ndvi_se</th>\n",
       "      <th>ndvi_sw</th>\n",
       "      <th>precipitation_amt_mm</th>\n",
       "      <th>reanalysis_air_temp_k</th>\n",
       "      <th>...</th>\n",
       "      <th>reanalysis_precip_amt_kg_per_m2</th>\n",
       "      <th>reanalysis_relative_humidity_percent</th>\n",
       "      <th>reanalysis_sat_precip_amt_mm</th>\n",
       "      <th>reanalysis_specific_humidity_g_per_kg</th>\n",
       "      <th>reanalysis_tdtr_k</th>\n",
       "      <th>station_avg_temp_c</th>\n",
       "      <th>station_diur_temp_rng_c</th>\n",
       "      <th>station_max_temp_c</th>\n",
       "      <th>station_min_temp_c</th>\n",
       "      <th>station_precip_mm</th>\n",
       "    </tr>\n",
       "  </thead>\n",
       "  <tbody>\n",
       "    <tr>\n",
       "      <td>0</td>\n",
       "      <td>sj</td>\n",
       "      <td>1990</td>\n",
       "      <td>18</td>\n",
       "      <td>1990-04-30</td>\n",
       "      <td>0.122600</td>\n",
       "      <td>0.103725</td>\n",
       "      <td>0.198483</td>\n",
       "      <td>0.177617</td>\n",
       "      <td>12.42</td>\n",
       "      <td>297.572857</td>\n",
       "      <td>...</td>\n",
       "      <td>32.00</td>\n",
       "      <td>73.365714</td>\n",
       "      <td>12.42</td>\n",
       "      <td>14.012857</td>\n",
       "      <td>2.628571</td>\n",
       "      <td>25.442857</td>\n",
       "      <td>6.900000</td>\n",
       "      <td>29.4</td>\n",
       "      <td>20.0</td>\n",
       "      <td>16.0</td>\n",
       "    </tr>\n",
       "    <tr>\n",
       "      <td>1</td>\n",
       "      <td>sj</td>\n",
       "      <td>1990</td>\n",
       "      <td>19</td>\n",
       "      <td>1990-05-07</td>\n",
       "      <td>0.169900</td>\n",
       "      <td>0.142175</td>\n",
       "      <td>0.162357</td>\n",
       "      <td>0.155486</td>\n",
       "      <td>22.82</td>\n",
       "      <td>298.211429</td>\n",
       "      <td>...</td>\n",
       "      <td>17.94</td>\n",
       "      <td>77.368571</td>\n",
       "      <td>22.82</td>\n",
       "      <td>15.372857</td>\n",
       "      <td>2.371429</td>\n",
       "      <td>26.714286</td>\n",
       "      <td>6.371429</td>\n",
       "      <td>31.7</td>\n",
       "      <td>22.2</td>\n",
       "      <td>8.6</td>\n",
       "    </tr>\n",
       "    <tr>\n",
       "      <td>2</td>\n",
       "      <td>sj</td>\n",
       "      <td>1990</td>\n",
       "      <td>20</td>\n",
       "      <td>1990-05-14</td>\n",
       "      <td>0.032250</td>\n",
       "      <td>0.172967</td>\n",
       "      <td>0.157200</td>\n",
       "      <td>0.170843</td>\n",
       "      <td>34.54</td>\n",
       "      <td>298.781429</td>\n",
       "      <td>...</td>\n",
       "      <td>26.10</td>\n",
       "      <td>82.052857</td>\n",
       "      <td>34.54</td>\n",
       "      <td>16.848571</td>\n",
       "      <td>2.300000</td>\n",
       "      <td>26.714286</td>\n",
       "      <td>6.485714</td>\n",
       "      <td>32.2</td>\n",
       "      <td>22.8</td>\n",
       "      <td>41.4</td>\n",
       "    </tr>\n",
       "    <tr>\n",
       "      <td>3</td>\n",
       "      <td>sj</td>\n",
       "      <td>1990</td>\n",
       "      <td>21</td>\n",
       "      <td>1990-05-21</td>\n",
       "      <td>0.128633</td>\n",
       "      <td>0.245067</td>\n",
       "      <td>0.227557</td>\n",
       "      <td>0.235886</td>\n",
       "      <td>15.36</td>\n",
       "      <td>298.987143</td>\n",
       "      <td>...</td>\n",
       "      <td>13.90</td>\n",
       "      <td>80.337143</td>\n",
       "      <td>15.36</td>\n",
       "      <td>16.672857</td>\n",
       "      <td>2.428571</td>\n",
       "      <td>27.471429</td>\n",
       "      <td>6.771429</td>\n",
       "      <td>33.3</td>\n",
       "      <td>23.3</td>\n",
       "      <td>4.0</td>\n",
       "    </tr>\n",
       "    <tr>\n",
       "      <td>4</td>\n",
       "      <td>sj</td>\n",
       "      <td>1990</td>\n",
       "      <td>22</td>\n",
       "      <td>1990-05-28</td>\n",
       "      <td>0.196200</td>\n",
       "      <td>0.262200</td>\n",
       "      <td>0.251200</td>\n",
       "      <td>0.247340</td>\n",
       "      <td>7.52</td>\n",
       "      <td>299.518571</td>\n",
       "      <td>...</td>\n",
       "      <td>12.20</td>\n",
       "      <td>80.460000</td>\n",
       "      <td>7.52</td>\n",
       "      <td>17.210000</td>\n",
       "      <td>3.014286</td>\n",
       "      <td>28.942857</td>\n",
       "      <td>9.371429</td>\n",
       "      <td>35.0</td>\n",
       "      <td>23.9</td>\n",
       "      <td>5.8</td>\n",
       "    </tr>\n",
       "  </tbody>\n",
       "</table>\n",
       "<p>5 rows × 24 columns</p>\n",
       "</div>"
      ],
      "text/plain": [
       "  city  year  weekofyear week_start_date   ndvi_ne   ndvi_nw   ndvi_se  \\\n",
       "0   sj  1990          18      1990-04-30  0.122600  0.103725  0.198483   \n",
       "1   sj  1990          19      1990-05-07  0.169900  0.142175  0.162357   \n",
       "2   sj  1990          20      1990-05-14  0.032250  0.172967  0.157200   \n",
       "3   sj  1990          21      1990-05-21  0.128633  0.245067  0.227557   \n",
       "4   sj  1990          22      1990-05-28  0.196200  0.262200  0.251200   \n",
       "\n",
       "    ndvi_sw  precipitation_amt_mm  reanalysis_air_temp_k  ...  \\\n",
       "0  0.177617                 12.42             297.572857  ...   \n",
       "1  0.155486                 22.82             298.211429  ...   \n",
       "2  0.170843                 34.54             298.781429  ...   \n",
       "3  0.235886                 15.36             298.987143  ...   \n",
       "4  0.247340                  7.52             299.518571  ...   \n",
       "\n",
       "   reanalysis_precip_amt_kg_per_m2  reanalysis_relative_humidity_percent  \\\n",
       "0                            32.00                             73.365714   \n",
       "1                            17.94                             77.368571   \n",
       "2                            26.10                             82.052857   \n",
       "3                            13.90                             80.337143   \n",
       "4                            12.20                             80.460000   \n",
       "\n",
       "   reanalysis_sat_precip_amt_mm  reanalysis_specific_humidity_g_per_kg  \\\n",
       "0                         12.42                              14.012857   \n",
       "1                         22.82                              15.372857   \n",
       "2                         34.54                              16.848571   \n",
       "3                         15.36                              16.672857   \n",
       "4                          7.52                              17.210000   \n",
       "\n",
       "   reanalysis_tdtr_k  station_avg_temp_c  station_diur_temp_rng_c  \\\n",
       "0           2.628571           25.442857                 6.900000   \n",
       "1           2.371429           26.714286                 6.371429   \n",
       "2           2.300000           26.714286                 6.485714   \n",
       "3           2.428571           27.471429                 6.771429   \n",
       "4           3.014286           28.942857                 9.371429   \n",
       "\n",
       "   station_max_temp_c  station_min_temp_c  station_precip_mm  \n",
       "0                29.4                20.0               16.0  \n",
       "1                31.7                22.2                8.6  \n",
       "2                32.2                22.8               41.4  \n",
       "3                33.3                23.3                4.0  \n",
       "4                35.0                23.9                5.8  \n",
       "\n",
       "[5 rows x 24 columns]"
      ]
     },
     "execution_count": 3,
     "metadata": {},
     "output_type": "execute_result"
    }
   ],
   "source": [
    "df_train.head()"
   ]
  },
  {
   "cell_type": "code",
   "execution_count": 4,
   "metadata": {
    "hidden": true
   },
   "outputs": [
    {
     "data": {
      "text/html": [
       "<div>\n",
       "<style scoped>\n",
       "    .dataframe tbody tr th:only-of-type {\n",
       "        vertical-align: middle;\n",
       "    }\n",
       "\n",
       "    .dataframe tbody tr th {\n",
       "        vertical-align: top;\n",
       "    }\n",
       "\n",
       "    .dataframe thead th {\n",
       "        text-align: right;\n",
       "    }\n",
       "</style>\n",
       "<table border=\"1\" class=\"dataframe\">\n",
       "  <thead>\n",
       "    <tr style=\"text-align: right;\">\n",
       "      <th></th>\n",
       "      <th>city</th>\n",
       "      <th>year</th>\n",
       "      <th>weekofyear</th>\n",
       "      <th>week_start_date</th>\n",
       "      <th>ndvi_ne</th>\n",
       "      <th>ndvi_nw</th>\n",
       "      <th>ndvi_se</th>\n",
       "      <th>ndvi_sw</th>\n",
       "      <th>precipitation_amt_mm</th>\n",
       "      <th>reanalysis_air_temp_k</th>\n",
       "      <th>...</th>\n",
       "      <th>reanalysis_precip_amt_kg_per_m2</th>\n",
       "      <th>reanalysis_relative_humidity_percent</th>\n",
       "      <th>reanalysis_sat_precip_amt_mm</th>\n",
       "      <th>reanalysis_specific_humidity_g_per_kg</th>\n",
       "      <th>reanalysis_tdtr_k</th>\n",
       "      <th>station_avg_temp_c</th>\n",
       "      <th>station_diur_temp_rng_c</th>\n",
       "      <th>station_max_temp_c</th>\n",
       "      <th>station_min_temp_c</th>\n",
       "      <th>station_precip_mm</th>\n",
       "    </tr>\n",
       "  </thead>\n",
       "  <tbody>\n",
       "    <tr>\n",
       "      <td>1451</td>\n",
       "      <td>iq</td>\n",
       "      <td>2010</td>\n",
       "      <td>21</td>\n",
       "      <td>2010-05-28</td>\n",
       "      <td>0.342750</td>\n",
       "      <td>0.318900</td>\n",
       "      <td>0.256343</td>\n",
       "      <td>0.292514</td>\n",
       "      <td>55.30</td>\n",
       "      <td>299.334286</td>\n",
       "      <td>...</td>\n",
       "      <td>45.00</td>\n",
       "      <td>88.765714</td>\n",
       "      <td>55.30</td>\n",
       "      <td>18.485714</td>\n",
       "      <td>9.800000</td>\n",
       "      <td>28.633333</td>\n",
       "      <td>11.933333</td>\n",
       "      <td>35.4</td>\n",
       "      <td>22.4</td>\n",
       "      <td>27.0</td>\n",
       "    </tr>\n",
       "    <tr>\n",
       "      <td>1452</td>\n",
       "      <td>iq</td>\n",
       "      <td>2010</td>\n",
       "      <td>22</td>\n",
       "      <td>2010-06-04</td>\n",
       "      <td>0.160157</td>\n",
       "      <td>0.160371</td>\n",
       "      <td>0.136043</td>\n",
       "      <td>0.225657</td>\n",
       "      <td>86.47</td>\n",
       "      <td>298.330000</td>\n",
       "      <td>...</td>\n",
       "      <td>207.10</td>\n",
       "      <td>91.600000</td>\n",
       "      <td>86.47</td>\n",
       "      <td>18.070000</td>\n",
       "      <td>7.471429</td>\n",
       "      <td>27.433333</td>\n",
       "      <td>10.500000</td>\n",
       "      <td>34.7</td>\n",
       "      <td>21.7</td>\n",
       "      <td>36.6</td>\n",
       "    </tr>\n",
       "    <tr>\n",
       "      <td>1453</td>\n",
       "      <td>iq</td>\n",
       "      <td>2010</td>\n",
       "      <td>23</td>\n",
       "      <td>2010-06-11</td>\n",
       "      <td>0.247057</td>\n",
       "      <td>0.146057</td>\n",
       "      <td>0.250357</td>\n",
       "      <td>0.233714</td>\n",
       "      <td>58.94</td>\n",
       "      <td>296.598571</td>\n",
       "      <td>...</td>\n",
       "      <td>50.60</td>\n",
       "      <td>94.280000</td>\n",
       "      <td>58.94</td>\n",
       "      <td>17.008571</td>\n",
       "      <td>7.500000</td>\n",
       "      <td>24.400000</td>\n",
       "      <td>6.900000</td>\n",
       "      <td>32.2</td>\n",
       "      <td>19.2</td>\n",
       "      <td>7.4</td>\n",
       "    </tr>\n",
       "    <tr>\n",
       "      <td>1454</td>\n",
       "      <td>iq</td>\n",
       "      <td>2010</td>\n",
       "      <td>24</td>\n",
       "      <td>2010-06-18</td>\n",
       "      <td>0.333914</td>\n",
       "      <td>0.245771</td>\n",
       "      <td>0.278886</td>\n",
       "      <td>0.325486</td>\n",
       "      <td>59.67</td>\n",
       "      <td>296.345714</td>\n",
       "      <td>...</td>\n",
       "      <td>62.33</td>\n",
       "      <td>94.660000</td>\n",
       "      <td>59.67</td>\n",
       "      <td>16.815714</td>\n",
       "      <td>7.871429</td>\n",
       "      <td>25.433333</td>\n",
       "      <td>8.733333</td>\n",
       "      <td>31.2</td>\n",
       "      <td>21.0</td>\n",
       "      <td>16.0</td>\n",
       "    </tr>\n",
       "    <tr>\n",
       "      <td>1455</td>\n",
       "      <td>iq</td>\n",
       "      <td>2010</td>\n",
       "      <td>25</td>\n",
       "      <td>2010-06-25</td>\n",
       "      <td>0.298186</td>\n",
       "      <td>0.232971</td>\n",
       "      <td>0.274214</td>\n",
       "      <td>0.315757</td>\n",
       "      <td>63.22</td>\n",
       "      <td>298.097143</td>\n",
       "      <td>...</td>\n",
       "      <td>36.90</td>\n",
       "      <td>89.082857</td>\n",
       "      <td>63.22</td>\n",
       "      <td>17.355714</td>\n",
       "      <td>11.014286</td>\n",
       "      <td>27.475000</td>\n",
       "      <td>9.900000</td>\n",
       "      <td>33.7</td>\n",
       "      <td>22.2</td>\n",
       "      <td>20.4</td>\n",
       "    </tr>\n",
       "  </tbody>\n",
       "</table>\n",
       "<p>5 rows × 24 columns</p>\n",
       "</div>"
      ],
      "text/plain": [
       "     city  year  weekofyear week_start_date   ndvi_ne   ndvi_nw   ndvi_se  \\\n",
       "1451   iq  2010          21      2010-05-28  0.342750  0.318900  0.256343   \n",
       "1452   iq  2010          22      2010-06-04  0.160157  0.160371  0.136043   \n",
       "1453   iq  2010          23      2010-06-11  0.247057  0.146057  0.250357   \n",
       "1454   iq  2010          24      2010-06-18  0.333914  0.245771  0.278886   \n",
       "1455   iq  2010          25      2010-06-25  0.298186  0.232971  0.274214   \n",
       "\n",
       "       ndvi_sw  precipitation_amt_mm  reanalysis_air_temp_k  ...  \\\n",
       "1451  0.292514                 55.30             299.334286  ...   \n",
       "1452  0.225657                 86.47             298.330000  ...   \n",
       "1453  0.233714                 58.94             296.598571  ...   \n",
       "1454  0.325486                 59.67             296.345714  ...   \n",
       "1455  0.315757                 63.22             298.097143  ...   \n",
       "\n",
       "      reanalysis_precip_amt_kg_per_m2  reanalysis_relative_humidity_percent  \\\n",
       "1451                            45.00                             88.765714   \n",
       "1452                           207.10                             91.600000   \n",
       "1453                            50.60                             94.280000   \n",
       "1454                            62.33                             94.660000   \n",
       "1455                            36.90                             89.082857   \n",
       "\n",
       "      reanalysis_sat_precip_amt_mm  reanalysis_specific_humidity_g_per_kg  \\\n",
       "1451                         55.30                              18.485714   \n",
       "1452                         86.47                              18.070000   \n",
       "1453                         58.94                              17.008571   \n",
       "1454                         59.67                              16.815714   \n",
       "1455                         63.22                              17.355714   \n",
       "\n",
       "      reanalysis_tdtr_k  station_avg_temp_c  station_diur_temp_rng_c  \\\n",
       "1451           9.800000           28.633333                11.933333   \n",
       "1452           7.471429           27.433333                10.500000   \n",
       "1453           7.500000           24.400000                 6.900000   \n",
       "1454           7.871429           25.433333                 8.733333   \n",
       "1455          11.014286           27.475000                 9.900000   \n",
       "\n",
       "      station_max_temp_c  station_min_temp_c  station_precip_mm  \n",
       "1451                35.4                22.4               27.0  \n",
       "1452                34.7                21.7               36.6  \n",
       "1453                32.2                19.2                7.4  \n",
       "1454                31.2                21.0               16.0  \n",
       "1455                33.7                22.2               20.4  \n",
       "\n",
       "[5 rows x 24 columns]"
      ]
     },
     "execution_count": 4,
     "metadata": {},
     "output_type": "execute_result"
    }
   ],
   "source": [
    "df_train.tail()"
   ]
  },
  {
   "cell_type": "code",
   "execution_count": 5,
   "metadata": {
    "hidden": true
   },
   "outputs": [],
   "source": [
    "train_labels = pd.read_csv('source_data/dengue_labels_train.csv')"
   ]
  },
  {
   "cell_type": "code",
   "execution_count": 6,
   "metadata": {
    "hidden": true
   },
   "outputs": [
    {
     "data": {
      "text/html": [
       "<div>\n",
       "<style scoped>\n",
       "    .dataframe tbody tr th:only-of-type {\n",
       "        vertical-align: middle;\n",
       "    }\n",
       "\n",
       "    .dataframe tbody tr th {\n",
       "        vertical-align: top;\n",
       "    }\n",
       "\n",
       "    .dataframe thead th {\n",
       "        text-align: right;\n",
       "    }\n",
       "</style>\n",
       "<table border=\"1\" class=\"dataframe\">\n",
       "  <thead>\n",
       "    <tr style=\"text-align: right;\">\n",
       "      <th></th>\n",
       "      <th>city</th>\n",
       "      <th>year</th>\n",
       "      <th>weekofyear</th>\n",
       "      <th>total_cases</th>\n",
       "    </tr>\n",
       "  </thead>\n",
       "  <tbody>\n",
       "    <tr>\n",
       "      <td>0</td>\n",
       "      <td>sj</td>\n",
       "      <td>1990</td>\n",
       "      <td>18</td>\n",
       "      <td>4</td>\n",
       "    </tr>\n",
       "    <tr>\n",
       "      <td>1</td>\n",
       "      <td>sj</td>\n",
       "      <td>1990</td>\n",
       "      <td>19</td>\n",
       "      <td>5</td>\n",
       "    </tr>\n",
       "    <tr>\n",
       "      <td>2</td>\n",
       "      <td>sj</td>\n",
       "      <td>1990</td>\n",
       "      <td>20</td>\n",
       "      <td>4</td>\n",
       "    </tr>\n",
       "    <tr>\n",
       "      <td>3</td>\n",
       "      <td>sj</td>\n",
       "      <td>1990</td>\n",
       "      <td>21</td>\n",
       "      <td>3</td>\n",
       "    </tr>\n",
       "    <tr>\n",
       "      <td>4</td>\n",
       "      <td>sj</td>\n",
       "      <td>1990</td>\n",
       "      <td>22</td>\n",
       "      <td>6</td>\n",
       "    </tr>\n",
       "  </tbody>\n",
       "</table>\n",
       "</div>"
      ],
      "text/plain": [
       "  city  year  weekofyear  total_cases\n",
       "0   sj  1990          18            4\n",
       "1   sj  1990          19            5\n",
       "2   sj  1990          20            4\n",
       "3   sj  1990          21            3\n",
       "4   sj  1990          22            6"
      ]
     },
     "execution_count": 6,
     "metadata": {},
     "output_type": "execute_result"
    }
   ],
   "source": [
    "train_labels.head()"
   ]
  },
  {
   "cell_type": "code",
   "execution_count": 7,
   "metadata": {
    "hidden": true
   },
   "outputs": [
    {
     "data": {
      "text/plain": [
       "array([1990, 1991, 1992, 1993, 1994, 1995, 1996, 1997, 1998, 1999, 2000,\n",
       "       2001, 2002, 2003, 2004, 2005, 2006, 2007, 2008, 2009, 2010])"
      ]
     },
     "execution_count": 7,
     "metadata": {},
     "output_type": "execute_result"
    }
   ],
   "source": [
    "train_labels['year'].unique()"
   ]
  },
  {
   "cell_type": "code",
   "execution_count": 8,
   "metadata": {
    "hidden": true
   },
   "outputs": [
    {
     "data": {
      "text/plain": [
       "Index(['city', 'year', 'weekofyear', 'week_start_date', 'ndvi_ne', 'ndvi_nw',\n",
       "       'ndvi_se', 'ndvi_sw', 'precipitation_amt_mm', 'reanalysis_air_temp_k',\n",
       "       'reanalysis_avg_temp_k', 'reanalysis_dew_point_temp_k',\n",
       "       'reanalysis_max_air_temp_k', 'reanalysis_min_air_temp_k',\n",
       "       'reanalysis_precip_amt_kg_per_m2',\n",
       "       'reanalysis_relative_humidity_percent', 'reanalysis_sat_precip_amt_mm',\n",
       "       'reanalysis_specific_humidity_g_per_kg', 'reanalysis_tdtr_k',\n",
       "       'station_avg_temp_c', 'station_diur_temp_rng_c', 'station_max_temp_c',\n",
       "       'station_min_temp_c', 'station_precip_mm'],\n",
       "      dtype='object')"
      ]
     },
     "execution_count": 8,
     "metadata": {},
     "output_type": "execute_result"
    }
   ],
   "source": [
    "df_train.columns"
   ]
  },
  {
   "cell_type": "code",
   "execution_count": 9,
   "metadata": {
    "hidden": true
   },
   "outputs": [
    {
     "name": "stdout",
     "output_type": "stream",
     "text": [
      "<class 'pandas.core.frame.DataFrame'>\n",
      "RangeIndex: 1456 entries, 0 to 1455\n",
      "Data columns (total 24 columns):\n",
      "city                                     1456 non-null object\n",
      "year                                     1456 non-null int64\n",
      "weekofyear                               1456 non-null int64\n",
      "week_start_date                          1456 non-null object\n",
      "ndvi_ne                                  1262 non-null float64\n",
      "ndvi_nw                                  1404 non-null float64\n",
      "ndvi_se                                  1434 non-null float64\n",
      "ndvi_sw                                  1434 non-null float64\n",
      "precipitation_amt_mm                     1443 non-null float64\n",
      "reanalysis_air_temp_k                    1446 non-null float64\n",
      "reanalysis_avg_temp_k                    1446 non-null float64\n",
      "reanalysis_dew_point_temp_k              1446 non-null float64\n",
      "reanalysis_max_air_temp_k                1446 non-null float64\n",
      "reanalysis_min_air_temp_k                1446 non-null float64\n",
      "reanalysis_precip_amt_kg_per_m2          1446 non-null float64\n",
      "reanalysis_relative_humidity_percent     1446 non-null float64\n",
      "reanalysis_sat_precip_amt_mm             1443 non-null float64\n",
      "reanalysis_specific_humidity_g_per_kg    1446 non-null float64\n",
      "reanalysis_tdtr_k                        1446 non-null float64\n",
      "station_avg_temp_c                       1413 non-null float64\n",
      "station_diur_temp_rng_c                  1413 non-null float64\n",
      "station_max_temp_c                       1436 non-null float64\n",
      "station_min_temp_c                       1442 non-null float64\n",
      "station_precip_mm                        1434 non-null float64\n",
      "dtypes: float64(20), int64(2), object(2)\n",
      "memory usage: 273.1+ KB\n"
     ]
    }
   ],
   "source": [
    "df_train.info()"
   ]
  },
  {
   "cell_type": "code",
   "execution_count": 10,
   "metadata": {
    "hidden": true
   },
   "outputs": [],
   "source": [
    "# try making a new column instead\n",
    "df_train['week_start_temp'] = pd.to_datetime(df_train['week_start_date'])"
   ]
  },
  {
   "cell_type": "code",
   "execution_count": 11,
   "metadata": {
    "hidden": true
   },
   "outputs": [
    {
     "data": {
      "text/plain": [
       "0   1990-04-30\n",
       "1   1990-05-07\n",
       "2   1990-05-14\n",
       "3   1990-05-21\n",
       "4   1990-05-28\n",
       "Name: week_start_temp, dtype: datetime64[ns]"
      ]
     },
     "execution_count": 11,
     "metadata": {},
     "output_type": "execute_result"
    }
   ],
   "source": [
    "df_train['week_start_temp'].head()"
   ]
  },
  {
   "cell_type": "code",
   "execution_count": 12,
   "metadata": {
    "hidden": true
   },
   "outputs": [
    {
     "data": {
      "text/plain": [
       "1451   2010-05-28\n",
       "1452   2010-06-04\n",
       "1453   2010-06-11\n",
       "1454   2010-06-18\n",
       "1455   2010-06-25\n",
       "Name: week_start_temp, dtype: datetime64[ns]"
      ]
     },
     "execution_count": 12,
     "metadata": {},
     "output_type": "execute_result"
    }
   ],
   "source": [
    "df_train['week_start_temp'].tail()"
   ]
  },
  {
   "cell_type": "code",
   "execution_count": 13,
   "metadata": {
    "hidden": true
   },
   "outputs": [],
   "source": [
    "# drop old week_start_date\n",
    "df_train = df_train.drop('week_start_date', axis = 1)"
   ]
  },
  {
   "cell_type": "code",
   "execution_count": 14,
   "metadata": {
    "hidden": true
   },
   "outputs": [],
   "source": [
    "# rename week_start_temp\n",
    "df_train.rename(columns={'week_start_temp': 'week_start_date'}, inplace=True)\n"
   ]
  },
  {
   "cell_type": "code",
   "execution_count": 15,
   "metadata": {
    "hidden": true
   },
   "outputs": [],
   "source": [
    "# rearrange the columns\n",
    "cols = df_train.columns.to_list()\n",
    "cols = cols[-1:] + cols[:-1]\n"
   ]
  },
  {
   "cell_type": "code",
   "execution_count": 16,
   "metadata": {
    "hidden": true
   },
   "outputs": [],
   "source": [
    "df_train = df_train[cols]\n"
   ]
  },
  {
   "cell_type": "code",
   "execution_count": 17,
   "metadata": {
    "hidden": true
   },
   "outputs": [
    {
     "data": {
      "text/html": [
       "<div>\n",
       "<style scoped>\n",
       "    .dataframe tbody tr th:only-of-type {\n",
       "        vertical-align: middle;\n",
       "    }\n",
       "\n",
       "    .dataframe tbody tr th {\n",
       "        vertical-align: top;\n",
       "    }\n",
       "\n",
       "    .dataframe thead th {\n",
       "        text-align: right;\n",
       "    }\n",
       "</style>\n",
       "<table border=\"1\" class=\"dataframe\">\n",
       "  <thead>\n",
       "    <tr style=\"text-align: right;\">\n",
       "      <th></th>\n",
       "      <th>week_start_date</th>\n",
       "      <th>city</th>\n",
       "      <th>year</th>\n",
       "      <th>weekofyear</th>\n",
       "      <th>ndvi_ne</th>\n",
       "      <th>ndvi_nw</th>\n",
       "      <th>ndvi_se</th>\n",
       "      <th>ndvi_sw</th>\n",
       "      <th>precipitation_amt_mm</th>\n",
       "      <th>reanalysis_air_temp_k</th>\n",
       "      <th>...</th>\n",
       "      <th>reanalysis_precip_amt_kg_per_m2</th>\n",
       "      <th>reanalysis_relative_humidity_percent</th>\n",
       "      <th>reanalysis_sat_precip_amt_mm</th>\n",
       "      <th>reanalysis_specific_humidity_g_per_kg</th>\n",
       "      <th>reanalysis_tdtr_k</th>\n",
       "      <th>station_avg_temp_c</th>\n",
       "      <th>station_diur_temp_rng_c</th>\n",
       "      <th>station_max_temp_c</th>\n",
       "      <th>station_min_temp_c</th>\n",
       "      <th>station_precip_mm</th>\n",
       "    </tr>\n",
       "  </thead>\n",
       "  <tbody>\n",
       "    <tr>\n",
       "      <td>0</td>\n",
       "      <td>1990-04-30</td>\n",
       "      <td>sj</td>\n",
       "      <td>1990</td>\n",
       "      <td>18</td>\n",
       "      <td>0.122600</td>\n",
       "      <td>0.103725</td>\n",
       "      <td>0.198483</td>\n",
       "      <td>0.177617</td>\n",
       "      <td>12.42</td>\n",
       "      <td>297.572857</td>\n",
       "      <td>...</td>\n",
       "      <td>32.00</td>\n",
       "      <td>73.365714</td>\n",
       "      <td>12.42</td>\n",
       "      <td>14.012857</td>\n",
       "      <td>2.628571</td>\n",
       "      <td>25.442857</td>\n",
       "      <td>6.900000</td>\n",
       "      <td>29.4</td>\n",
       "      <td>20.0</td>\n",
       "      <td>16.0</td>\n",
       "    </tr>\n",
       "    <tr>\n",
       "      <td>1</td>\n",
       "      <td>1990-05-07</td>\n",
       "      <td>sj</td>\n",
       "      <td>1990</td>\n",
       "      <td>19</td>\n",
       "      <td>0.169900</td>\n",
       "      <td>0.142175</td>\n",
       "      <td>0.162357</td>\n",
       "      <td>0.155486</td>\n",
       "      <td>22.82</td>\n",
       "      <td>298.211429</td>\n",
       "      <td>...</td>\n",
       "      <td>17.94</td>\n",
       "      <td>77.368571</td>\n",
       "      <td>22.82</td>\n",
       "      <td>15.372857</td>\n",
       "      <td>2.371429</td>\n",
       "      <td>26.714286</td>\n",
       "      <td>6.371429</td>\n",
       "      <td>31.7</td>\n",
       "      <td>22.2</td>\n",
       "      <td>8.6</td>\n",
       "    </tr>\n",
       "    <tr>\n",
       "      <td>2</td>\n",
       "      <td>1990-05-14</td>\n",
       "      <td>sj</td>\n",
       "      <td>1990</td>\n",
       "      <td>20</td>\n",
       "      <td>0.032250</td>\n",
       "      <td>0.172967</td>\n",
       "      <td>0.157200</td>\n",
       "      <td>0.170843</td>\n",
       "      <td>34.54</td>\n",
       "      <td>298.781429</td>\n",
       "      <td>...</td>\n",
       "      <td>26.10</td>\n",
       "      <td>82.052857</td>\n",
       "      <td>34.54</td>\n",
       "      <td>16.848571</td>\n",
       "      <td>2.300000</td>\n",
       "      <td>26.714286</td>\n",
       "      <td>6.485714</td>\n",
       "      <td>32.2</td>\n",
       "      <td>22.8</td>\n",
       "      <td>41.4</td>\n",
       "    </tr>\n",
       "    <tr>\n",
       "      <td>3</td>\n",
       "      <td>1990-05-21</td>\n",
       "      <td>sj</td>\n",
       "      <td>1990</td>\n",
       "      <td>21</td>\n",
       "      <td>0.128633</td>\n",
       "      <td>0.245067</td>\n",
       "      <td>0.227557</td>\n",
       "      <td>0.235886</td>\n",
       "      <td>15.36</td>\n",
       "      <td>298.987143</td>\n",
       "      <td>...</td>\n",
       "      <td>13.90</td>\n",
       "      <td>80.337143</td>\n",
       "      <td>15.36</td>\n",
       "      <td>16.672857</td>\n",
       "      <td>2.428571</td>\n",
       "      <td>27.471429</td>\n",
       "      <td>6.771429</td>\n",
       "      <td>33.3</td>\n",
       "      <td>23.3</td>\n",
       "      <td>4.0</td>\n",
       "    </tr>\n",
       "    <tr>\n",
       "      <td>4</td>\n",
       "      <td>1990-05-28</td>\n",
       "      <td>sj</td>\n",
       "      <td>1990</td>\n",
       "      <td>22</td>\n",
       "      <td>0.196200</td>\n",
       "      <td>0.262200</td>\n",
       "      <td>0.251200</td>\n",
       "      <td>0.247340</td>\n",
       "      <td>7.52</td>\n",
       "      <td>299.518571</td>\n",
       "      <td>...</td>\n",
       "      <td>12.20</td>\n",
       "      <td>80.460000</td>\n",
       "      <td>7.52</td>\n",
       "      <td>17.210000</td>\n",
       "      <td>3.014286</td>\n",
       "      <td>28.942857</td>\n",
       "      <td>9.371429</td>\n",
       "      <td>35.0</td>\n",
       "      <td>23.9</td>\n",
       "      <td>5.8</td>\n",
       "    </tr>\n",
       "  </tbody>\n",
       "</table>\n",
       "<p>5 rows × 24 columns</p>\n",
       "</div>"
      ],
      "text/plain": [
       "  week_start_date city  year  weekofyear   ndvi_ne   ndvi_nw   ndvi_se  \\\n",
       "0      1990-04-30   sj  1990          18  0.122600  0.103725  0.198483   \n",
       "1      1990-05-07   sj  1990          19  0.169900  0.142175  0.162357   \n",
       "2      1990-05-14   sj  1990          20  0.032250  0.172967  0.157200   \n",
       "3      1990-05-21   sj  1990          21  0.128633  0.245067  0.227557   \n",
       "4      1990-05-28   sj  1990          22  0.196200  0.262200  0.251200   \n",
       "\n",
       "    ndvi_sw  precipitation_amt_mm  reanalysis_air_temp_k  ...  \\\n",
       "0  0.177617                 12.42             297.572857  ...   \n",
       "1  0.155486                 22.82             298.211429  ...   \n",
       "2  0.170843                 34.54             298.781429  ...   \n",
       "3  0.235886                 15.36             298.987143  ...   \n",
       "4  0.247340                  7.52             299.518571  ...   \n",
       "\n",
       "   reanalysis_precip_amt_kg_per_m2  reanalysis_relative_humidity_percent  \\\n",
       "0                            32.00                             73.365714   \n",
       "1                            17.94                             77.368571   \n",
       "2                            26.10                             82.052857   \n",
       "3                            13.90                             80.337143   \n",
       "4                            12.20                             80.460000   \n",
       "\n",
       "   reanalysis_sat_precip_amt_mm  reanalysis_specific_humidity_g_per_kg  \\\n",
       "0                         12.42                              14.012857   \n",
       "1                         22.82                              15.372857   \n",
       "2                         34.54                              16.848571   \n",
       "3                         15.36                              16.672857   \n",
       "4                          7.52                              17.210000   \n",
       "\n",
       "   reanalysis_tdtr_k  station_avg_temp_c  station_diur_temp_rng_c  \\\n",
       "0           2.628571           25.442857                 6.900000   \n",
       "1           2.371429           26.714286                 6.371429   \n",
       "2           2.300000           26.714286                 6.485714   \n",
       "3           2.428571           27.471429                 6.771429   \n",
       "4           3.014286           28.942857                 9.371429   \n",
       "\n",
       "   station_max_temp_c  station_min_temp_c  station_precip_mm  \n",
       "0                29.4                20.0               16.0  \n",
       "1                31.7                22.2                8.6  \n",
       "2                32.2                22.8               41.4  \n",
       "3                33.3                23.3                4.0  \n",
       "4                35.0                23.9                5.8  \n",
       "\n",
       "[5 rows x 24 columns]"
      ]
     },
     "execution_count": 17,
     "metadata": {},
     "output_type": "execute_result"
    }
   ],
   "source": [
    "df_train.head()"
   ]
  },
  {
   "cell_type": "code",
   "execution_count": 18,
   "metadata": {
    "hidden": true
   },
   "outputs": [
    {
     "data": {
      "text/html": [
       "<div>\n",
       "<style scoped>\n",
       "    .dataframe tbody tr th:only-of-type {\n",
       "        vertical-align: middle;\n",
       "    }\n",
       "\n",
       "    .dataframe tbody tr th {\n",
       "        vertical-align: top;\n",
       "    }\n",
       "\n",
       "    .dataframe thead th {\n",
       "        text-align: right;\n",
       "    }\n",
       "</style>\n",
       "<table border=\"1\" class=\"dataframe\">\n",
       "  <thead>\n",
       "    <tr style=\"text-align: right;\">\n",
       "      <th></th>\n",
       "      <th>week_start_date</th>\n",
       "      <th>city</th>\n",
       "      <th>year</th>\n",
       "      <th>weekofyear</th>\n",
       "      <th>ndvi_ne</th>\n",
       "      <th>ndvi_nw</th>\n",
       "      <th>ndvi_se</th>\n",
       "      <th>ndvi_sw</th>\n",
       "      <th>precipitation_amt_mm</th>\n",
       "      <th>reanalysis_air_temp_k</th>\n",
       "      <th>...</th>\n",
       "      <th>reanalysis_precip_amt_kg_per_m2</th>\n",
       "      <th>reanalysis_relative_humidity_percent</th>\n",
       "      <th>reanalysis_sat_precip_amt_mm</th>\n",
       "      <th>reanalysis_specific_humidity_g_per_kg</th>\n",
       "      <th>reanalysis_tdtr_k</th>\n",
       "      <th>station_avg_temp_c</th>\n",
       "      <th>station_diur_temp_rng_c</th>\n",
       "      <th>station_max_temp_c</th>\n",
       "      <th>station_min_temp_c</th>\n",
       "      <th>station_precip_mm</th>\n",
       "    </tr>\n",
       "  </thead>\n",
       "  <tbody>\n",
       "    <tr>\n",
       "      <td>1451</td>\n",
       "      <td>2010-05-28</td>\n",
       "      <td>iq</td>\n",
       "      <td>2010</td>\n",
       "      <td>21</td>\n",
       "      <td>0.342750</td>\n",
       "      <td>0.318900</td>\n",
       "      <td>0.256343</td>\n",
       "      <td>0.292514</td>\n",
       "      <td>55.30</td>\n",
       "      <td>299.334286</td>\n",
       "      <td>...</td>\n",
       "      <td>45.00</td>\n",
       "      <td>88.765714</td>\n",
       "      <td>55.30</td>\n",
       "      <td>18.485714</td>\n",
       "      <td>9.800000</td>\n",
       "      <td>28.633333</td>\n",
       "      <td>11.933333</td>\n",
       "      <td>35.4</td>\n",
       "      <td>22.4</td>\n",
       "      <td>27.0</td>\n",
       "    </tr>\n",
       "    <tr>\n",
       "      <td>1452</td>\n",
       "      <td>2010-06-04</td>\n",
       "      <td>iq</td>\n",
       "      <td>2010</td>\n",
       "      <td>22</td>\n",
       "      <td>0.160157</td>\n",
       "      <td>0.160371</td>\n",
       "      <td>0.136043</td>\n",
       "      <td>0.225657</td>\n",
       "      <td>86.47</td>\n",
       "      <td>298.330000</td>\n",
       "      <td>...</td>\n",
       "      <td>207.10</td>\n",
       "      <td>91.600000</td>\n",
       "      <td>86.47</td>\n",
       "      <td>18.070000</td>\n",
       "      <td>7.471429</td>\n",
       "      <td>27.433333</td>\n",
       "      <td>10.500000</td>\n",
       "      <td>34.7</td>\n",
       "      <td>21.7</td>\n",
       "      <td>36.6</td>\n",
       "    </tr>\n",
       "    <tr>\n",
       "      <td>1453</td>\n",
       "      <td>2010-06-11</td>\n",
       "      <td>iq</td>\n",
       "      <td>2010</td>\n",
       "      <td>23</td>\n",
       "      <td>0.247057</td>\n",
       "      <td>0.146057</td>\n",
       "      <td>0.250357</td>\n",
       "      <td>0.233714</td>\n",
       "      <td>58.94</td>\n",
       "      <td>296.598571</td>\n",
       "      <td>...</td>\n",
       "      <td>50.60</td>\n",
       "      <td>94.280000</td>\n",
       "      <td>58.94</td>\n",
       "      <td>17.008571</td>\n",
       "      <td>7.500000</td>\n",
       "      <td>24.400000</td>\n",
       "      <td>6.900000</td>\n",
       "      <td>32.2</td>\n",
       "      <td>19.2</td>\n",
       "      <td>7.4</td>\n",
       "    </tr>\n",
       "    <tr>\n",
       "      <td>1454</td>\n",
       "      <td>2010-06-18</td>\n",
       "      <td>iq</td>\n",
       "      <td>2010</td>\n",
       "      <td>24</td>\n",
       "      <td>0.333914</td>\n",
       "      <td>0.245771</td>\n",
       "      <td>0.278886</td>\n",
       "      <td>0.325486</td>\n",
       "      <td>59.67</td>\n",
       "      <td>296.345714</td>\n",
       "      <td>...</td>\n",
       "      <td>62.33</td>\n",
       "      <td>94.660000</td>\n",
       "      <td>59.67</td>\n",
       "      <td>16.815714</td>\n",
       "      <td>7.871429</td>\n",
       "      <td>25.433333</td>\n",
       "      <td>8.733333</td>\n",
       "      <td>31.2</td>\n",
       "      <td>21.0</td>\n",
       "      <td>16.0</td>\n",
       "    </tr>\n",
       "    <tr>\n",
       "      <td>1455</td>\n",
       "      <td>2010-06-25</td>\n",
       "      <td>iq</td>\n",
       "      <td>2010</td>\n",
       "      <td>25</td>\n",
       "      <td>0.298186</td>\n",
       "      <td>0.232971</td>\n",
       "      <td>0.274214</td>\n",
       "      <td>0.315757</td>\n",
       "      <td>63.22</td>\n",
       "      <td>298.097143</td>\n",
       "      <td>...</td>\n",
       "      <td>36.90</td>\n",
       "      <td>89.082857</td>\n",
       "      <td>63.22</td>\n",
       "      <td>17.355714</td>\n",
       "      <td>11.014286</td>\n",
       "      <td>27.475000</td>\n",
       "      <td>9.900000</td>\n",
       "      <td>33.7</td>\n",
       "      <td>22.2</td>\n",
       "      <td>20.4</td>\n",
       "    </tr>\n",
       "  </tbody>\n",
       "</table>\n",
       "<p>5 rows × 24 columns</p>\n",
       "</div>"
      ],
      "text/plain": [
       "     week_start_date city  year  weekofyear   ndvi_ne   ndvi_nw   ndvi_se  \\\n",
       "1451      2010-05-28   iq  2010          21  0.342750  0.318900  0.256343   \n",
       "1452      2010-06-04   iq  2010          22  0.160157  0.160371  0.136043   \n",
       "1453      2010-06-11   iq  2010          23  0.247057  0.146057  0.250357   \n",
       "1454      2010-06-18   iq  2010          24  0.333914  0.245771  0.278886   \n",
       "1455      2010-06-25   iq  2010          25  0.298186  0.232971  0.274214   \n",
       "\n",
       "       ndvi_sw  precipitation_amt_mm  reanalysis_air_temp_k  ...  \\\n",
       "1451  0.292514                 55.30             299.334286  ...   \n",
       "1452  0.225657                 86.47             298.330000  ...   \n",
       "1453  0.233714                 58.94             296.598571  ...   \n",
       "1454  0.325486                 59.67             296.345714  ...   \n",
       "1455  0.315757                 63.22             298.097143  ...   \n",
       "\n",
       "      reanalysis_precip_amt_kg_per_m2  reanalysis_relative_humidity_percent  \\\n",
       "1451                            45.00                             88.765714   \n",
       "1452                           207.10                             91.600000   \n",
       "1453                            50.60                             94.280000   \n",
       "1454                            62.33                             94.660000   \n",
       "1455                            36.90                             89.082857   \n",
       "\n",
       "      reanalysis_sat_precip_amt_mm  reanalysis_specific_humidity_g_per_kg  \\\n",
       "1451                         55.30                              18.485714   \n",
       "1452                         86.47                              18.070000   \n",
       "1453                         58.94                              17.008571   \n",
       "1454                         59.67                              16.815714   \n",
       "1455                         63.22                              17.355714   \n",
       "\n",
       "      reanalysis_tdtr_k  station_avg_temp_c  station_diur_temp_rng_c  \\\n",
       "1451           9.800000           28.633333                11.933333   \n",
       "1452           7.471429           27.433333                10.500000   \n",
       "1453           7.500000           24.400000                 6.900000   \n",
       "1454           7.871429           25.433333                 8.733333   \n",
       "1455          11.014286           27.475000                 9.900000   \n",
       "\n",
       "      station_max_temp_c  station_min_temp_c  station_precip_mm  \n",
       "1451                35.4                22.4               27.0  \n",
       "1452                34.7                21.7               36.6  \n",
       "1453                32.2                19.2                7.4  \n",
       "1454                31.2                21.0               16.0  \n",
       "1455                33.7                22.2               20.4  \n",
       "\n",
       "[5 rows x 24 columns]"
      ]
     },
     "execution_count": 18,
     "metadata": {},
     "output_type": "execute_result"
    }
   ],
   "source": [
    "df_train.tail()"
   ]
  },
  {
   "cell_type": "code",
   "execution_count": 19,
   "metadata": {
    "hidden": true
   },
   "outputs": [],
   "source": [
    "# df_sj = df_train[df_train['city'] == 'sj']  #this creates a slice of the dataframe, not a new dataframe\n",
    "# df_iq = df_train[df_train['city'] == 'iq']  #this creates a slice of the dataframe, not a new dataframe"
   ]
  },
  {
   "cell_type": "code",
   "execution_count": 20,
   "metadata": {
    "hidden": true
   },
   "outputs": [],
   "source": [
    "# make seperate training dataframes for each city\n",
    "df_sj = df_train.copy()\n",
    "df_iq = df_train.copy()"
   ]
  },
  {
   "cell_type": "code",
   "execution_count": 21,
   "metadata": {
    "hidden": true
   },
   "outputs": [],
   "source": [
    "df_sj.drop(df_sj[df_sj['city'] != 'sj'].index, inplace=True)\n",
    "df_iq.drop(df_iq[df_iq['city'] != 'iq'].index, inplace=True)\n"
   ]
  },
  {
   "cell_type": "code",
   "execution_count": 22,
   "metadata": {
    "hidden": true
   },
   "outputs": [],
   "source": [
    "# make seperate training labels dateframes for each city\n",
    "sj_train_labels = train_labels.copy()\n",
    "iq_train_labels = train_labels.copy()\n",
    "\n",
    "sj_train_labels.drop(sj_train_labels[sj_train_labels['city'] != 'sj'].index, inplace=True)\n",
    "iq_train_labels.drop(iq_train_labels[iq_train_labels['city'] != 'iq'].index, inplace=True)"
   ]
  },
  {
   "cell_type": "code",
   "execution_count": 23,
   "metadata": {
    "hidden": true
   },
   "outputs": [],
   "source": [
    "\n",
    "sj_train_labels = sj_train_labels.drop('city', axis = 1)\n",
    "iq_train_labels = iq_train_labels.drop('city', axis = 1)"
   ]
  },
  {
   "cell_type": "code",
   "execution_count": 24,
   "metadata": {
    "hidden": true
   },
   "outputs": [
    {
     "data": {
      "text/html": [
       "<div>\n",
       "<style scoped>\n",
       "    .dataframe tbody tr th:only-of-type {\n",
       "        vertical-align: middle;\n",
       "    }\n",
       "\n",
       "    .dataframe tbody tr th {\n",
       "        vertical-align: top;\n",
       "    }\n",
       "\n",
       "    .dataframe thead th {\n",
       "        text-align: right;\n",
       "    }\n",
       "</style>\n",
       "<table border=\"1\" class=\"dataframe\">\n",
       "  <thead>\n",
       "    <tr style=\"text-align: right;\">\n",
       "      <th></th>\n",
       "      <th>year</th>\n",
       "      <th>weekofyear</th>\n",
       "      <th>total_cases</th>\n",
       "    </tr>\n",
       "  </thead>\n",
       "  <tbody>\n",
       "    <tr>\n",
       "      <td>931</td>\n",
       "      <td>2008</td>\n",
       "      <td>13</td>\n",
       "      <td>4</td>\n",
       "    </tr>\n",
       "    <tr>\n",
       "      <td>932</td>\n",
       "      <td>2008</td>\n",
       "      <td>14</td>\n",
       "      <td>3</td>\n",
       "    </tr>\n",
       "    <tr>\n",
       "      <td>933</td>\n",
       "      <td>2008</td>\n",
       "      <td>15</td>\n",
       "      <td>1</td>\n",
       "    </tr>\n",
       "    <tr>\n",
       "      <td>934</td>\n",
       "      <td>2008</td>\n",
       "      <td>16</td>\n",
       "      <td>3</td>\n",
       "    </tr>\n",
       "    <tr>\n",
       "      <td>935</td>\n",
       "      <td>2008</td>\n",
       "      <td>17</td>\n",
       "      <td>5</td>\n",
       "    </tr>\n",
       "  </tbody>\n",
       "</table>\n",
       "</div>"
      ],
      "text/plain": [
       "     year  weekofyear  total_cases\n",
       "931  2008          13            4\n",
       "932  2008          14            3\n",
       "933  2008          15            1\n",
       "934  2008          16            3\n",
       "935  2008          17            5"
      ]
     },
     "execution_count": 24,
     "metadata": {},
     "output_type": "execute_result"
    }
   ],
   "source": [
    "sj_train_labels.tail()"
   ]
  },
  {
   "cell_type": "code",
   "execution_count": 25,
   "metadata": {
    "hidden": true
   },
   "outputs": [
    {
     "data": {
      "text/html": [
       "<div>\n",
       "<style scoped>\n",
       "    .dataframe tbody tr th:only-of-type {\n",
       "        vertical-align: middle;\n",
       "    }\n",
       "\n",
       "    .dataframe tbody tr th {\n",
       "        vertical-align: top;\n",
       "    }\n",
       "\n",
       "    .dataframe thead th {\n",
       "        text-align: right;\n",
       "    }\n",
       "</style>\n",
       "<table border=\"1\" class=\"dataframe\">\n",
       "  <thead>\n",
       "    <tr style=\"text-align: right;\">\n",
       "      <th></th>\n",
       "      <th>year</th>\n",
       "      <th>weekofyear</th>\n",
       "      <th>total_cases</th>\n",
       "    </tr>\n",
       "  </thead>\n",
       "  <tbody>\n",
       "    <tr>\n",
       "      <td>936</td>\n",
       "      <td>2000</td>\n",
       "      <td>26</td>\n",
       "      <td>0</td>\n",
       "    </tr>\n",
       "    <tr>\n",
       "      <td>937</td>\n",
       "      <td>2000</td>\n",
       "      <td>27</td>\n",
       "      <td>0</td>\n",
       "    </tr>\n",
       "    <tr>\n",
       "      <td>938</td>\n",
       "      <td>2000</td>\n",
       "      <td>28</td>\n",
       "      <td>0</td>\n",
       "    </tr>\n",
       "    <tr>\n",
       "      <td>939</td>\n",
       "      <td>2000</td>\n",
       "      <td>29</td>\n",
       "      <td>0</td>\n",
       "    </tr>\n",
       "    <tr>\n",
       "      <td>940</td>\n",
       "      <td>2000</td>\n",
       "      <td>30</td>\n",
       "      <td>0</td>\n",
       "    </tr>\n",
       "  </tbody>\n",
       "</table>\n",
       "</div>"
      ],
      "text/plain": [
       "     year  weekofyear  total_cases\n",
       "936  2000          26            0\n",
       "937  2000          27            0\n",
       "938  2000          28            0\n",
       "939  2000          29            0\n",
       "940  2000          30            0"
      ]
     },
     "execution_count": 25,
     "metadata": {},
     "output_type": "execute_result"
    }
   ],
   "source": [
    "iq_train_labels.head()"
   ]
  },
  {
   "cell_type": "code",
   "execution_count": 26,
   "metadata": {
    "hidden": true
   },
   "outputs": [
    {
     "data": {
      "text/html": [
       "<div>\n",
       "<style scoped>\n",
       "    .dataframe tbody tr th:only-of-type {\n",
       "        vertical-align: middle;\n",
       "    }\n",
       "\n",
       "    .dataframe tbody tr th {\n",
       "        vertical-align: top;\n",
       "    }\n",
       "\n",
       "    .dataframe thead th {\n",
       "        text-align: right;\n",
       "    }\n",
       "</style>\n",
       "<table border=\"1\" class=\"dataframe\">\n",
       "  <thead>\n",
       "    <tr style=\"text-align: right;\">\n",
       "      <th></th>\n",
       "      <th>week_start_date</th>\n",
       "      <th>city</th>\n",
       "      <th>year</th>\n",
       "      <th>weekofyear</th>\n",
       "      <th>ndvi_ne</th>\n",
       "      <th>ndvi_nw</th>\n",
       "      <th>ndvi_se</th>\n",
       "      <th>ndvi_sw</th>\n",
       "      <th>precipitation_amt_mm</th>\n",
       "      <th>reanalysis_air_temp_k</th>\n",
       "      <th>...</th>\n",
       "      <th>reanalysis_precip_amt_kg_per_m2</th>\n",
       "      <th>reanalysis_relative_humidity_percent</th>\n",
       "      <th>reanalysis_sat_precip_amt_mm</th>\n",
       "      <th>reanalysis_specific_humidity_g_per_kg</th>\n",
       "      <th>reanalysis_tdtr_k</th>\n",
       "      <th>station_avg_temp_c</th>\n",
       "      <th>station_diur_temp_rng_c</th>\n",
       "      <th>station_max_temp_c</th>\n",
       "      <th>station_min_temp_c</th>\n",
       "      <th>station_precip_mm</th>\n",
       "    </tr>\n",
       "  </thead>\n",
       "  <tbody>\n",
       "    <tr>\n",
       "      <td>931</td>\n",
       "      <td>2008-03-25</td>\n",
       "      <td>sj</td>\n",
       "      <td>2008</td>\n",
       "      <td>13</td>\n",
       "      <td>0.07785</td>\n",
       "      <td>-0.039900</td>\n",
       "      <td>0.310471</td>\n",
       "      <td>0.296243</td>\n",
       "      <td>27.19</td>\n",
       "      <td>296.958571</td>\n",
       "      <td>...</td>\n",
       "      <td>7.55</td>\n",
       "      <td>74.247143</td>\n",
       "      <td>27.19</td>\n",
       "      <td>13.644286</td>\n",
       "      <td>2.885714</td>\n",
       "      <td>25.042857</td>\n",
       "      <td>5.785714</td>\n",
       "      <td>30.0</td>\n",
       "      <td>21.1</td>\n",
       "      <td>1.8</td>\n",
       "    </tr>\n",
       "    <tr>\n",
       "      <td>932</td>\n",
       "      <td>2008-04-01</td>\n",
       "      <td>sj</td>\n",
       "      <td>2008</td>\n",
       "      <td>14</td>\n",
       "      <td>-0.03800</td>\n",
       "      <td>-0.016833</td>\n",
       "      <td>0.119371</td>\n",
       "      <td>0.066386</td>\n",
       "      <td>3.82</td>\n",
       "      <td>298.081429</td>\n",
       "      <td>...</td>\n",
       "      <td>3.67</td>\n",
       "      <td>74.600000</td>\n",
       "      <td>3.82</td>\n",
       "      <td>14.662857</td>\n",
       "      <td>2.714286</td>\n",
       "      <td>26.242857</td>\n",
       "      <td>6.814286</td>\n",
       "      <td>30.6</td>\n",
       "      <td>22.2</td>\n",
       "      <td>0.5</td>\n",
       "    </tr>\n",
       "    <tr>\n",
       "      <td>933</td>\n",
       "      <td>2008-04-08</td>\n",
       "      <td>sj</td>\n",
       "      <td>2008</td>\n",
       "      <td>15</td>\n",
       "      <td>-0.15520</td>\n",
       "      <td>-0.052750</td>\n",
       "      <td>0.137757</td>\n",
       "      <td>0.141214</td>\n",
       "      <td>16.96</td>\n",
       "      <td>297.460000</td>\n",
       "      <td>...</td>\n",
       "      <td>35.00</td>\n",
       "      <td>75.027143</td>\n",
       "      <td>16.96</td>\n",
       "      <td>14.184286</td>\n",
       "      <td>2.185714</td>\n",
       "      <td>25.000000</td>\n",
       "      <td>5.714286</td>\n",
       "      <td>29.4</td>\n",
       "      <td>21.7</td>\n",
       "      <td>30.7</td>\n",
       "    </tr>\n",
       "    <tr>\n",
       "      <td>934</td>\n",
       "      <td>2008-04-15</td>\n",
       "      <td>sj</td>\n",
       "      <td>2008</td>\n",
       "      <td>16</td>\n",
       "      <td>0.00180</td>\n",
       "      <td>NaN</td>\n",
       "      <td>0.203900</td>\n",
       "      <td>0.209843</td>\n",
       "      <td>0.00</td>\n",
       "      <td>297.630000</td>\n",
       "      <td>...</td>\n",
       "      <td>4.82</td>\n",
       "      <td>72.285714</td>\n",
       "      <td>0.00</td>\n",
       "      <td>13.858571</td>\n",
       "      <td>2.785714</td>\n",
       "      <td>25.314286</td>\n",
       "      <td>6.242857</td>\n",
       "      <td>29.4</td>\n",
       "      <td>21.7</td>\n",
       "      <td>11.2</td>\n",
       "    </tr>\n",
       "    <tr>\n",
       "      <td>935</td>\n",
       "      <td>2008-04-22</td>\n",
       "      <td>sj</td>\n",
       "      <td>2008</td>\n",
       "      <td>17</td>\n",
       "      <td>-0.03700</td>\n",
       "      <td>-0.010367</td>\n",
       "      <td>0.077314</td>\n",
       "      <td>0.090586</td>\n",
       "      <td>0.00</td>\n",
       "      <td>298.672857</td>\n",
       "      <td>...</td>\n",
       "      <td>2.17</td>\n",
       "      <td>76.960000</td>\n",
       "      <td>0.00</td>\n",
       "      <td>15.671429</td>\n",
       "      <td>3.957143</td>\n",
       "      <td>27.042857</td>\n",
       "      <td>7.514286</td>\n",
       "      <td>31.7</td>\n",
       "      <td>23.3</td>\n",
       "      <td>0.3</td>\n",
       "    </tr>\n",
       "  </tbody>\n",
       "</table>\n",
       "<p>5 rows × 24 columns</p>\n",
       "</div>"
      ],
      "text/plain": [
       "    week_start_date city  year  weekofyear  ndvi_ne   ndvi_nw   ndvi_se  \\\n",
       "931      2008-03-25   sj  2008          13  0.07785 -0.039900  0.310471   \n",
       "932      2008-04-01   sj  2008          14 -0.03800 -0.016833  0.119371   \n",
       "933      2008-04-08   sj  2008          15 -0.15520 -0.052750  0.137757   \n",
       "934      2008-04-15   sj  2008          16  0.00180       NaN  0.203900   \n",
       "935      2008-04-22   sj  2008          17 -0.03700 -0.010367  0.077314   \n",
       "\n",
       "      ndvi_sw  precipitation_amt_mm  reanalysis_air_temp_k  ...  \\\n",
       "931  0.296243                 27.19             296.958571  ...   \n",
       "932  0.066386                  3.82             298.081429  ...   \n",
       "933  0.141214                 16.96             297.460000  ...   \n",
       "934  0.209843                  0.00             297.630000  ...   \n",
       "935  0.090586                  0.00             298.672857  ...   \n",
       "\n",
       "     reanalysis_precip_amt_kg_per_m2  reanalysis_relative_humidity_percent  \\\n",
       "931                             7.55                             74.247143   \n",
       "932                             3.67                             74.600000   \n",
       "933                            35.00                             75.027143   \n",
       "934                             4.82                             72.285714   \n",
       "935                             2.17                             76.960000   \n",
       "\n",
       "     reanalysis_sat_precip_amt_mm  reanalysis_specific_humidity_g_per_kg  \\\n",
       "931                         27.19                              13.644286   \n",
       "932                          3.82                              14.662857   \n",
       "933                         16.96                              14.184286   \n",
       "934                          0.00                              13.858571   \n",
       "935                          0.00                              15.671429   \n",
       "\n",
       "     reanalysis_tdtr_k  station_avg_temp_c  station_diur_temp_rng_c  \\\n",
       "931           2.885714           25.042857                 5.785714   \n",
       "932           2.714286           26.242857                 6.814286   \n",
       "933           2.185714           25.000000                 5.714286   \n",
       "934           2.785714           25.314286                 6.242857   \n",
       "935           3.957143           27.042857                 7.514286   \n",
       "\n",
       "     station_max_temp_c  station_min_temp_c  station_precip_mm  \n",
       "931                30.0                21.1                1.8  \n",
       "932                30.6                22.2                0.5  \n",
       "933                29.4                21.7               30.7  \n",
       "934                29.4                21.7               11.2  \n",
       "935                31.7                23.3                0.3  \n",
       "\n",
       "[5 rows x 24 columns]"
      ]
     },
     "execution_count": 26,
     "metadata": {},
     "output_type": "execute_result"
    }
   ],
   "source": [
    "df_sj.tail()"
   ]
  },
  {
   "cell_type": "code",
   "execution_count": 27,
   "metadata": {
    "hidden": true
   },
   "outputs": [
    {
     "data": {
      "text/html": [
       "<div>\n",
       "<style scoped>\n",
       "    .dataframe tbody tr th:only-of-type {\n",
       "        vertical-align: middle;\n",
       "    }\n",
       "\n",
       "    .dataframe tbody tr th {\n",
       "        vertical-align: top;\n",
       "    }\n",
       "\n",
       "    .dataframe thead th {\n",
       "        text-align: right;\n",
       "    }\n",
       "</style>\n",
       "<table border=\"1\" class=\"dataframe\">\n",
       "  <thead>\n",
       "    <tr style=\"text-align: right;\">\n",
       "      <th></th>\n",
       "      <th>week_start_date</th>\n",
       "      <th>city</th>\n",
       "      <th>year</th>\n",
       "      <th>weekofyear</th>\n",
       "      <th>ndvi_ne</th>\n",
       "      <th>ndvi_nw</th>\n",
       "      <th>ndvi_se</th>\n",
       "      <th>ndvi_sw</th>\n",
       "      <th>precipitation_amt_mm</th>\n",
       "      <th>reanalysis_air_temp_k</th>\n",
       "      <th>...</th>\n",
       "      <th>reanalysis_precip_amt_kg_per_m2</th>\n",
       "      <th>reanalysis_relative_humidity_percent</th>\n",
       "      <th>reanalysis_sat_precip_amt_mm</th>\n",
       "      <th>reanalysis_specific_humidity_g_per_kg</th>\n",
       "      <th>reanalysis_tdtr_k</th>\n",
       "      <th>station_avg_temp_c</th>\n",
       "      <th>station_diur_temp_rng_c</th>\n",
       "      <th>station_max_temp_c</th>\n",
       "      <th>station_min_temp_c</th>\n",
       "      <th>station_precip_mm</th>\n",
       "    </tr>\n",
       "  </thead>\n",
       "  <tbody>\n",
       "    <tr>\n",
       "      <td>936</td>\n",
       "      <td>2000-07-01</td>\n",
       "      <td>iq</td>\n",
       "      <td>2000</td>\n",
       "      <td>26</td>\n",
       "      <td>0.192886</td>\n",
       "      <td>0.132257</td>\n",
       "      <td>0.340886</td>\n",
       "      <td>0.247200</td>\n",
       "      <td>25.41</td>\n",
       "      <td>296.740000</td>\n",
       "      <td>...</td>\n",
       "      <td>43.19</td>\n",
       "      <td>92.418571</td>\n",
       "      <td>25.41</td>\n",
       "      <td>16.651429</td>\n",
       "      <td>8.928571</td>\n",
       "      <td>26.400000</td>\n",
       "      <td>10.775000</td>\n",
       "      <td>32.5</td>\n",
       "      <td>20.7</td>\n",
       "      <td>3.0</td>\n",
       "    </tr>\n",
       "    <tr>\n",
       "      <td>937</td>\n",
       "      <td>2000-07-08</td>\n",
       "      <td>iq</td>\n",
       "      <td>2000</td>\n",
       "      <td>27</td>\n",
       "      <td>0.216833</td>\n",
       "      <td>0.276100</td>\n",
       "      <td>0.289457</td>\n",
       "      <td>0.241657</td>\n",
       "      <td>60.61</td>\n",
       "      <td>296.634286</td>\n",
       "      <td>...</td>\n",
       "      <td>46.00</td>\n",
       "      <td>93.581429</td>\n",
       "      <td>60.61</td>\n",
       "      <td>16.862857</td>\n",
       "      <td>10.314286</td>\n",
       "      <td>26.900000</td>\n",
       "      <td>11.566667</td>\n",
       "      <td>34.0</td>\n",
       "      <td>20.8</td>\n",
       "      <td>55.6</td>\n",
       "    </tr>\n",
       "    <tr>\n",
       "      <td>938</td>\n",
       "      <td>2000-07-15</td>\n",
       "      <td>iq</td>\n",
       "      <td>2000</td>\n",
       "      <td>28</td>\n",
       "      <td>0.176757</td>\n",
       "      <td>0.173129</td>\n",
       "      <td>0.204114</td>\n",
       "      <td>0.128014</td>\n",
       "      <td>55.52</td>\n",
       "      <td>296.415714</td>\n",
       "      <td>...</td>\n",
       "      <td>64.77</td>\n",
       "      <td>95.848571</td>\n",
       "      <td>55.52</td>\n",
       "      <td>17.120000</td>\n",
       "      <td>7.385714</td>\n",
       "      <td>26.800000</td>\n",
       "      <td>11.466667</td>\n",
       "      <td>33.0</td>\n",
       "      <td>20.7</td>\n",
       "      <td>38.1</td>\n",
       "    </tr>\n",
       "    <tr>\n",
       "      <td>939</td>\n",
       "      <td>2000-07-22</td>\n",
       "      <td>iq</td>\n",
       "      <td>2000</td>\n",
       "      <td>29</td>\n",
       "      <td>0.227729</td>\n",
       "      <td>0.145429</td>\n",
       "      <td>0.254200</td>\n",
       "      <td>0.200314</td>\n",
       "      <td>5.60</td>\n",
       "      <td>295.357143</td>\n",
       "      <td>...</td>\n",
       "      <td>23.96</td>\n",
       "      <td>87.234286</td>\n",
       "      <td>5.60</td>\n",
       "      <td>14.431429</td>\n",
       "      <td>9.114286</td>\n",
       "      <td>25.766667</td>\n",
       "      <td>10.533333</td>\n",
       "      <td>31.5</td>\n",
       "      <td>14.7</td>\n",
       "      <td>30.0</td>\n",
       "    </tr>\n",
       "    <tr>\n",
       "      <td>940</td>\n",
       "      <td>2000-07-29</td>\n",
       "      <td>iq</td>\n",
       "      <td>2000</td>\n",
       "      <td>30</td>\n",
       "      <td>0.328643</td>\n",
       "      <td>0.322129</td>\n",
       "      <td>0.254371</td>\n",
       "      <td>0.361043</td>\n",
       "      <td>62.76</td>\n",
       "      <td>296.432857</td>\n",
       "      <td>...</td>\n",
       "      <td>31.80</td>\n",
       "      <td>88.161429</td>\n",
       "      <td>62.76</td>\n",
       "      <td>15.444286</td>\n",
       "      <td>9.500000</td>\n",
       "      <td>26.600000</td>\n",
       "      <td>11.480000</td>\n",
       "      <td>33.3</td>\n",
       "      <td>19.1</td>\n",
       "      <td>4.0</td>\n",
       "    </tr>\n",
       "  </tbody>\n",
       "</table>\n",
       "<p>5 rows × 24 columns</p>\n",
       "</div>"
      ],
      "text/plain": [
       "    week_start_date city  year  weekofyear   ndvi_ne   ndvi_nw   ndvi_se  \\\n",
       "936      2000-07-01   iq  2000          26  0.192886  0.132257  0.340886   \n",
       "937      2000-07-08   iq  2000          27  0.216833  0.276100  0.289457   \n",
       "938      2000-07-15   iq  2000          28  0.176757  0.173129  0.204114   \n",
       "939      2000-07-22   iq  2000          29  0.227729  0.145429  0.254200   \n",
       "940      2000-07-29   iq  2000          30  0.328643  0.322129  0.254371   \n",
       "\n",
       "      ndvi_sw  precipitation_amt_mm  reanalysis_air_temp_k  ...  \\\n",
       "936  0.247200                 25.41             296.740000  ...   \n",
       "937  0.241657                 60.61             296.634286  ...   \n",
       "938  0.128014                 55.52             296.415714  ...   \n",
       "939  0.200314                  5.60             295.357143  ...   \n",
       "940  0.361043                 62.76             296.432857  ...   \n",
       "\n",
       "     reanalysis_precip_amt_kg_per_m2  reanalysis_relative_humidity_percent  \\\n",
       "936                            43.19                             92.418571   \n",
       "937                            46.00                             93.581429   \n",
       "938                            64.77                             95.848571   \n",
       "939                            23.96                             87.234286   \n",
       "940                            31.80                             88.161429   \n",
       "\n",
       "     reanalysis_sat_precip_amt_mm  reanalysis_specific_humidity_g_per_kg  \\\n",
       "936                         25.41                              16.651429   \n",
       "937                         60.61                              16.862857   \n",
       "938                         55.52                              17.120000   \n",
       "939                          5.60                              14.431429   \n",
       "940                         62.76                              15.444286   \n",
       "\n",
       "     reanalysis_tdtr_k  station_avg_temp_c  station_diur_temp_rng_c  \\\n",
       "936           8.928571           26.400000                10.775000   \n",
       "937          10.314286           26.900000                11.566667   \n",
       "938           7.385714           26.800000                11.466667   \n",
       "939           9.114286           25.766667                10.533333   \n",
       "940           9.500000           26.600000                11.480000   \n",
       "\n",
       "     station_max_temp_c  station_min_temp_c  station_precip_mm  \n",
       "936                32.5                20.7                3.0  \n",
       "937                34.0                20.8               55.6  \n",
       "938                33.0                20.7               38.1  \n",
       "939                31.5                14.7               30.0  \n",
       "940                33.3                19.1                4.0  \n",
       "\n",
       "[5 rows x 24 columns]"
      ]
     },
     "execution_count": 27,
     "metadata": {},
     "output_type": "execute_result"
    }
   ],
   "source": [
    "df_iq.head()"
   ]
  },
  {
   "cell_type": "code",
   "execution_count": 28,
   "metadata": {
    "hidden": true
   },
   "outputs": [
    {
     "name": "stdout",
     "output_type": "stream",
     "text": [
      "sj length: 936\n",
      "iq length: 520\n"
     ]
    }
   ],
   "source": [
    "print(\"sj length: {}\".format(len(df_sj)))\n",
    "print(\"iq length: {}\".format(len(df_iq)))"
   ]
  },
  {
   "cell_type": "code",
   "execution_count": 29,
   "metadata": {
    "hidden": true
   },
   "outputs": [],
   "source": [
    "# https://www.pythonprogramming.in/get-the-day-of-week-from-given-a-date-in-python.html\n",
    "# Python's program to get the day of week of today or given date.\n",
    " \n",
    "# dayofweek = datetime.date(2010, 6, 16).strftime(\"%A\")\n",
    "# print(dayofweek)\n",
    "# # weekday Monday is 0 and Sunday is 6\n",
    "# print(\"weekday():\", datetime.date(2010, 6, 16).weekday())\n",
    " \n",
    "# # isoweekday() Monday is 1 and Sunday is 7\n",
    "# print(\"isoweekday()\", datetime.date(2010, 6, 16).isoweekday())\n",
    " \n",
    "# dayofweek = datetime.datetime.today().strftime(\"%A\")\n",
    "# print(dayofweek)\n",
    "# print(\"weekday():\", datetime.datetime.today().weekday())\n",
    "# print(\"isoweekday()\", datetime.datetime.today().isoweekday())"
   ]
  },
  {
   "cell_type": "code",
   "execution_count": 30,
   "metadata": {
    "hidden": true
   },
   "outputs": [
    {
     "data": {
      "text/plain": [
       "0   1990-04-30\n",
       "1   1990-05-07\n",
       "2   1990-05-14\n",
       "3   1990-05-21\n",
       "4   1990-05-28\n",
       "5   1990-06-04\n",
       "6   1990-06-11\n",
       "7   1990-06-18\n",
       "8   1990-06-25\n",
       "9   1990-07-02\n",
       "Name: week_start_date, dtype: datetime64[ns]"
      ]
     },
     "execution_count": 30,
     "metadata": {},
     "output_type": "execute_result"
    }
   ],
   "source": [
    "df_sj['week_start_date'].head(10)"
   ]
  },
  {
   "cell_type": "code",
   "execution_count": 31,
   "metadata": {
    "hidden": true
   },
   "outputs": [
    {
     "data": {
      "text/html": [
       "<div>\n",
       "<style scoped>\n",
       "    .dataframe tbody tr th:only-of-type {\n",
       "        vertical-align: middle;\n",
       "    }\n",
       "\n",
       "    .dataframe tbody tr th {\n",
       "        vertical-align: top;\n",
       "    }\n",
       "\n",
       "    .dataframe thead th {\n",
       "        text-align: right;\n",
       "    }\n",
       "</style>\n",
       "<table border=\"1\" class=\"dataframe\">\n",
       "  <thead>\n",
       "    <tr style=\"text-align: right;\">\n",
       "      <th></th>\n",
       "      <th>week_start_date</th>\n",
       "      <th>city</th>\n",
       "      <th>year</th>\n",
       "      <th>weekofyear</th>\n",
       "      <th>ndvi_ne</th>\n",
       "      <th>ndvi_nw</th>\n",
       "      <th>ndvi_se</th>\n",
       "      <th>ndvi_sw</th>\n",
       "      <th>precipitation_amt_mm</th>\n",
       "      <th>reanalysis_air_temp_k</th>\n",
       "      <th>...</th>\n",
       "      <th>reanalysis_precip_amt_kg_per_m2</th>\n",
       "      <th>reanalysis_relative_humidity_percent</th>\n",
       "      <th>reanalysis_sat_precip_amt_mm</th>\n",
       "      <th>reanalysis_specific_humidity_g_per_kg</th>\n",
       "      <th>reanalysis_tdtr_k</th>\n",
       "      <th>station_avg_temp_c</th>\n",
       "      <th>station_diur_temp_rng_c</th>\n",
       "      <th>station_max_temp_c</th>\n",
       "      <th>station_min_temp_c</th>\n",
       "      <th>station_precip_mm</th>\n",
       "    </tr>\n",
       "  </thead>\n",
       "  <tbody>\n",
       "    <tr>\n",
       "      <td>926</td>\n",
       "      <td>2008-02-19</td>\n",
       "      <td>sj</td>\n",
       "      <td>2008</td>\n",
       "      <td>8</td>\n",
       "      <td>-0.13865</td>\n",
       "      <td>-0.095067</td>\n",
       "      <td>0.246057</td>\n",
       "      <td>0.228129</td>\n",
       "      <td>0.00</td>\n",
       "      <td>297.907143</td>\n",
       "      <td>...</td>\n",
       "      <td>8.30</td>\n",
       "      <td>74.785714</td>\n",
       "      <td>0.00</td>\n",
       "      <td>14.538571</td>\n",
       "      <td>1.885714</td>\n",
       "      <td>24.900000</td>\n",
       "      <td>5.785714</td>\n",
       "      <td>28.3</td>\n",
       "      <td>21.7</td>\n",
       "      <td>13.3</td>\n",
       "    </tr>\n",
       "    <tr>\n",
       "      <td>927</td>\n",
       "      <td>2008-02-26</td>\n",
       "      <td>sj</td>\n",
       "      <td>2008</td>\n",
       "      <td>9</td>\n",
       "      <td>NaN</td>\n",
       "      <td>0.015420</td>\n",
       "      <td>0.211629</td>\n",
       "      <td>0.117343</td>\n",
       "      <td>0.00</td>\n",
       "      <td>297.765714</td>\n",
       "      <td>...</td>\n",
       "      <td>6.46</td>\n",
       "      <td>72.660000</td>\n",
       "      <td>0.00</td>\n",
       "      <td>13.967143</td>\n",
       "      <td>2.285714</td>\n",
       "      <td>24.742857</td>\n",
       "      <td>5.500000</td>\n",
       "      <td>27.8</td>\n",
       "      <td>21.1</td>\n",
       "      <td>12.9</td>\n",
       "    </tr>\n",
       "    <tr>\n",
       "      <td>928</td>\n",
       "      <td>2008-03-04</td>\n",
       "      <td>sj</td>\n",
       "      <td>2008</td>\n",
       "      <td>10</td>\n",
       "      <td>-0.08890</td>\n",
       "      <td>-0.090033</td>\n",
       "      <td>0.223243</td>\n",
       "      <td>0.154186</td>\n",
       "      <td>0.00</td>\n",
       "      <td>297.878571</td>\n",
       "      <td>...</td>\n",
       "      <td>6.50</td>\n",
       "      <td>74.681429</td>\n",
       "      <td>0.00</td>\n",
       "      <td>14.474286</td>\n",
       "      <td>2.614286</td>\n",
       "      <td>25.114286</td>\n",
       "      <td>6.114286</td>\n",
       "      <td>29.4</td>\n",
       "      <td>21.1</td>\n",
       "      <td>13.0</td>\n",
       "    </tr>\n",
       "    <tr>\n",
       "      <td>929</td>\n",
       "      <td>2008-03-11</td>\n",
       "      <td>sj</td>\n",
       "      <td>2008</td>\n",
       "      <td>11</td>\n",
       "      <td>-0.32140</td>\n",
       "      <td>-0.141200</td>\n",
       "      <td>0.110643</td>\n",
       "      <td>0.141014</td>\n",
       "      <td>0.00</td>\n",
       "      <td>297.595714</td>\n",
       "      <td>...</td>\n",
       "      <td>9.38</td>\n",
       "      <td>71.934286</td>\n",
       "      <td>0.00</td>\n",
       "      <td>13.721429</td>\n",
       "      <td>2.085714</td>\n",
       "      <td>25.328571</td>\n",
       "      <td>5.814286</td>\n",
       "      <td>28.9</td>\n",
       "      <td>22.2</td>\n",
       "      <td>4.4</td>\n",
       "    </tr>\n",
       "    <tr>\n",
       "      <td>930</td>\n",
       "      <td>2008-03-18</td>\n",
       "      <td>sj</td>\n",
       "      <td>2008</td>\n",
       "      <td>12</td>\n",
       "      <td>0.04490</td>\n",
       "      <td>0.024450</td>\n",
       "      <td>0.101629</td>\n",
       "      <td>0.088000</td>\n",
       "      <td>0.00</td>\n",
       "      <td>297.404286</td>\n",
       "      <td>...</td>\n",
       "      <td>0.90</td>\n",
       "      <td>72.915714</td>\n",
       "      <td>0.00</td>\n",
       "      <td>13.737143</td>\n",
       "      <td>3.871429</td>\n",
       "      <td>25.200000</td>\n",
       "      <td>7.042857</td>\n",
       "      <td>30.0</td>\n",
       "      <td>20.6</td>\n",
       "      <td>0.5</td>\n",
       "    </tr>\n",
       "    <tr>\n",
       "      <td>931</td>\n",
       "      <td>2008-03-25</td>\n",
       "      <td>sj</td>\n",
       "      <td>2008</td>\n",
       "      <td>13</td>\n",
       "      <td>0.07785</td>\n",
       "      <td>-0.039900</td>\n",
       "      <td>0.310471</td>\n",
       "      <td>0.296243</td>\n",
       "      <td>27.19</td>\n",
       "      <td>296.958571</td>\n",
       "      <td>...</td>\n",
       "      <td>7.55</td>\n",
       "      <td>74.247143</td>\n",
       "      <td>27.19</td>\n",
       "      <td>13.644286</td>\n",
       "      <td>2.885714</td>\n",
       "      <td>25.042857</td>\n",
       "      <td>5.785714</td>\n",
       "      <td>30.0</td>\n",
       "      <td>21.1</td>\n",
       "      <td>1.8</td>\n",
       "    </tr>\n",
       "    <tr>\n",
       "      <td>932</td>\n",
       "      <td>2008-04-01</td>\n",
       "      <td>sj</td>\n",
       "      <td>2008</td>\n",
       "      <td>14</td>\n",
       "      <td>-0.03800</td>\n",
       "      <td>-0.016833</td>\n",
       "      <td>0.119371</td>\n",
       "      <td>0.066386</td>\n",
       "      <td>3.82</td>\n",
       "      <td>298.081429</td>\n",
       "      <td>...</td>\n",
       "      <td>3.67</td>\n",
       "      <td>74.600000</td>\n",
       "      <td>3.82</td>\n",
       "      <td>14.662857</td>\n",
       "      <td>2.714286</td>\n",
       "      <td>26.242857</td>\n",
       "      <td>6.814286</td>\n",
       "      <td>30.6</td>\n",
       "      <td>22.2</td>\n",
       "      <td>0.5</td>\n",
       "    </tr>\n",
       "    <tr>\n",
       "      <td>933</td>\n",
       "      <td>2008-04-08</td>\n",
       "      <td>sj</td>\n",
       "      <td>2008</td>\n",
       "      <td>15</td>\n",
       "      <td>-0.15520</td>\n",
       "      <td>-0.052750</td>\n",
       "      <td>0.137757</td>\n",
       "      <td>0.141214</td>\n",
       "      <td>16.96</td>\n",
       "      <td>297.460000</td>\n",
       "      <td>...</td>\n",
       "      <td>35.00</td>\n",
       "      <td>75.027143</td>\n",
       "      <td>16.96</td>\n",
       "      <td>14.184286</td>\n",
       "      <td>2.185714</td>\n",
       "      <td>25.000000</td>\n",
       "      <td>5.714286</td>\n",
       "      <td>29.4</td>\n",
       "      <td>21.7</td>\n",
       "      <td>30.7</td>\n",
       "    </tr>\n",
       "    <tr>\n",
       "      <td>934</td>\n",
       "      <td>2008-04-15</td>\n",
       "      <td>sj</td>\n",
       "      <td>2008</td>\n",
       "      <td>16</td>\n",
       "      <td>0.00180</td>\n",
       "      <td>NaN</td>\n",
       "      <td>0.203900</td>\n",
       "      <td>0.209843</td>\n",
       "      <td>0.00</td>\n",
       "      <td>297.630000</td>\n",
       "      <td>...</td>\n",
       "      <td>4.82</td>\n",
       "      <td>72.285714</td>\n",
       "      <td>0.00</td>\n",
       "      <td>13.858571</td>\n",
       "      <td>2.785714</td>\n",
       "      <td>25.314286</td>\n",
       "      <td>6.242857</td>\n",
       "      <td>29.4</td>\n",
       "      <td>21.7</td>\n",
       "      <td>11.2</td>\n",
       "    </tr>\n",
       "    <tr>\n",
       "      <td>935</td>\n",
       "      <td>2008-04-22</td>\n",
       "      <td>sj</td>\n",
       "      <td>2008</td>\n",
       "      <td>17</td>\n",
       "      <td>-0.03700</td>\n",
       "      <td>-0.010367</td>\n",
       "      <td>0.077314</td>\n",
       "      <td>0.090586</td>\n",
       "      <td>0.00</td>\n",
       "      <td>298.672857</td>\n",
       "      <td>...</td>\n",
       "      <td>2.17</td>\n",
       "      <td>76.960000</td>\n",
       "      <td>0.00</td>\n",
       "      <td>15.671429</td>\n",
       "      <td>3.957143</td>\n",
       "      <td>27.042857</td>\n",
       "      <td>7.514286</td>\n",
       "      <td>31.7</td>\n",
       "      <td>23.3</td>\n",
       "      <td>0.3</td>\n",
       "    </tr>\n",
       "  </tbody>\n",
       "</table>\n",
       "<p>10 rows × 24 columns</p>\n",
       "</div>"
      ],
      "text/plain": [
       "    week_start_date city  year  weekofyear  ndvi_ne   ndvi_nw   ndvi_se  \\\n",
       "926      2008-02-19   sj  2008           8 -0.13865 -0.095067  0.246057   \n",
       "927      2008-02-26   sj  2008           9      NaN  0.015420  0.211629   \n",
       "928      2008-03-04   sj  2008          10 -0.08890 -0.090033  0.223243   \n",
       "929      2008-03-11   sj  2008          11 -0.32140 -0.141200  0.110643   \n",
       "930      2008-03-18   sj  2008          12  0.04490  0.024450  0.101629   \n",
       "931      2008-03-25   sj  2008          13  0.07785 -0.039900  0.310471   \n",
       "932      2008-04-01   sj  2008          14 -0.03800 -0.016833  0.119371   \n",
       "933      2008-04-08   sj  2008          15 -0.15520 -0.052750  0.137757   \n",
       "934      2008-04-15   sj  2008          16  0.00180       NaN  0.203900   \n",
       "935      2008-04-22   sj  2008          17 -0.03700 -0.010367  0.077314   \n",
       "\n",
       "      ndvi_sw  precipitation_amt_mm  reanalysis_air_temp_k  ...  \\\n",
       "926  0.228129                  0.00             297.907143  ...   \n",
       "927  0.117343                  0.00             297.765714  ...   \n",
       "928  0.154186                  0.00             297.878571  ...   \n",
       "929  0.141014                  0.00             297.595714  ...   \n",
       "930  0.088000                  0.00             297.404286  ...   \n",
       "931  0.296243                 27.19             296.958571  ...   \n",
       "932  0.066386                  3.82             298.081429  ...   \n",
       "933  0.141214                 16.96             297.460000  ...   \n",
       "934  0.209843                  0.00             297.630000  ...   \n",
       "935  0.090586                  0.00             298.672857  ...   \n",
       "\n",
       "     reanalysis_precip_amt_kg_per_m2  reanalysis_relative_humidity_percent  \\\n",
       "926                             8.30                             74.785714   \n",
       "927                             6.46                             72.660000   \n",
       "928                             6.50                             74.681429   \n",
       "929                             9.38                             71.934286   \n",
       "930                             0.90                             72.915714   \n",
       "931                             7.55                             74.247143   \n",
       "932                             3.67                             74.600000   \n",
       "933                            35.00                             75.027143   \n",
       "934                             4.82                             72.285714   \n",
       "935                             2.17                             76.960000   \n",
       "\n",
       "     reanalysis_sat_precip_amt_mm  reanalysis_specific_humidity_g_per_kg  \\\n",
       "926                          0.00                              14.538571   \n",
       "927                          0.00                              13.967143   \n",
       "928                          0.00                              14.474286   \n",
       "929                          0.00                              13.721429   \n",
       "930                          0.00                              13.737143   \n",
       "931                         27.19                              13.644286   \n",
       "932                          3.82                              14.662857   \n",
       "933                         16.96                              14.184286   \n",
       "934                          0.00                              13.858571   \n",
       "935                          0.00                              15.671429   \n",
       "\n",
       "     reanalysis_tdtr_k  station_avg_temp_c  station_diur_temp_rng_c  \\\n",
       "926           1.885714           24.900000                 5.785714   \n",
       "927           2.285714           24.742857                 5.500000   \n",
       "928           2.614286           25.114286                 6.114286   \n",
       "929           2.085714           25.328571                 5.814286   \n",
       "930           3.871429           25.200000                 7.042857   \n",
       "931           2.885714           25.042857                 5.785714   \n",
       "932           2.714286           26.242857                 6.814286   \n",
       "933           2.185714           25.000000                 5.714286   \n",
       "934           2.785714           25.314286                 6.242857   \n",
       "935           3.957143           27.042857                 7.514286   \n",
       "\n",
       "     station_max_temp_c  station_min_temp_c  station_precip_mm  \n",
       "926                28.3                21.7               13.3  \n",
       "927                27.8                21.1               12.9  \n",
       "928                29.4                21.1               13.0  \n",
       "929                28.9                22.2                4.4  \n",
       "930                30.0                20.6                0.5  \n",
       "931                30.0                21.1                1.8  \n",
       "932                30.6                22.2                0.5  \n",
       "933                29.4                21.7               30.7  \n",
       "934                29.4                21.7               11.2  \n",
       "935                31.7                23.3                0.3  \n",
       "\n",
       "[10 rows x 24 columns]"
      ]
     },
     "execution_count": 31,
     "metadata": {},
     "output_type": "execute_result"
    }
   ],
   "source": [
    "df_sj.tail(10)"
   ]
  },
  {
   "cell_type": "code",
   "execution_count": 32,
   "metadata": {
    "hidden": true
   },
   "outputs": [
    {
     "data": {
      "text/html": [
       "<div>\n",
       "<style scoped>\n",
       "    .dataframe tbody tr th:only-of-type {\n",
       "        vertical-align: middle;\n",
       "    }\n",
       "\n",
       "    .dataframe tbody tr th {\n",
       "        vertical-align: top;\n",
       "    }\n",
       "\n",
       "    .dataframe thead th {\n",
       "        text-align: right;\n",
       "    }\n",
       "</style>\n",
       "<table border=\"1\" class=\"dataframe\">\n",
       "  <thead>\n",
       "    <tr style=\"text-align: right;\">\n",
       "      <th></th>\n",
       "      <th>week_start_date</th>\n",
       "      <th>city</th>\n",
       "      <th>year</th>\n",
       "      <th>weekofyear</th>\n",
       "      <th>ndvi_ne</th>\n",
       "      <th>ndvi_nw</th>\n",
       "      <th>ndvi_se</th>\n",
       "      <th>ndvi_sw</th>\n",
       "      <th>precipitation_amt_mm</th>\n",
       "      <th>reanalysis_air_temp_k</th>\n",
       "      <th>...</th>\n",
       "      <th>reanalysis_precip_amt_kg_per_m2</th>\n",
       "      <th>reanalysis_relative_humidity_percent</th>\n",
       "      <th>reanalysis_sat_precip_amt_mm</th>\n",
       "      <th>reanalysis_specific_humidity_g_per_kg</th>\n",
       "      <th>reanalysis_tdtr_k</th>\n",
       "      <th>station_avg_temp_c</th>\n",
       "      <th>station_diur_temp_rng_c</th>\n",
       "      <th>station_max_temp_c</th>\n",
       "      <th>station_min_temp_c</th>\n",
       "      <th>station_precip_mm</th>\n",
       "    </tr>\n",
       "  </thead>\n",
       "  <tbody>\n",
       "    <tr>\n",
       "      <td>936</td>\n",
       "      <td>2000-07-01</td>\n",
       "      <td>iq</td>\n",
       "      <td>2000</td>\n",
       "      <td>26</td>\n",
       "      <td>0.192886</td>\n",
       "      <td>0.132257</td>\n",
       "      <td>0.340886</td>\n",
       "      <td>0.247200</td>\n",
       "      <td>25.41</td>\n",
       "      <td>296.740000</td>\n",
       "      <td>...</td>\n",
       "      <td>43.19</td>\n",
       "      <td>92.418571</td>\n",
       "      <td>25.41</td>\n",
       "      <td>16.651429</td>\n",
       "      <td>8.928571</td>\n",
       "      <td>26.400000</td>\n",
       "      <td>10.775000</td>\n",
       "      <td>32.5</td>\n",
       "      <td>20.7</td>\n",
       "      <td>3.0</td>\n",
       "    </tr>\n",
       "    <tr>\n",
       "      <td>937</td>\n",
       "      <td>2000-07-08</td>\n",
       "      <td>iq</td>\n",
       "      <td>2000</td>\n",
       "      <td>27</td>\n",
       "      <td>0.216833</td>\n",
       "      <td>0.276100</td>\n",
       "      <td>0.289457</td>\n",
       "      <td>0.241657</td>\n",
       "      <td>60.61</td>\n",
       "      <td>296.634286</td>\n",
       "      <td>...</td>\n",
       "      <td>46.00</td>\n",
       "      <td>93.581429</td>\n",
       "      <td>60.61</td>\n",
       "      <td>16.862857</td>\n",
       "      <td>10.314286</td>\n",
       "      <td>26.900000</td>\n",
       "      <td>11.566667</td>\n",
       "      <td>34.0</td>\n",
       "      <td>20.8</td>\n",
       "      <td>55.6</td>\n",
       "    </tr>\n",
       "    <tr>\n",
       "      <td>938</td>\n",
       "      <td>2000-07-15</td>\n",
       "      <td>iq</td>\n",
       "      <td>2000</td>\n",
       "      <td>28</td>\n",
       "      <td>0.176757</td>\n",
       "      <td>0.173129</td>\n",
       "      <td>0.204114</td>\n",
       "      <td>0.128014</td>\n",
       "      <td>55.52</td>\n",
       "      <td>296.415714</td>\n",
       "      <td>...</td>\n",
       "      <td>64.77</td>\n",
       "      <td>95.848571</td>\n",
       "      <td>55.52</td>\n",
       "      <td>17.120000</td>\n",
       "      <td>7.385714</td>\n",
       "      <td>26.800000</td>\n",
       "      <td>11.466667</td>\n",
       "      <td>33.0</td>\n",
       "      <td>20.7</td>\n",
       "      <td>38.1</td>\n",
       "    </tr>\n",
       "    <tr>\n",
       "      <td>939</td>\n",
       "      <td>2000-07-22</td>\n",
       "      <td>iq</td>\n",
       "      <td>2000</td>\n",
       "      <td>29</td>\n",
       "      <td>0.227729</td>\n",
       "      <td>0.145429</td>\n",
       "      <td>0.254200</td>\n",
       "      <td>0.200314</td>\n",
       "      <td>5.60</td>\n",
       "      <td>295.357143</td>\n",
       "      <td>...</td>\n",
       "      <td>23.96</td>\n",
       "      <td>87.234286</td>\n",
       "      <td>5.60</td>\n",
       "      <td>14.431429</td>\n",
       "      <td>9.114286</td>\n",
       "      <td>25.766667</td>\n",
       "      <td>10.533333</td>\n",
       "      <td>31.5</td>\n",
       "      <td>14.7</td>\n",
       "      <td>30.0</td>\n",
       "    </tr>\n",
       "    <tr>\n",
       "      <td>940</td>\n",
       "      <td>2000-07-29</td>\n",
       "      <td>iq</td>\n",
       "      <td>2000</td>\n",
       "      <td>30</td>\n",
       "      <td>0.328643</td>\n",
       "      <td>0.322129</td>\n",
       "      <td>0.254371</td>\n",
       "      <td>0.361043</td>\n",
       "      <td>62.76</td>\n",
       "      <td>296.432857</td>\n",
       "      <td>...</td>\n",
       "      <td>31.80</td>\n",
       "      <td>88.161429</td>\n",
       "      <td>62.76</td>\n",
       "      <td>15.444286</td>\n",
       "      <td>9.500000</td>\n",
       "      <td>26.600000</td>\n",
       "      <td>11.480000</td>\n",
       "      <td>33.3</td>\n",
       "      <td>19.1</td>\n",
       "      <td>4.0</td>\n",
       "    </tr>\n",
       "    <tr>\n",
       "      <td>941</td>\n",
       "      <td>2000-08-05</td>\n",
       "      <td>iq</td>\n",
       "      <td>2000</td>\n",
       "      <td>31</td>\n",
       "      <td>0.205529</td>\n",
       "      <td>0.190757</td>\n",
       "      <td>0.231671</td>\n",
       "      <td>0.255314</td>\n",
       "      <td>16.24</td>\n",
       "      <td>297.191429</td>\n",
       "      <td>...</td>\n",
       "      <td>1.00</td>\n",
       "      <td>74.728571</td>\n",
       "      <td>16.24</td>\n",
       "      <td>13.421429</td>\n",
       "      <td>13.771429</td>\n",
       "      <td>25.340000</td>\n",
       "      <td>10.940000</td>\n",
       "      <td>32.0</td>\n",
       "      <td>17.0</td>\n",
       "      <td>11.5</td>\n",
       "    </tr>\n",
       "    <tr>\n",
       "      <td>942</td>\n",
       "      <td>2000-08-12</td>\n",
       "      <td>iq</td>\n",
       "      <td>2000</td>\n",
       "      <td>32</td>\n",
       "      <td>0.312486</td>\n",
       "      <td>0.329986</td>\n",
       "      <td>0.380586</td>\n",
       "      <td>0.387271</td>\n",
       "      <td>89.37</td>\n",
       "      <td>297.320000</td>\n",
       "      <td>...</td>\n",
       "      <td>26.68</td>\n",
       "      <td>83.275714</td>\n",
       "      <td>89.37</td>\n",
       "      <td>15.311429</td>\n",
       "      <td>11.471429</td>\n",
       "      <td>27.016667</td>\n",
       "      <td>11.650000</td>\n",
       "      <td>34.0</td>\n",
       "      <td>19.9</td>\n",
       "      <td>72.9</td>\n",
       "    </tr>\n",
       "    <tr>\n",
       "      <td>943</td>\n",
       "      <td>2000-08-19</td>\n",
       "      <td>iq</td>\n",
       "      <td>2000</td>\n",
       "      <td>33</td>\n",
       "      <td>0.384133</td>\n",
       "      <td>0.392240</td>\n",
       "      <td>0.341780</td>\n",
       "      <td>0.382750</td>\n",
       "      <td>42.08</td>\n",
       "      <td>297.627143</td>\n",
       "      <td>...</td>\n",
       "      <td>16.90</td>\n",
       "      <td>82.490000</td>\n",
       "      <td>42.08</td>\n",
       "      <td>15.465714</td>\n",
       "      <td>13.700000</td>\n",
       "      <td>26.583333</td>\n",
       "      <td>10.316667</td>\n",
       "      <td>33.0</td>\n",
       "      <td>20.5</td>\n",
       "      <td>50.1</td>\n",
       "    </tr>\n",
       "    <tr>\n",
       "      <td>944</td>\n",
       "      <td>2000-08-26</td>\n",
       "      <td>iq</td>\n",
       "      <td>2000</td>\n",
       "      <td>34</td>\n",
       "      <td>0.408157</td>\n",
       "      <td>0.322157</td>\n",
       "      <td>0.406714</td>\n",
       "      <td>0.302714</td>\n",
       "      <td>49.22</td>\n",
       "      <td>298.238571</td>\n",
       "      <td>...</td>\n",
       "      <td>5.59</td>\n",
       "      <td>74.740000</td>\n",
       "      <td>49.22</td>\n",
       "      <td>14.444286</td>\n",
       "      <td>13.771429</td>\n",
       "      <td>26.900000</td>\n",
       "      <td>13.400000</td>\n",
       "      <td>34.0</td>\n",
       "      <td>19.0</td>\n",
       "      <td>89.2</td>\n",
       "    </tr>\n",
       "    <tr>\n",
       "      <td>945</td>\n",
       "      <td>2000-09-02</td>\n",
       "      <td>iq</td>\n",
       "      <td>2000</td>\n",
       "      <td>35</td>\n",
       "      <td>0.332043</td>\n",
       "      <td>0.321057</td>\n",
       "      <td>0.314614</td>\n",
       "      <td>0.324257</td>\n",
       "      <td>53.65</td>\n",
       "      <td>299.218571</td>\n",
       "      <td>...</td>\n",
       "      <td>16.07</td>\n",
       "      <td>74.151429</td>\n",
       "      <td>53.65</td>\n",
       "      <td>15.057143</td>\n",
       "      <td>12.457143</td>\n",
       "      <td>27.116667</td>\n",
       "      <td>12.266667</td>\n",
       "      <td>34.0</td>\n",
       "      <td>20.0</td>\n",
       "      <td>78.0</td>\n",
       "    </tr>\n",
       "  </tbody>\n",
       "</table>\n",
       "<p>10 rows × 24 columns</p>\n",
       "</div>"
      ],
      "text/plain": [
       "    week_start_date city  year  weekofyear   ndvi_ne   ndvi_nw   ndvi_se  \\\n",
       "936      2000-07-01   iq  2000          26  0.192886  0.132257  0.340886   \n",
       "937      2000-07-08   iq  2000          27  0.216833  0.276100  0.289457   \n",
       "938      2000-07-15   iq  2000          28  0.176757  0.173129  0.204114   \n",
       "939      2000-07-22   iq  2000          29  0.227729  0.145429  0.254200   \n",
       "940      2000-07-29   iq  2000          30  0.328643  0.322129  0.254371   \n",
       "941      2000-08-05   iq  2000          31  0.205529  0.190757  0.231671   \n",
       "942      2000-08-12   iq  2000          32  0.312486  0.329986  0.380586   \n",
       "943      2000-08-19   iq  2000          33  0.384133  0.392240  0.341780   \n",
       "944      2000-08-26   iq  2000          34  0.408157  0.322157  0.406714   \n",
       "945      2000-09-02   iq  2000          35  0.332043  0.321057  0.314614   \n",
       "\n",
       "      ndvi_sw  precipitation_amt_mm  reanalysis_air_temp_k  ...  \\\n",
       "936  0.247200                 25.41             296.740000  ...   \n",
       "937  0.241657                 60.61             296.634286  ...   \n",
       "938  0.128014                 55.52             296.415714  ...   \n",
       "939  0.200314                  5.60             295.357143  ...   \n",
       "940  0.361043                 62.76             296.432857  ...   \n",
       "941  0.255314                 16.24             297.191429  ...   \n",
       "942  0.387271                 89.37             297.320000  ...   \n",
       "943  0.382750                 42.08             297.627143  ...   \n",
       "944  0.302714                 49.22             298.238571  ...   \n",
       "945  0.324257                 53.65             299.218571  ...   \n",
       "\n",
       "     reanalysis_precip_amt_kg_per_m2  reanalysis_relative_humidity_percent  \\\n",
       "936                            43.19                             92.418571   \n",
       "937                            46.00                             93.581429   \n",
       "938                            64.77                             95.848571   \n",
       "939                            23.96                             87.234286   \n",
       "940                            31.80                             88.161429   \n",
       "941                             1.00                             74.728571   \n",
       "942                            26.68                             83.275714   \n",
       "943                            16.90                             82.490000   \n",
       "944                             5.59                             74.740000   \n",
       "945                            16.07                             74.151429   \n",
       "\n",
       "     reanalysis_sat_precip_amt_mm  reanalysis_specific_humidity_g_per_kg  \\\n",
       "936                         25.41                              16.651429   \n",
       "937                         60.61                              16.862857   \n",
       "938                         55.52                              17.120000   \n",
       "939                          5.60                              14.431429   \n",
       "940                         62.76                              15.444286   \n",
       "941                         16.24                              13.421429   \n",
       "942                         89.37                              15.311429   \n",
       "943                         42.08                              15.465714   \n",
       "944                         49.22                              14.444286   \n",
       "945                         53.65                              15.057143   \n",
       "\n",
       "     reanalysis_tdtr_k  station_avg_temp_c  station_diur_temp_rng_c  \\\n",
       "936           8.928571           26.400000                10.775000   \n",
       "937          10.314286           26.900000                11.566667   \n",
       "938           7.385714           26.800000                11.466667   \n",
       "939           9.114286           25.766667                10.533333   \n",
       "940           9.500000           26.600000                11.480000   \n",
       "941          13.771429           25.340000                10.940000   \n",
       "942          11.471429           27.016667                11.650000   \n",
       "943          13.700000           26.583333                10.316667   \n",
       "944          13.771429           26.900000                13.400000   \n",
       "945          12.457143           27.116667                12.266667   \n",
       "\n",
       "     station_max_temp_c  station_min_temp_c  station_precip_mm  \n",
       "936                32.5                20.7                3.0  \n",
       "937                34.0                20.8               55.6  \n",
       "938                33.0                20.7               38.1  \n",
       "939                31.5                14.7               30.0  \n",
       "940                33.3                19.1                4.0  \n",
       "941                32.0                17.0               11.5  \n",
       "942                34.0                19.9               72.9  \n",
       "943                33.0                20.5               50.1  \n",
       "944                34.0                19.0               89.2  \n",
       "945                34.0                20.0               78.0  \n",
       "\n",
       "[10 rows x 24 columns]"
      ]
     },
     "execution_count": 32,
     "metadata": {},
     "output_type": "execute_result"
    }
   ],
   "source": [
    "df_iq.head(10)"
   ]
  },
  {
   "cell_type": "code",
   "execution_count": 33,
   "metadata": {
    "hidden": true
   },
   "outputs": [
    {
     "data": {
      "text/html": [
       "<div>\n",
       "<style scoped>\n",
       "    .dataframe tbody tr th:only-of-type {\n",
       "        vertical-align: middle;\n",
       "    }\n",
       "\n",
       "    .dataframe tbody tr th {\n",
       "        vertical-align: top;\n",
       "    }\n",
       "\n",
       "    .dataframe thead th {\n",
       "        text-align: right;\n",
       "    }\n",
       "</style>\n",
       "<table border=\"1\" class=\"dataframe\">\n",
       "  <thead>\n",
       "    <tr style=\"text-align: right;\">\n",
       "      <th></th>\n",
       "      <th>week_start_date</th>\n",
       "      <th>city</th>\n",
       "      <th>year</th>\n",
       "      <th>weekofyear</th>\n",
       "      <th>ndvi_ne</th>\n",
       "      <th>ndvi_nw</th>\n",
       "      <th>ndvi_se</th>\n",
       "      <th>ndvi_sw</th>\n",
       "      <th>precipitation_amt_mm</th>\n",
       "      <th>reanalysis_air_temp_k</th>\n",
       "      <th>...</th>\n",
       "      <th>reanalysis_precip_amt_kg_per_m2</th>\n",
       "      <th>reanalysis_relative_humidity_percent</th>\n",
       "      <th>reanalysis_sat_precip_amt_mm</th>\n",
       "      <th>reanalysis_specific_humidity_g_per_kg</th>\n",
       "      <th>reanalysis_tdtr_k</th>\n",
       "      <th>station_avg_temp_c</th>\n",
       "      <th>station_diur_temp_rng_c</th>\n",
       "      <th>station_max_temp_c</th>\n",
       "      <th>station_min_temp_c</th>\n",
       "      <th>station_precip_mm</th>\n",
       "    </tr>\n",
       "  </thead>\n",
       "  <tbody>\n",
       "    <tr>\n",
       "      <td>1446</td>\n",
       "      <td>2010-04-23</td>\n",
       "      <td>iq</td>\n",
       "      <td>2010</td>\n",
       "      <td>16</td>\n",
       "      <td>0.231486</td>\n",
       "      <td>0.294686</td>\n",
       "      <td>0.331657</td>\n",
       "      <td>0.244400</td>\n",
       "      <td>86.70</td>\n",
       "      <td>298.438571</td>\n",
       "      <td>...</td>\n",
       "      <td>81.40</td>\n",
       "      <td>95.995714</td>\n",
       "      <td>86.70</td>\n",
       "      <td>19.448571</td>\n",
       "      <td>7.757143</td>\n",
       "      <td>27.850000</td>\n",
       "      <td>9.600000</td>\n",
       "      <td>33.5</td>\n",
       "      <td>22.5</td>\n",
       "      <td>51.1</td>\n",
       "    </tr>\n",
       "    <tr>\n",
       "      <td>1447</td>\n",
       "      <td>2010-04-30</td>\n",
       "      <td>iq</td>\n",
       "      <td>2010</td>\n",
       "      <td>17</td>\n",
       "      <td>0.239743</td>\n",
       "      <td>0.259271</td>\n",
       "      <td>0.307786</td>\n",
       "      <td>0.307943</td>\n",
       "      <td>26.00</td>\n",
       "      <td>299.048571</td>\n",
       "      <td>...</td>\n",
       "      <td>23.60</td>\n",
       "      <td>87.657143</td>\n",
       "      <td>26.00</td>\n",
       "      <td>18.068571</td>\n",
       "      <td>8.257143</td>\n",
       "      <td>28.850000</td>\n",
       "      <td>12.125000</td>\n",
       "      <td>36.2</td>\n",
       "      <td>21.4</td>\n",
       "      <td>35.4</td>\n",
       "    </tr>\n",
       "    <tr>\n",
       "      <td>1448</td>\n",
       "      <td>2010-05-07</td>\n",
       "      <td>iq</td>\n",
       "      <td>2010</td>\n",
       "      <td>18</td>\n",
       "      <td>0.260814</td>\n",
       "      <td>0.255786</td>\n",
       "      <td>0.257771</td>\n",
       "      <td>0.340286</td>\n",
       "      <td>73.97</td>\n",
       "      <td>297.617143</td>\n",
       "      <td>...</td>\n",
       "      <td>85.46</td>\n",
       "      <td>96.712857</td>\n",
       "      <td>73.97</td>\n",
       "      <td>18.602857</td>\n",
       "      <td>5.714286</td>\n",
       "      <td>27.600000</td>\n",
       "      <td>9.600000</td>\n",
       "      <td>33.2</td>\n",
       "      <td>21.4</td>\n",
       "      <td>8.1</td>\n",
       "    </tr>\n",
       "    <tr>\n",
       "      <td>1449</td>\n",
       "      <td>2010-05-14</td>\n",
       "      <td>iq</td>\n",
       "      <td>2010</td>\n",
       "      <td>19</td>\n",
       "      <td>0.168686</td>\n",
       "      <td>0.158500</td>\n",
       "      <td>0.133071</td>\n",
       "      <td>0.145600</td>\n",
       "      <td>59.40</td>\n",
       "      <td>297.278571</td>\n",
       "      <td>...</td>\n",
       "      <td>87.30</td>\n",
       "      <td>97.445714</td>\n",
       "      <td>59.40</td>\n",
       "      <td>18.391429</td>\n",
       "      <td>6.185714</td>\n",
       "      <td>27.400000</td>\n",
       "      <td>10.400000</td>\n",
       "      <td>33.7</td>\n",
       "      <td>21.2</td>\n",
       "      <td>32.0</td>\n",
       "    </tr>\n",
       "    <tr>\n",
       "      <td>1450</td>\n",
       "      <td>2010-05-21</td>\n",
       "      <td>iq</td>\n",
       "      <td>2010</td>\n",
       "      <td>20</td>\n",
       "      <td>0.263071</td>\n",
       "      <td>0.272500</td>\n",
       "      <td>0.258271</td>\n",
       "      <td>0.244500</td>\n",
       "      <td>1.15</td>\n",
       "      <td>297.648571</td>\n",
       "      <td>...</td>\n",
       "      <td>8.80</td>\n",
       "      <td>78.998571</td>\n",
       "      <td>1.15</td>\n",
       "      <td>14.908571</td>\n",
       "      <td>11.242857</td>\n",
       "      <td>25.633333</td>\n",
       "      <td>9.200000</td>\n",
       "      <td>34.0</td>\n",
       "      <td>20.0</td>\n",
       "      <td>2.5</td>\n",
       "    </tr>\n",
       "    <tr>\n",
       "      <td>1451</td>\n",
       "      <td>2010-05-28</td>\n",
       "      <td>iq</td>\n",
       "      <td>2010</td>\n",
       "      <td>21</td>\n",
       "      <td>0.342750</td>\n",
       "      <td>0.318900</td>\n",
       "      <td>0.256343</td>\n",
       "      <td>0.292514</td>\n",
       "      <td>55.30</td>\n",
       "      <td>299.334286</td>\n",
       "      <td>...</td>\n",
       "      <td>45.00</td>\n",
       "      <td>88.765714</td>\n",
       "      <td>55.30</td>\n",
       "      <td>18.485714</td>\n",
       "      <td>9.800000</td>\n",
       "      <td>28.633333</td>\n",
       "      <td>11.933333</td>\n",
       "      <td>35.4</td>\n",
       "      <td>22.4</td>\n",
       "      <td>27.0</td>\n",
       "    </tr>\n",
       "    <tr>\n",
       "      <td>1452</td>\n",
       "      <td>2010-06-04</td>\n",
       "      <td>iq</td>\n",
       "      <td>2010</td>\n",
       "      <td>22</td>\n",
       "      <td>0.160157</td>\n",
       "      <td>0.160371</td>\n",
       "      <td>0.136043</td>\n",
       "      <td>0.225657</td>\n",
       "      <td>86.47</td>\n",
       "      <td>298.330000</td>\n",
       "      <td>...</td>\n",
       "      <td>207.10</td>\n",
       "      <td>91.600000</td>\n",
       "      <td>86.47</td>\n",
       "      <td>18.070000</td>\n",
       "      <td>7.471429</td>\n",
       "      <td>27.433333</td>\n",
       "      <td>10.500000</td>\n",
       "      <td>34.7</td>\n",
       "      <td>21.7</td>\n",
       "      <td>36.6</td>\n",
       "    </tr>\n",
       "    <tr>\n",
       "      <td>1453</td>\n",
       "      <td>2010-06-11</td>\n",
       "      <td>iq</td>\n",
       "      <td>2010</td>\n",
       "      <td>23</td>\n",
       "      <td>0.247057</td>\n",
       "      <td>0.146057</td>\n",
       "      <td>0.250357</td>\n",
       "      <td>0.233714</td>\n",
       "      <td>58.94</td>\n",
       "      <td>296.598571</td>\n",
       "      <td>...</td>\n",
       "      <td>50.60</td>\n",
       "      <td>94.280000</td>\n",
       "      <td>58.94</td>\n",
       "      <td>17.008571</td>\n",
       "      <td>7.500000</td>\n",
       "      <td>24.400000</td>\n",
       "      <td>6.900000</td>\n",
       "      <td>32.2</td>\n",
       "      <td>19.2</td>\n",
       "      <td>7.4</td>\n",
       "    </tr>\n",
       "    <tr>\n",
       "      <td>1454</td>\n",
       "      <td>2010-06-18</td>\n",
       "      <td>iq</td>\n",
       "      <td>2010</td>\n",
       "      <td>24</td>\n",
       "      <td>0.333914</td>\n",
       "      <td>0.245771</td>\n",
       "      <td>0.278886</td>\n",
       "      <td>0.325486</td>\n",
       "      <td>59.67</td>\n",
       "      <td>296.345714</td>\n",
       "      <td>...</td>\n",
       "      <td>62.33</td>\n",
       "      <td>94.660000</td>\n",
       "      <td>59.67</td>\n",
       "      <td>16.815714</td>\n",
       "      <td>7.871429</td>\n",
       "      <td>25.433333</td>\n",
       "      <td>8.733333</td>\n",
       "      <td>31.2</td>\n",
       "      <td>21.0</td>\n",
       "      <td>16.0</td>\n",
       "    </tr>\n",
       "    <tr>\n",
       "      <td>1455</td>\n",
       "      <td>2010-06-25</td>\n",
       "      <td>iq</td>\n",
       "      <td>2010</td>\n",
       "      <td>25</td>\n",
       "      <td>0.298186</td>\n",
       "      <td>0.232971</td>\n",
       "      <td>0.274214</td>\n",
       "      <td>0.315757</td>\n",
       "      <td>63.22</td>\n",
       "      <td>298.097143</td>\n",
       "      <td>...</td>\n",
       "      <td>36.90</td>\n",
       "      <td>89.082857</td>\n",
       "      <td>63.22</td>\n",
       "      <td>17.355714</td>\n",
       "      <td>11.014286</td>\n",
       "      <td>27.475000</td>\n",
       "      <td>9.900000</td>\n",
       "      <td>33.7</td>\n",
       "      <td>22.2</td>\n",
       "      <td>20.4</td>\n",
       "    </tr>\n",
       "  </tbody>\n",
       "</table>\n",
       "<p>10 rows × 24 columns</p>\n",
       "</div>"
      ],
      "text/plain": [
       "     week_start_date city  year  weekofyear   ndvi_ne   ndvi_nw   ndvi_se  \\\n",
       "1446      2010-04-23   iq  2010          16  0.231486  0.294686  0.331657   \n",
       "1447      2010-04-30   iq  2010          17  0.239743  0.259271  0.307786   \n",
       "1448      2010-05-07   iq  2010          18  0.260814  0.255786  0.257771   \n",
       "1449      2010-05-14   iq  2010          19  0.168686  0.158500  0.133071   \n",
       "1450      2010-05-21   iq  2010          20  0.263071  0.272500  0.258271   \n",
       "1451      2010-05-28   iq  2010          21  0.342750  0.318900  0.256343   \n",
       "1452      2010-06-04   iq  2010          22  0.160157  0.160371  0.136043   \n",
       "1453      2010-06-11   iq  2010          23  0.247057  0.146057  0.250357   \n",
       "1454      2010-06-18   iq  2010          24  0.333914  0.245771  0.278886   \n",
       "1455      2010-06-25   iq  2010          25  0.298186  0.232971  0.274214   \n",
       "\n",
       "       ndvi_sw  precipitation_amt_mm  reanalysis_air_temp_k  ...  \\\n",
       "1446  0.244400                 86.70             298.438571  ...   \n",
       "1447  0.307943                 26.00             299.048571  ...   \n",
       "1448  0.340286                 73.97             297.617143  ...   \n",
       "1449  0.145600                 59.40             297.278571  ...   \n",
       "1450  0.244500                  1.15             297.648571  ...   \n",
       "1451  0.292514                 55.30             299.334286  ...   \n",
       "1452  0.225657                 86.47             298.330000  ...   \n",
       "1453  0.233714                 58.94             296.598571  ...   \n",
       "1454  0.325486                 59.67             296.345714  ...   \n",
       "1455  0.315757                 63.22             298.097143  ...   \n",
       "\n",
       "      reanalysis_precip_amt_kg_per_m2  reanalysis_relative_humidity_percent  \\\n",
       "1446                            81.40                             95.995714   \n",
       "1447                            23.60                             87.657143   \n",
       "1448                            85.46                             96.712857   \n",
       "1449                            87.30                             97.445714   \n",
       "1450                             8.80                             78.998571   \n",
       "1451                            45.00                             88.765714   \n",
       "1452                           207.10                             91.600000   \n",
       "1453                            50.60                             94.280000   \n",
       "1454                            62.33                             94.660000   \n",
       "1455                            36.90                             89.082857   \n",
       "\n",
       "      reanalysis_sat_precip_amt_mm  reanalysis_specific_humidity_g_per_kg  \\\n",
       "1446                         86.70                              19.448571   \n",
       "1447                         26.00                              18.068571   \n",
       "1448                         73.97                              18.602857   \n",
       "1449                         59.40                              18.391429   \n",
       "1450                          1.15                              14.908571   \n",
       "1451                         55.30                              18.485714   \n",
       "1452                         86.47                              18.070000   \n",
       "1453                         58.94                              17.008571   \n",
       "1454                         59.67                              16.815714   \n",
       "1455                         63.22                              17.355714   \n",
       "\n",
       "      reanalysis_tdtr_k  station_avg_temp_c  station_diur_temp_rng_c  \\\n",
       "1446           7.757143           27.850000                 9.600000   \n",
       "1447           8.257143           28.850000                12.125000   \n",
       "1448           5.714286           27.600000                 9.600000   \n",
       "1449           6.185714           27.400000                10.400000   \n",
       "1450          11.242857           25.633333                 9.200000   \n",
       "1451           9.800000           28.633333                11.933333   \n",
       "1452           7.471429           27.433333                10.500000   \n",
       "1453           7.500000           24.400000                 6.900000   \n",
       "1454           7.871429           25.433333                 8.733333   \n",
       "1455          11.014286           27.475000                 9.900000   \n",
       "\n",
       "      station_max_temp_c  station_min_temp_c  station_precip_mm  \n",
       "1446                33.5                22.5               51.1  \n",
       "1447                36.2                21.4               35.4  \n",
       "1448                33.2                21.4                8.1  \n",
       "1449                33.7                21.2               32.0  \n",
       "1450                34.0                20.0                2.5  \n",
       "1451                35.4                22.4               27.0  \n",
       "1452                34.7                21.7               36.6  \n",
       "1453                32.2                19.2                7.4  \n",
       "1454                31.2                21.0               16.0  \n",
       "1455                33.7                22.2               20.4  \n",
       "\n",
       "[10 rows x 24 columns]"
      ]
     },
     "execution_count": 33,
     "metadata": {},
     "output_type": "execute_result"
    }
   ],
   "source": [
    "df_iq.tail(10)"
   ]
  },
  {
   "cell_type": "code",
   "execution_count": 34,
   "metadata": {
    "hidden": true
   },
   "outputs": [],
   "source": [
    "sj_start_week = df_sj['weekofyear'][df_sj['year'] == 1990]\n",
    "sj_end_week = df_sj['weekofyear'][df_sj['year'] == 2008]\n",
    "\n",
    "iq_start_week = df_iq['weekofyear'][df_iq['year'] == 2000]\n",
    "iq_end_week = df_iq['weekofyear'][df_iq['year'] == 2010]"
   ]
  },
  {
   "cell_type": "code",
   "execution_count": 35,
   "metadata": {
    "hidden": true
   },
   "outputs": [
    {
     "data": {
      "text/plain": [
       "count    26.000000\n",
       "mean     38.500000\n",
       "std       7.648529\n",
       "min      26.000000\n",
       "25%      32.250000\n",
       "50%      38.500000\n",
       "75%      44.750000\n",
       "max      51.000000\n",
       "Name: weekofyear, dtype: float64"
      ]
     },
     "execution_count": 35,
     "metadata": {},
     "output_type": "execute_result"
    }
   ],
   "source": [
    "# how many weeks in Iquitos dataset?\n",
    "iq_start_week.describe()"
   ]
  },
  {
   "cell_type": "code",
   "execution_count": 36,
   "metadata": {
    "hidden": true
   },
   "outputs": [
    {
     "name": "stdout",
     "output_type": "stream",
     "text": [
      "sj min: 18\n",
      "sj max: 17\n",
      "iq min: 26\n",
      "iq max: 51\n"
     ]
    }
   ],
   "source": [
    "# look at the first week number of the San Juan data in the first year (1990)\n",
    "# and the last year in the last year (2008)\n",
    "print('sj min: {}'.format(sj_start_week.min()))\n",
    "print('sj max: {}'.format(sj_end_week.max()))\n",
    "\n",
    "# look at the first week number of the Iquitos data in the first year (2000)\n",
    "# and the last year in the last year (2010)\n",
    "print('iq min: {}'.format(iq_start_week.min()))\n",
    "print('iq max: {}'.format(iq_start_week.max()))"
   ]
  },
  {
   "cell_type": "code",
   "execution_count": 37,
   "metadata": {
    "hidden": true
   },
   "outputs": [],
   "source": [
    "# sj starts in week 18 of 1990 and ends week 17 of 2008\n",
    "# iq starts in week 26 of 2000 and ends week 51 of 2010\n",
    "\n",
    "# estimates of the number of api calls to darksky:\n",
    "# sj = 35 weeks in 1990 + 52 weeks 1991 - 2008 + 17 weeks in 2008 = 988 weeks x 7 days = 6,916\n",
    "# iq = 27 weeks in 2000 + 52 weeks 2001 - 2009 + 51 weeks in 2010 = 546 weeks x 7 days = 3,822\n",
    "# total = 10,738 whcih means 11 days of 1K/day"
   ]
  },
  {
   "cell_type": "code",
   "execution_count": 38,
   "metadata": {
    "hidden": true
   },
   "outputs": [
    {
     "name": "stdout",
     "output_type": "stream",
     "text": [
      "<class 'pandas.core.frame.DataFrame'>\n",
      "RangeIndex: 1456 entries, 0 to 1455\n",
      "Data columns (total 24 columns):\n",
      "week_start_date                          1456 non-null datetime64[ns]\n",
      "city                                     1456 non-null object\n",
      "year                                     1456 non-null int64\n",
      "weekofyear                               1456 non-null int64\n",
      "ndvi_ne                                  1262 non-null float64\n",
      "ndvi_nw                                  1404 non-null float64\n",
      "ndvi_se                                  1434 non-null float64\n",
      "ndvi_sw                                  1434 non-null float64\n",
      "precipitation_amt_mm                     1443 non-null float64\n",
      "reanalysis_air_temp_k                    1446 non-null float64\n",
      "reanalysis_avg_temp_k                    1446 non-null float64\n",
      "reanalysis_dew_point_temp_k              1446 non-null float64\n",
      "reanalysis_max_air_temp_k                1446 non-null float64\n",
      "reanalysis_min_air_temp_k                1446 non-null float64\n",
      "reanalysis_precip_amt_kg_per_m2          1446 non-null float64\n",
      "reanalysis_relative_humidity_percent     1446 non-null float64\n",
      "reanalysis_sat_precip_amt_mm             1443 non-null float64\n",
      "reanalysis_specific_humidity_g_per_kg    1446 non-null float64\n",
      "reanalysis_tdtr_k                        1446 non-null float64\n",
      "station_avg_temp_c                       1413 non-null float64\n",
      "station_diur_temp_rng_c                  1413 non-null float64\n",
      "station_max_temp_c                       1436 non-null float64\n",
      "station_min_temp_c                       1442 non-null float64\n",
      "station_precip_mm                        1434 non-null float64\n",
      "dtypes: datetime64[ns](1), float64(20), int64(2), object(1)\n",
      "memory usage: 273.1+ KB\n"
     ]
    }
   ],
   "source": [
    "df_train.info()"
   ]
  },
  {
   "cell_type": "code",
   "execution_count": 39,
   "metadata": {
    "hidden": true
   },
   "outputs": [
    {
     "name": "stdout",
     "output_type": "stream",
     "text": [
      "<class 'pandas.core.frame.DataFrame'>\n",
      "RangeIndex: 1456 entries, 0 to 1455\n",
      "Data columns (total 4 columns):\n",
      "city           1456 non-null object\n",
      "year           1456 non-null int64\n",
      "weekofyear     1456 non-null int64\n",
      "total_cases    1456 non-null int64\n",
      "dtypes: int64(3), object(1)\n",
      "memory usage: 45.6+ KB\n"
     ]
    }
   ],
   "source": [
    "train_labels.info()"
   ]
  },
  {
   "cell_type": "code",
   "execution_count": 40,
   "metadata": {
    "hidden": true
   },
   "outputs": [],
   "source": [
    "df_train['total_cases'] = train_labels['total_cases']"
   ]
  },
  {
   "cell_type": "code",
   "execution_count": 41,
   "metadata": {
    "hidden": true
   },
   "outputs": [
    {
     "data": {
      "text/plain": [
       "<matplotlib.axes._subplots.AxesSubplot at 0x7fe3f4aec278>"
      ]
     },
     "execution_count": 41,
     "metadata": {},
     "output_type": "execute_result"
    },
    {
     "data": {
      "image/png": "[encoded data removed]",
      "text/plain": [
       "<Figure size 432x288 with 1 Axes>"
      ]
     },
     "metadata": {
      "needs_background": "light"
     },
     "output_type": "display_data"
    }
   ],
   "source": [
    "df_train['total_cases'].hist(bins=20)"
   ]
  },
  {
   "cell_type": "code",
   "execution_count": 42,
   "metadata": {
    "hidden": true
   },
   "outputs": [
    {
     "data": {
      "text/html": [
       "<div>\n",
       "<style scoped>\n",
       "    .dataframe tbody tr th:only-of-type {\n",
       "        vertical-align: middle;\n",
       "    }\n",
       "\n",
       "    .dataframe tbody tr th {\n",
       "        vertical-align: top;\n",
       "    }\n",
       "\n",
       "    .dataframe thead th {\n",
       "        text-align: right;\n",
       "    }\n",
       "</style>\n",
       "<table border=\"1\" class=\"dataframe\">\n",
       "  <thead>\n",
       "    <tr style=\"text-align: right;\">\n",
       "      <th></th>\n",
       "      <th>ndvi_ne</th>\n",
       "      <th>ndvi_nw</th>\n",
       "      <th>ndvi_se</th>\n",
       "      <th>ndvi_sw</th>\n",
       "      <th>precipitation_amt_mm</th>\n",
       "      <th>reanalysis_air_temp_k</th>\n",
       "      <th>reanalysis_avg_temp_k</th>\n",
       "      <th>reanalysis_dew_point_temp_k</th>\n",
       "    </tr>\n",
       "  </thead>\n",
       "  <tbody>\n",
       "    <tr>\n",
       "      <td>count</td>\n",
       "      <td>1262.000000</td>\n",
       "      <td>1404.000000</td>\n",
       "      <td>1434.000000</td>\n",
       "      <td>1434.000000</td>\n",
       "      <td>1443.000000</td>\n",
       "      <td>1446.000000</td>\n",
       "      <td>1446.000000</td>\n",
       "      <td>1446.000000</td>\n",
       "    </tr>\n",
       "    <tr>\n",
       "      <td>mean</td>\n",
       "      <td>0.142294</td>\n",
       "      <td>0.130553</td>\n",
       "      <td>0.203783</td>\n",
       "      <td>0.202305</td>\n",
       "      <td>45.760388</td>\n",
       "      <td>298.701852</td>\n",
       "      <td>299.225578</td>\n",
       "      <td>295.246356</td>\n",
       "    </tr>\n",
       "    <tr>\n",
       "      <td>std</td>\n",
       "      <td>0.140531</td>\n",
       "      <td>0.119999</td>\n",
       "      <td>0.073860</td>\n",
       "      <td>0.083903</td>\n",
       "      <td>43.715537</td>\n",
       "      <td>1.362420</td>\n",
       "      <td>1.261715</td>\n",
       "      <td>1.527810</td>\n",
       "    </tr>\n",
       "    <tr>\n",
       "      <td>min</td>\n",
       "      <td>-0.406250</td>\n",
       "      <td>-0.456100</td>\n",
       "      <td>-0.015533</td>\n",
       "      <td>-0.063457</td>\n",
       "      <td>0.000000</td>\n",
       "      <td>294.635714</td>\n",
       "      <td>294.892857</td>\n",
       "      <td>289.642857</td>\n",
       "    </tr>\n",
       "    <tr>\n",
       "      <td>25%</td>\n",
       "      <td>0.044950</td>\n",
       "      <td>0.049217</td>\n",
       "      <td>0.155087</td>\n",
       "      <td>0.144209</td>\n",
       "      <td>9.800000</td>\n",
       "      <td>297.658929</td>\n",
       "      <td>298.257143</td>\n",
       "      <td>294.118929</td>\n",
       "    </tr>\n",
       "    <tr>\n",
       "      <td>50%</td>\n",
       "      <td>0.128817</td>\n",
       "      <td>0.121429</td>\n",
       "      <td>0.196050</td>\n",
       "      <td>0.189450</td>\n",
       "      <td>38.340000</td>\n",
       "      <td>298.646429</td>\n",
       "      <td>299.289286</td>\n",
       "      <td>295.640714</td>\n",
       "    </tr>\n",
       "    <tr>\n",
       "      <td>75%</td>\n",
       "      <td>0.248483</td>\n",
       "      <td>0.216600</td>\n",
       "      <td>0.248846</td>\n",
       "      <td>0.246982</td>\n",
       "      <td>70.235000</td>\n",
       "      <td>299.833571</td>\n",
       "      <td>300.207143</td>\n",
       "      <td>296.460000</td>\n",
       "    </tr>\n",
       "    <tr>\n",
       "      <td>max</td>\n",
       "      <td>0.508357</td>\n",
       "      <td>0.454429</td>\n",
       "      <td>0.538314</td>\n",
       "      <td>0.546017</td>\n",
       "      <td>390.600000</td>\n",
       "      <td>302.200000</td>\n",
       "      <td>302.928571</td>\n",
       "      <td>298.450000</td>\n",
       "    </tr>\n",
       "  </tbody>\n",
       "</table>\n",
       "</div>"
      ],
      "text/plain": [
       "           ndvi_ne      ndvi_nw      ndvi_se      ndvi_sw  \\\n",
       "count  1262.000000  1404.000000  1434.000000  1434.000000   \n",
       "mean      0.142294     0.130553     0.203783     0.202305   \n",
       "std       0.140531     0.119999     0.073860     0.083903   \n",
       "min      -0.406250    -0.456100    -0.015533    -0.063457   \n",
       "25%       0.044950     0.049217     0.155087     0.144209   \n",
       "50%       0.128817     0.121429     0.196050     0.189450   \n",
       "75%       0.248483     0.216600     0.248846     0.246982   \n",
       "max       0.508357     0.454429     0.538314     0.546017   \n",
       "\n",
       "       precipitation_amt_mm  reanalysis_air_temp_k  reanalysis_avg_temp_k  \\\n",
       "count           1443.000000            1446.000000            1446.000000   \n",
       "mean              45.760388             298.701852             299.225578   \n",
       "std               43.715537               1.362420               1.261715   \n",
       "min                0.000000             294.635714             294.892857   \n",
       "25%                9.800000             297.658929             298.257143   \n",
       "50%               38.340000             298.646429             299.289286   \n",
       "75%               70.235000             299.833571             300.207143   \n",
       "max              390.600000             302.200000             302.928571   \n",
       "\n",
       "       reanalysis_dew_point_temp_k  \n",
       "count                  1446.000000  \n",
       "mean                    295.246356  \n",
       "std                       1.527810  \n",
       "min                     289.642857  \n",
       "25%                     294.118929  \n",
       "50%                     295.640714  \n",
       "75%                     296.460000  \n",
       "max                     298.450000  "
      ]
     },
     "execution_count": 42,
     "metadata": {},
     "output_type": "execute_result"
    }
   ],
   "source": [
    "df_train.iloc[:,4:12].describe()"
   ]
  },
  {
   "cell_type": "code",
   "execution_count": 43,
   "metadata": {
    "hidden": true
   },
   "outputs": [
    {
     "data": {
      "text/html": [
       "<div>\n",
       "<style scoped>\n",
       "    .dataframe tbody tr th:only-of-type {\n",
       "        vertical-align: middle;\n",
       "    }\n",
       "\n",
       "    .dataframe tbody tr th {\n",
       "        vertical-align: top;\n",
       "    }\n",
       "\n",
       "    .dataframe thead th {\n",
       "        text-align: right;\n",
       "    }\n",
       "</style>\n",
       "<table border=\"1\" class=\"dataframe\">\n",
       "  <thead>\n",
       "    <tr style=\"text-align: right;\">\n",
       "      <th></th>\n",
       "      <th>reanalysis_max_air_temp_k</th>\n",
       "      <th>reanalysis_min_air_temp_k</th>\n",
       "      <th>reanalysis_precip_amt_kg_per_m2</th>\n",
       "      <th>reanalysis_relative_humidity_percent</th>\n",
       "      <th>reanalysis_sat_precip_amt_mm</th>\n",
       "      <th>reanalysis_specific_humidity_g_per_kg</th>\n",
       "    </tr>\n",
       "  </thead>\n",
       "  <tbody>\n",
       "    <tr>\n",
       "      <td>count</td>\n",
       "      <td>1446.000000</td>\n",
       "      <td>1446.000000</td>\n",
       "      <td>1446.000000</td>\n",
       "      <td>1446.000000</td>\n",
       "      <td>1443.000000</td>\n",
       "      <td>1446.000000</td>\n",
       "    </tr>\n",
       "    <tr>\n",
       "      <td>mean</td>\n",
       "      <td>303.427109</td>\n",
       "      <td>295.719156</td>\n",
       "      <td>40.151819</td>\n",
       "      <td>82.161959</td>\n",
       "      <td>45.760388</td>\n",
       "      <td>16.746427</td>\n",
       "    </tr>\n",
       "    <tr>\n",
       "      <td>std</td>\n",
       "      <td>3.234601</td>\n",
       "      <td>2.565364</td>\n",
       "      <td>43.434399</td>\n",
       "      <td>7.153897</td>\n",
       "      <td>43.715537</td>\n",
       "      <td>1.542494</td>\n",
       "    </tr>\n",
       "    <tr>\n",
       "      <td>min</td>\n",
       "      <td>297.800000</td>\n",
       "      <td>286.900000</td>\n",
       "      <td>0.000000</td>\n",
       "      <td>57.787143</td>\n",
       "      <td>0.000000</td>\n",
       "      <td>11.715714</td>\n",
       "    </tr>\n",
       "    <tr>\n",
       "      <td>25%</td>\n",
       "      <td>301.000000</td>\n",
       "      <td>293.900000</td>\n",
       "      <td>13.055000</td>\n",
       "      <td>77.177143</td>\n",
       "      <td>9.800000</td>\n",
       "      <td>15.557143</td>\n",
       "    </tr>\n",
       "    <tr>\n",
       "      <td>50%</td>\n",
       "      <td>302.400000</td>\n",
       "      <td>296.200000</td>\n",
       "      <td>27.245000</td>\n",
       "      <td>80.301429</td>\n",
       "      <td>38.340000</td>\n",
       "      <td>17.087143</td>\n",
       "    </tr>\n",
       "    <tr>\n",
       "      <td>75%</td>\n",
       "      <td>305.500000</td>\n",
       "      <td>297.900000</td>\n",
       "      <td>52.200000</td>\n",
       "      <td>86.357857</td>\n",
       "      <td>70.235000</td>\n",
       "      <td>17.978214</td>\n",
       "    </tr>\n",
       "    <tr>\n",
       "      <td>max</td>\n",
       "      <td>314.000000</td>\n",
       "      <td>299.900000</td>\n",
       "      <td>570.500000</td>\n",
       "      <td>98.610000</td>\n",
       "      <td>390.600000</td>\n",
       "      <td>20.461429</td>\n",
       "    </tr>\n",
       "  </tbody>\n",
       "</table>\n",
       "</div>"
      ],
      "text/plain": [
       "       reanalysis_max_air_temp_k  reanalysis_min_air_temp_k  \\\n",
       "count                1446.000000                1446.000000   \n",
       "mean                  303.427109                 295.719156   \n",
       "std                     3.234601                   2.565364   \n",
       "min                   297.800000                 286.900000   \n",
       "25%                   301.000000                 293.900000   \n",
       "50%                   302.400000                 296.200000   \n",
       "75%                   305.500000                 297.900000   \n",
       "max                   314.000000                 299.900000   \n",
       "\n",
       "       reanalysis_precip_amt_kg_per_m2  reanalysis_relative_humidity_percent  \\\n",
       "count                      1446.000000                           1446.000000   \n",
       "mean                         40.151819                             82.161959   \n",
       "std                          43.434399                              7.153897   \n",
       "min                           0.000000                             57.787143   \n",
       "25%                          13.055000                             77.177143   \n",
       "50%                          27.245000                             80.301429   \n",
       "75%                          52.200000                             86.357857   \n",
       "max                         570.500000                             98.610000   \n",
       "\n",
       "       reanalysis_sat_precip_amt_mm  reanalysis_specific_humidity_g_per_kg  \n",
       "count                   1443.000000                            1446.000000  \n",
       "mean                      45.760388                              16.746427  \n",
       "std                       43.715537                               1.542494  \n",
       "min                        0.000000                              11.715714  \n",
       "25%                        9.800000                              15.557143  \n",
       "50%                       38.340000                              17.087143  \n",
       "75%                       70.235000                              17.978214  \n",
       "max                      390.600000                              20.461429  "
      ]
     },
     "execution_count": 43,
     "metadata": {},
     "output_type": "execute_result"
    }
   ],
   "source": [
    "df_train.iloc[:,12:18].describe()"
   ]
  },
  {
   "cell_type": "code",
   "execution_count": 44,
   "metadata": {
    "hidden": true
   },
   "outputs": [
    {
     "data": {
      "text/html": [
       "<div>\n",
       "<style scoped>\n",
       "    .dataframe tbody tr th:only-of-type {\n",
       "        vertical-align: middle;\n",
       "    }\n",
       "\n",
       "    .dataframe tbody tr th {\n",
       "        vertical-align: top;\n",
       "    }\n",
       "\n",
       "    .dataframe thead th {\n",
       "        text-align: right;\n",
       "    }\n",
       "</style>\n",
       "<table border=\"1\" class=\"dataframe\">\n",
       "  <thead>\n",
       "    <tr style=\"text-align: right;\">\n",
       "      <th></th>\n",
       "      <th>reanalysis_tdtr_k</th>\n",
       "      <th>station_avg_temp_c</th>\n",
       "      <th>station_diur_temp_rng_c</th>\n",
       "      <th>station_max_temp_c</th>\n",
       "      <th>station_min_temp_c</th>\n",
       "      <th>station_precip_mm</th>\n",
       "    </tr>\n",
       "  </thead>\n",
       "  <tbody>\n",
       "    <tr>\n",
       "      <td>count</td>\n",
       "      <td>1446.000000</td>\n",
       "      <td>1413.000000</td>\n",
       "      <td>1413.000000</td>\n",
       "      <td>1436.000000</td>\n",
       "      <td>1442.000000</td>\n",
       "      <td>1434.000000</td>\n",
       "    </tr>\n",
       "    <tr>\n",
       "      <td>mean</td>\n",
       "      <td>4.903754</td>\n",
       "      <td>27.185783</td>\n",
       "      <td>8.059328</td>\n",
       "      <td>32.452437</td>\n",
       "      <td>22.102150</td>\n",
       "      <td>39.326360</td>\n",
       "    </tr>\n",
       "    <tr>\n",
       "      <td>std</td>\n",
       "      <td>3.546445</td>\n",
       "      <td>1.292347</td>\n",
       "      <td>2.128568</td>\n",
       "      <td>1.959318</td>\n",
       "      <td>1.574066</td>\n",
       "      <td>47.455314</td>\n",
       "    </tr>\n",
       "    <tr>\n",
       "      <td>min</td>\n",
       "      <td>1.357143</td>\n",
       "      <td>21.400000</td>\n",
       "      <td>4.528571</td>\n",
       "      <td>26.700000</td>\n",
       "      <td>14.700000</td>\n",
       "      <td>0.000000</td>\n",
       "    </tr>\n",
       "    <tr>\n",
       "      <td>25%</td>\n",
       "      <td>2.328571</td>\n",
       "      <td>26.300000</td>\n",
       "      <td>6.514286</td>\n",
       "      <td>31.100000</td>\n",
       "      <td>21.100000</td>\n",
       "      <td>8.700000</td>\n",
       "    </tr>\n",
       "    <tr>\n",
       "      <td>50%</td>\n",
       "      <td>2.857143</td>\n",
       "      <td>27.414286</td>\n",
       "      <td>7.300000</td>\n",
       "      <td>32.800000</td>\n",
       "      <td>22.200000</td>\n",
       "      <td>23.850000</td>\n",
       "    </tr>\n",
       "    <tr>\n",
       "      <td>75%</td>\n",
       "      <td>7.625000</td>\n",
       "      <td>28.157143</td>\n",
       "      <td>9.566667</td>\n",
       "      <td>33.900000</td>\n",
       "      <td>23.300000</td>\n",
       "      <td>53.900000</td>\n",
       "    </tr>\n",
       "    <tr>\n",
       "      <td>max</td>\n",
       "      <td>16.028571</td>\n",
       "      <td>30.800000</td>\n",
       "      <td>15.800000</td>\n",
       "      <td>42.200000</td>\n",
       "      <td>25.600000</td>\n",
       "      <td>543.300000</td>\n",
       "    </tr>\n",
       "  </tbody>\n",
       "</table>\n",
       "</div>"
      ],
      "text/plain": [
       "       reanalysis_tdtr_k  station_avg_temp_c  station_diur_temp_rng_c  \\\n",
       "count        1446.000000         1413.000000              1413.000000   \n",
       "mean            4.903754           27.185783                 8.059328   \n",
       "std             3.546445            1.292347                 2.128568   \n",
       "min             1.357143           21.400000                 4.528571   \n",
       "25%             2.328571           26.300000                 6.514286   \n",
       "50%             2.857143           27.414286                 7.300000   \n",
       "75%             7.625000           28.157143                 9.566667   \n",
       "max            16.028571           30.800000                15.800000   \n",
       "\n",
       "       station_max_temp_c  station_min_temp_c  station_precip_mm  \n",
       "count         1436.000000         1442.000000        1434.000000  \n",
       "mean            32.452437           22.102150          39.326360  \n",
       "std              1.959318            1.574066          47.455314  \n",
       "min             26.700000           14.700000           0.000000  \n",
       "25%             31.100000           21.100000           8.700000  \n",
       "50%             32.800000           22.200000          23.850000  \n",
       "75%             33.900000           23.300000          53.900000  \n",
       "max             42.200000           25.600000         543.300000  "
      ]
     },
     "execution_count": 44,
     "metadata": {},
     "output_type": "execute_result"
    }
   ],
   "source": [
    "df_train.iloc[:,18:24].describe()"
   ]
  },
  {
   "cell_type": "code",
   "execution_count": 45,
   "metadata": {
    "hidden": true
   },
   "outputs": [
    {
     "data": {
      "text/plain": [
       "<matplotlib.axes._subplots.AxesSubplot at 0x7fe3f4a0b5c0>"
      ]
     },
     "execution_count": 45,
     "metadata": {},
     "output_type": "execute_result"
    },
    {
     "data": {
      "image/png": "[encoded data removed]",
      "text/plain": [
       "<Figure size 432x288 with 1 Axes>"
      ]
     },
     "metadata": {
      "needs_background": "light"
     },
     "output_type": "display_data"
    }
   ],
   "source": [
    "df_train.precipitation_amt_mm.hist()"
   ]
  },
  {
   "cell_type": "code",
   "execution_count": 46,
   "metadata": {
    "hidden": true
   },
   "outputs": [
    {
     "data": {
      "text/plain": [
       "week_start_date                            0\n",
       "city                                       0\n",
       "year                                       0\n",
       "weekofyear                                 0\n",
       "ndvi_ne                                  194\n",
       "ndvi_nw                                   52\n",
       "ndvi_se                                   22\n",
       "ndvi_sw                                   22\n",
       "precipitation_amt_mm                      13\n",
       "reanalysis_air_temp_k                     10\n",
       "reanalysis_avg_temp_k                     10\n",
       "reanalysis_dew_point_temp_k               10\n",
       "reanalysis_max_air_temp_k                 10\n",
       "reanalysis_min_air_temp_k                 10\n",
       "reanalysis_precip_amt_kg_per_m2           10\n",
       "reanalysis_relative_humidity_percent      10\n",
       "reanalysis_sat_precip_amt_mm              13\n",
       "reanalysis_specific_humidity_g_per_kg     10\n",
       "reanalysis_tdtr_k                         10\n",
       "station_avg_temp_c                        43\n",
       "station_diur_temp_rng_c                   43\n",
       "station_max_temp_c                        20\n",
       "station_min_temp_c                        14\n",
       "station_precip_mm                         22\n",
       "total_cases                                0\n",
       "dtype: int64"
      ]
     },
     "execution_count": 46,
     "metadata": {},
     "output_type": "execute_result"
    }
   ],
   "source": [
    "df_train.isnull().sum()"
   ]
  },
  {
   "cell_type": "code",
   "execution_count": 47,
   "metadata": {
    "hidden": true
   },
   "outputs": [
    {
     "data": {
      "text/html": [
       "<div>\n",
       "<style scoped>\n",
       "    .dataframe tbody tr th:only-of-type {\n",
       "        vertical-align: middle;\n",
       "    }\n",
       "\n",
       "    .dataframe tbody tr th {\n",
       "        vertical-align: top;\n",
       "    }\n",
       "\n",
       "    .dataframe thead th {\n",
       "        text-align: right;\n",
       "    }\n",
       "</style>\n",
       "<table border=\"1\" class=\"dataframe\">\n",
       "  <thead>\n",
       "    <tr style=\"text-align: right;\">\n",
       "      <th></th>\n",
       "      <th>city</th>\n",
       "      <th>year</th>\n",
       "      <th>weekofyear</th>\n",
       "      <th>total_cases</th>\n",
       "    </tr>\n",
       "  </thead>\n",
       "  <tbody>\n",
       "    <tr>\n",
       "      <td>0</td>\n",
       "      <td>sj</td>\n",
       "      <td>1990</td>\n",
       "      <td>18</td>\n",
       "      <td>4</td>\n",
       "    </tr>\n",
       "    <tr>\n",
       "      <td>1</td>\n",
       "      <td>sj</td>\n",
       "      <td>1990</td>\n",
       "      <td>19</td>\n",
       "      <td>5</td>\n",
       "    </tr>\n",
       "    <tr>\n",
       "      <td>2</td>\n",
       "      <td>sj</td>\n",
       "      <td>1990</td>\n",
       "      <td>20</td>\n",
       "      <td>4</td>\n",
       "    </tr>\n",
       "    <tr>\n",
       "      <td>3</td>\n",
       "      <td>sj</td>\n",
       "      <td>1990</td>\n",
       "      <td>21</td>\n",
       "      <td>3</td>\n",
       "    </tr>\n",
       "    <tr>\n",
       "      <td>4</td>\n",
       "      <td>sj</td>\n",
       "      <td>1990</td>\n",
       "      <td>22</td>\n",
       "      <td>6</td>\n",
       "    </tr>\n",
       "  </tbody>\n",
       "</table>\n",
       "</div>"
      ],
      "text/plain": [
       "  city  year  weekofyear  total_cases\n",
       "0   sj  1990          18            4\n",
       "1   sj  1990          19            5\n",
       "2   sj  1990          20            4\n",
       "3   sj  1990          21            3\n",
       "4   sj  1990          22            6"
      ]
     },
     "execution_count": 47,
     "metadata": {},
     "output_type": "execute_result"
    }
   ],
   "source": [
    "train_labels.head()"
   ]
  },
  {
   "cell_type": "code",
   "execution_count": 48,
   "metadata": {
    "hidden": true
   },
   "outputs": [],
   "source": [
    "# split the training lables\n",
    "sj_cases = train_labels[train_labels['city'] == 'sj']\n",
    "iq_cases = train_labels[train_labels['city'] == 'iq']\n"
   ]
  },
  {
   "cell_type": "code",
   "execution_count": 49,
   "metadata": {
    "hidden": true
   },
   "outputs": [
    {
     "data": {
      "text/plain": [
       "<matplotlib.axes._subplots.AxesSubplot at 0x7fe3f4b16898>"
      ]
     },
     "execution_count": 49,
     "metadata": {},
     "output_type": "execute_result"
    },
    {
     "data": {
      "image/png": "[encoded data removed]",
      "text/plain": [
       "<Figure size 432x288 with 1 Axes>"
      ]
     },
     "metadata": {
      "needs_background": "light"
     },
     "output_type": "display_data"
    }
   ],
   "source": [
    "# chart the history of cases in San Juan\n",
    "sj_cases['total_cases'].plot()\n"
   ]
  },
  {
   "cell_type": "code",
   "execution_count": 50,
   "metadata": {
    "hidden": true
   },
   "outputs": [
    {
     "data": {
      "text/plain": [
       "<matplotlib.axes._subplots.AxesSubplot at 0x7fe3f44a8dd8>"
      ]
     },
     "execution_count": 50,
     "metadata": {},
     "output_type": "execute_result"
    },
    {
     "data": {
      "image/png": "[encoded data removed]",
      "text/plain": [
       "<Figure size 432x288 with 1 Axes>"
      ]
     },
     "metadata": {
      "needs_background": "light"
     },
     "output_type": "display_data"
    }
   ],
   "source": [
    "# chart the history of cases in Iquitos\n",
    "iq_cases['total_cases'].plot()"
   ]
  },
  {
   "cell_type": "code",
   "execution_count": 51,
   "metadata": {
    "hidden": true
   },
   "outputs": [
    {
     "data": {
      "text/plain": [
       "week_start_date                            0\n",
       "city                                       0\n",
       "year                                       0\n",
       "weekofyear                                 0\n",
       "ndvi_ne                                  191\n",
       "ndvi_nw                                   49\n",
       "ndvi_se                                   19\n",
       "ndvi_sw                                   19\n",
       "precipitation_amt_mm                       9\n",
       "reanalysis_air_temp_k                      6\n",
       "reanalysis_avg_temp_k                      6\n",
       "reanalysis_dew_point_temp_k                6\n",
       "reanalysis_max_air_temp_k                  6\n",
       "reanalysis_min_air_temp_k                  6\n",
       "reanalysis_precip_amt_kg_per_m2            6\n",
       "reanalysis_relative_humidity_percent       6\n",
       "reanalysis_sat_precip_amt_mm               9\n",
       "reanalysis_specific_humidity_g_per_kg      6\n",
       "reanalysis_tdtr_k                          6\n",
       "station_avg_temp_c                         6\n",
       "station_diur_temp_rng_c                    6\n",
       "station_max_temp_c                         6\n",
       "station_min_temp_c                         6\n",
       "station_precip_mm                          6\n",
       "dtype: int64"
      ]
     },
     "execution_count": 51,
     "metadata": {},
     "output_type": "execute_result"
    }
   ],
   "source": [
    "# check for missing values in San Juan dataset\n",
    "df_sj.isnull().sum()"
   ]
  },
  {
   "cell_type": "code",
   "execution_count": 52,
   "metadata": {
    "hidden": true
   },
   "outputs": [
    {
     "name": "stdout",
     "output_type": "stream",
     "text": [
      "<class 'pandas.core.frame.DataFrame'>\n",
      "Int64Index: 936 entries, 0 to 935\n",
      "Data columns (total 24 columns):\n",
      "week_start_date                          936 non-null datetime64[ns]\n",
      "city                                     936 non-null object\n",
      "year                                     936 non-null int64\n",
      "weekofyear                               936 non-null int64\n",
      "ndvi_ne                                  745 non-null float64\n",
      "ndvi_nw                                  887 non-null float64\n",
      "ndvi_se                                  917 non-null float64\n",
      "ndvi_sw                                  917 non-null float64\n",
      "precipitation_amt_mm                     927 non-null float64\n",
      "reanalysis_air_temp_k                    930 non-null float64\n",
      "reanalysis_avg_temp_k                    930 non-null float64\n",
      "reanalysis_dew_point_temp_k              930 non-null float64\n",
      "reanalysis_max_air_temp_k                930 non-null float64\n",
      "reanalysis_min_air_temp_k                930 non-null float64\n",
      "reanalysis_precip_amt_kg_per_m2          930 non-null float64\n",
      "reanalysis_relative_humidity_percent     930 non-null float64\n",
      "reanalysis_sat_precip_amt_mm             927 non-null float64\n",
      "reanalysis_specific_humidity_g_per_kg    930 non-null float64\n",
      "reanalysis_tdtr_k                        930 non-null float64\n",
      "station_avg_temp_c                       930 non-null float64\n",
      "station_diur_temp_rng_c                  930 non-null float64\n",
      "station_max_temp_c                       930 non-null float64\n",
      "station_min_temp_c                       930 non-null float64\n",
      "station_precip_mm                        930 non-null float64\n",
      "dtypes: datetime64[ns](1), float64(20), int64(2), object(1)\n",
      "memory usage: 182.8+ KB\n"
     ]
    }
   ],
   "source": [
    "# look at the datatypes in the San Juan dataset\n",
    "df_sj.info()"
   ]
  },
  {
   "cell_type": "code",
   "execution_count": 53,
   "metadata": {
    "hidden": true
   },
   "outputs": [
    {
     "data": {
      "text/plain": [
       "week_start_date                           0\n",
       "city                                      0\n",
       "year                                      0\n",
       "weekofyear                                0\n",
       "ndvi_ne                                   3\n",
       "ndvi_nw                                   3\n",
       "ndvi_se                                   3\n",
       "ndvi_sw                                   3\n",
       "precipitation_amt_mm                      4\n",
       "reanalysis_air_temp_k                     4\n",
       "reanalysis_avg_temp_k                     4\n",
       "reanalysis_dew_point_temp_k               4\n",
       "reanalysis_max_air_temp_k                 4\n",
       "reanalysis_min_air_temp_k                 4\n",
       "reanalysis_precip_amt_kg_per_m2           4\n",
       "reanalysis_relative_humidity_percent      4\n",
       "reanalysis_sat_precip_amt_mm              4\n",
       "reanalysis_specific_humidity_g_per_kg     4\n",
       "reanalysis_tdtr_k                         4\n",
       "station_avg_temp_c                       37\n",
       "station_diur_temp_rng_c                  37\n",
       "station_max_temp_c                       14\n",
       "station_min_temp_c                        8\n",
       "station_precip_mm                        16\n",
       "dtype: int64"
      ]
     },
     "execution_count": 53,
     "metadata": {},
     "output_type": "execute_result"
    }
   ],
   "source": [
    "# check for missing values in the Iquitos dataset\n",
    "df_iq.isnull().sum()"
   ]
  },
  {
   "cell_type": "code",
   "execution_count": 54,
   "metadata": {
    "hidden": true
   },
   "outputs": [
    {
     "name": "stdout",
     "output_type": "stream",
     "text": [
      "<class 'pandas.core.frame.DataFrame'>\n",
      "Int64Index: 520 entries, 936 to 1455\n",
      "Data columns (total 24 columns):\n",
      "week_start_date                          520 non-null datetime64[ns]\n",
      "city                                     520 non-null object\n",
      "year                                     520 non-null int64\n",
      "weekofyear                               520 non-null int64\n",
      "ndvi_ne                                  517 non-null float64\n",
      "ndvi_nw                                  517 non-null float64\n",
      "ndvi_se                                  517 non-null float64\n",
      "ndvi_sw                                  517 non-null float64\n",
      "precipitation_amt_mm                     516 non-null float64\n",
      "reanalysis_air_temp_k                    516 non-null float64\n",
      "reanalysis_avg_temp_k                    516 non-null float64\n",
      "reanalysis_dew_point_temp_k              516 non-null float64\n",
      "reanalysis_max_air_temp_k                516 non-null float64\n",
      "reanalysis_min_air_temp_k                516 non-null float64\n",
      "reanalysis_precip_amt_kg_per_m2          516 non-null float64\n",
      "reanalysis_relative_humidity_percent     516 non-null float64\n",
      "reanalysis_sat_precip_amt_mm             516 non-null float64\n",
      "reanalysis_specific_humidity_g_per_kg    516 non-null float64\n",
      "reanalysis_tdtr_k                        516 non-null float64\n",
      "station_avg_temp_c                       483 non-null float64\n",
      "station_diur_temp_rng_c                  483 non-null float64\n",
      "station_max_temp_c                       506 non-null float64\n",
      "station_min_temp_c                       512 non-null float64\n",
      "station_precip_mm                        504 non-null float64\n",
      "dtypes: datetime64[ns](1), float64(20), int64(2), object(1)\n",
      "memory usage: 101.6+ KB\n"
     ]
    }
   ],
   "source": [
    "# look at the datatypes in the Iquitos dataset\n",
    "df_iq.info()"
   ]
  },
  {
   "cell_type": "code",
   "execution_count": 55,
   "metadata": {
    "hidden": true
   },
   "outputs": [],
   "source": [
    "# the Iquiotos dataset needed the index reset\n",
    "df_iq = df_iq.reset_index(drop=True)"
   ]
  },
  {
   "cell_type": "code",
   "execution_count": 56,
   "metadata": {
    "hidden": true
   },
   "outputs": [
    {
     "data": {
      "text/html": [
       "<div>\n",
       "<style scoped>\n",
       "    .dataframe tbody tr th:only-of-type {\n",
       "        vertical-align: middle;\n",
       "    }\n",
       "\n",
       "    .dataframe tbody tr th {\n",
       "        vertical-align: top;\n",
       "    }\n",
       "\n",
       "    .dataframe thead th {\n",
       "        text-align: right;\n",
       "    }\n",
       "</style>\n",
       "<table border=\"1\" class=\"dataframe\">\n",
       "  <thead>\n",
       "    <tr style=\"text-align: right;\">\n",
       "      <th></th>\n",
       "      <th>week_start_date</th>\n",
       "      <th>city</th>\n",
       "      <th>year</th>\n",
       "      <th>weekofyear</th>\n",
       "      <th>ndvi_ne</th>\n",
       "      <th>ndvi_nw</th>\n",
       "      <th>ndvi_se</th>\n",
       "      <th>ndvi_sw</th>\n",
       "      <th>precipitation_amt_mm</th>\n",
       "      <th>reanalysis_air_temp_k</th>\n",
       "      <th>...</th>\n",
       "      <th>reanalysis_precip_amt_kg_per_m2</th>\n",
       "      <th>reanalysis_relative_humidity_percent</th>\n",
       "      <th>reanalysis_sat_precip_amt_mm</th>\n",
       "      <th>reanalysis_specific_humidity_g_per_kg</th>\n",
       "      <th>reanalysis_tdtr_k</th>\n",
       "      <th>station_avg_temp_c</th>\n",
       "      <th>station_diur_temp_rng_c</th>\n",
       "      <th>station_max_temp_c</th>\n",
       "      <th>station_min_temp_c</th>\n",
       "      <th>station_precip_mm</th>\n",
       "    </tr>\n",
       "  </thead>\n",
       "  <tbody>\n",
       "    <tr>\n",
       "      <td>0</td>\n",
       "      <td>2000-07-01</td>\n",
       "      <td>iq</td>\n",
       "      <td>2000</td>\n",
       "      <td>26</td>\n",
       "      <td>0.192886</td>\n",
       "      <td>0.132257</td>\n",
       "      <td>0.340886</td>\n",
       "      <td>0.247200</td>\n",
       "      <td>25.41</td>\n",
       "      <td>296.740000</td>\n",
       "      <td>...</td>\n",
       "      <td>43.19</td>\n",
       "      <td>92.418571</td>\n",
       "      <td>25.41</td>\n",
       "      <td>16.651429</td>\n",
       "      <td>8.928571</td>\n",
       "      <td>26.400000</td>\n",
       "      <td>10.775000</td>\n",
       "      <td>32.5</td>\n",
       "      <td>20.7</td>\n",
       "      <td>3.0</td>\n",
       "    </tr>\n",
       "    <tr>\n",
       "      <td>1</td>\n",
       "      <td>2000-07-08</td>\n",
       "      <td>iq</td>\n",
       "      <td>2000</td>\n",
       "      <td>27</td>\n",
       "      <td>0.216833</td>\n",
       "      <td>0.276100</td>\n",
       "      <td>0.289457</td>\n",
       "      <td>0.241657</td>\n",
       "      <td>60.61</td>\n",
       "      <td>296.634286</td>\n",
       "      <td>...</td>\n",
       "      <td>46.00</td>\n",
       "      <td>93.581429</td>\n",
       "      <td>60.61</td>\n",
       "      <td>16.862857</td>\n",
       "      <td>10.314286</td>\n",
       "      <td>26.900000</td>\n",
       "      <td>11.566667</td>\n",
       "      <td>34.0</td>\n",
       "      <td>20.8</td>\n",
       "      <td>55.6</td>\n",
       "    </tr>\n",
       "    <tr>\n",
       "      <td>2</td>\n",
       "      <td>2000-07-15</td>\n",
       "      <td>iq</td>\n",
       "      <td>2000</td>\n",
       "      <td>28</td>\n",
       "      <td>0.176757</td>\n",
       "      <td>0.173129</td>\n",
       "      <td>0.204114</td>\n",
       "      <td>0.128014</td>\n",
       "      <td>55.52</td>\n",
       "      <td>296.415714</td>\n",
       "      <td>...</td>\n",
       "      <td>64.77</td>\n",
       "      <td>95.848571</td>\n",
       "      <td>55.52</td>\n",
       "      <td>17.120000</td>\n",
       "      <td>7.385714</td>\n",
       "      <td>26.800000</td>\n",
       "      <td>11.466667</td>\n",
       "      <td>33.0</td>\n",
       "      <td>20.7</td>\n",
       "      <td>38.1</td>\n",
       "    </tr>\n",
       "    <tr>\n",
       "      <td>3</td>\n",
       "      <td>2000-07-22</td>\n",
       "      <td>iq</td>\n",
       "      <td>2000</td>\n",
       "      <td>29</td>\n",
       "      <td>0.227729</td>\n",
       "      <td>0.145429</td>\n",
       "      <td>0.254200</td>\n",
       "      <td>0.200314</td>\n",
       "      <td>5.60</td>\n",
       "      <td>295.357143</td>\n",
       "      <td>...</td>\n",
       "      <td>23.96</td>\n",
       "      <td>87.234286</td>\n",
       "      <td>5.60</td>\n",
       "      <td>14.431429</td>\n",
       "      <td>9.114286</td>\n",
       "      <td>25.766667</td>\n",
       "      <td>10.533333</td>\n",
       "      <td>31.5</td>\n",
       "      <td>14.7</td>\n",
       "      <td>30.0</td>\n",
       "    </tr>\n",
       "    <tr>\n",
       "      <td>4</td>\n",
       "      <td>2000-07-29</td>\n",
       "      <td>iq</td>\n",
       "      <td>2000</td>\n",
       "      <td>30</td>\n",
       "      <td>0.328643</td>\n",
       "      <td>0.322129</td>\n",
       "      <td>0.254371</td>\n",
       "      <td>0.361043</td>\n",
       "      <td>62.76</td>\n",
       "      <td>296.432857</td>\n",
       "      <td>...</td>\n",
       "      <td>31.80</td>\n",
       "      <td>88.161429</td>\n",
       "      <td>62.76</td>\n",
       "      <td>15.444286</td>\n",
       "      <td>9.500000</td>\n",
       "      <td>26.600000</td>\n",
       "      <td>11.480000</td>\n",
       "      <td>33.3</td>\n",
       "      <td>19.1</td>\n",
       "      <td>4.0</td>\n",
       "    </tr>\n",
       "  </tbody>\n",
       "</table>\n",
       "<p>5 rows × 24 columns</p>\n",
       "</div>"
      ],
      "text/plain": [
       "  week_start_date city  year  weekofyear   ndvi_ne   ndvi_nw   ndvi_se  \\\n",
       "0      2000-07-01   iq  2000          26  0.192886  0.132257  0.340886   \n",
       "1      2000-07-08   iq  2000          27  0.216833  0.276100  0.289457   \n",
       "2      2000-07-15   iq  2000          28  0.176757  0.173129  0.204114   \n",
       "3      2000-07-22   iq  2000          29  0.227729  0.145429  0.254200   \n",
       "4      2000-07-29   iq  2000          30  0.328643  0.322129  0.254371   \n",
       "\n",
       "    ndvi_sw  precipitation_amt_mm  reanalysis_air_temp_k  ...  \\\n",
       "0  0.247200                 25.41             296.740000  ...   \n",
       "1  0.241657                 60.61             296.634286  ...   \n",
       "2  0.128014                 55.52             296.415714  ...   \n",
       "3  0.200314                  5.60             295.357143  ...   \n",
       "4  0.361043                 62.76             296.432857  ...   \n",
       "\n",
       "   reanalysis_precip_amt_kg_per_m2  reanalysis_relative_humidity_percent  \\\n",
       "0                            43.19                             92.418571   \n",
       "1                            46.00                             93.581429   \n",
       "2                            64.77                             95.848571   \n",
       "3                            23.96                             87.234286   \n",
       "4                            31.80                             88.161429   \n",
       "\n",
       "   reanalysis_sat_precip_amt_mm  reanalysis_specific_humidity_g_per_kg  \\\n",
       "0                         25.41                              16.651429   \n",
       "1                         60.61                              16.862857   \n",
       "2                         55.52                              17.120000   \n",
       "3                          5.60                              14.431429   \n",
       "4                         62.76                              15.444286   \n",
       "\n",
       "   reanalysis_tdtr_k  station_avg_temp_c  station_diur_temp_rng_c  \\\n",
       "0           8.928571           26.400000                10.775000   \n",
       "1          10.314286           26.900000                11.566667   \n",
       "2           7.385714           26.800000                11.466667   \n",
       "3           9.114286           25.766667                10.533333   \n",
       "4           9.500000           26.600000                11.480000   \n",
       "\n",
       "   station_max_temp_c  station_min_temp_c  station_precip_mm  \n",
       "0                32.5                20.7                3.0  \n",
       "1                34.0                20.8               55.6  \n",
       "2                33.0                20.7               38.1  \n",
       "3                31.5                14.7               30.0  \n",
       "4                33.3                19.1                4.0  \n",
       "\n",
       "[5 rows x 24 columns]"
      ]
     },
     "execution_count": 56,
     "metadata": {},
     "output_type": "execute_result"
    }
   ],
   "source": [
    "df_iq.head()\n"
   ]
  },
  {
   "cell_type": "code",
   "execution_count": 57,
   "metadata": {
    "hidden": true
   },
   "outputs": [],
   "source": [
    "# drop the no longer needed city factor from each dataset\n",
    "df_sj.drop('city', axis=1, inplace=True)\n",
    "df_iq.drop('city', axis=1, inplace=True)"
   ]
  },
  {
   "cell_type": "code",
   "execution_count": 58,
   "metadata": {
    "hidden": true
   },
   "outputs": [
    {
     "data": {
      "text/plain": [
       "count    745.000000\n",
       "mean       0.057925\n",
       "std        0.107153\n",
       "min       -0.406250\n",
       "25%        0.004500\n",
       "50%        0.057700\n",
       "75%        0.111100\n",
       "max        0.493400\n",
       "Name: ndvi_ne, dtype: float64"
      ]
     },
     "execution_count": 58,
     "metadata": {},
     "output_type": "execute_result"
    }
   ],
   "source": [
    "# the only factor missing more than 10% of values is 'ndvi_ne' in the San Juan dataset.\n",
    "# look at summary stats for this factor\n",
    "df_sj['ndvi_ne'].describe()"
   ]
  },
  {
   "cell_type": "code",
   "execution_count": 59,
   "metadata": {
    "hidden": true
   },
   "outputs": [
    {
     "data": {
      "text/plain": [
       "<matplotlib.axes._subplots.AxesSubplot at 0x7fe3f446e8d0>"
      ]
     },
     "execution_count": 59,
     "metadata": {},
     "output_type": "execute_result"
    },
    {
     "data": {
      "image/png": "[encoded data removed]",
      "text/plain": [
       "<Figure size 432x288 with 1 Axes>"
      ]
     },
     "metadata": {
      "needs_background": "light"
     },
     "output_type": "display_data"
    }
   ],
   "source": [
    "df_sj['ndvi_ne'].plot()"
   ]
  },
  {
   "cell_type": "code",
   "execution_count": 60,
   "metadata": {
    "hidden": true
   },
   "outputs": [],
   "source": [
    "# a substantial \"chunk\" of data is missing in weeks around 250. In that range it looks like filling\n",
    "# with the mean of 0.05 will be a reasonable choice. I will fill this and all the other missing values\n",
    "# with the mean of each factor."
   ]
  },
  {
   "cell_type": "code",
   "execution_count": 61,
   "metadata": {
    "hidden": true
   },
   "outputs": [],
   "source": [
    "# function to fill values with the mean of a factor, skipping the date_time column\n",
    "def fill_mean(dataframe):\n",
    "    for i, col in enumerate(dataframe):\n",
    "#         print(col)\n",
    "        if col != 'week_start_date':\n",
    "            dataframe[col].fillna(dataframe[col].mean(), inplace=True)"
   ]
  },
  {
   "cell_type": "code",
   "execution_count": 62,
   "metadata": {
    "hidden": true
   },
   "outputs": [],
   "source": [
    "fill_mean(df_sj)"
   ]
  },
  {
   "cell_type": "code",
   "execution_count": 63,
   "metadata": {
    "hidden": true
   },
   "outputs": [],
   "source": [
    "fill_mean(df_iq)"
   ]
  },
  {
   "cell_type": "code",
   "execution_count": 64,
   "metadata": {
    "hidden": true
   },
   "outputs": [
    {
     "data": {
      "text/plain": [
       "week_start_date                          0\n",
       "year                                     0\n",
       "weekofyear                               0\n",
       "ndvi_ne                                  0\n",
       "ndvi_nw                                  0\n",
       "ndvi_se                                  0\n",
       "ndvi_sw                                  0\n",
       "precipitation_amt_mm                     0\n",
       "reanalysis_air_temp_k                    0\n",
       "reanalysis_avg_temp_k                    0\n",
       "reanalysis_dew_point_temp_k              0\n",
       "reanalysis_max_air_temp_k                0\n",
       "reanalysis_min_air_temp_k                0\n",
       "reanalysis_precip_amt_kg_per_m2          0\n",
       "reanalysis_relative_humidity_percent     0\n",
       "reanalysis_sat_precip_amt_mm             0\n",
       "reanalysis_specific_humidity_g_per_kg    0\n",
       "reanalysis_tdtr_k                        0\n",
       "station_avg_temp_c                       0\n",
       "station_diur_temp_rng_c                  0\n",
       "station_max_temp_c                       0\n",
       "station_min_temp_c                       0\n",
       "station_precip_mm                        0\n",
       "dtype: int64"
      ]
     },
     "execution_count": 64,
     "metadata": {},
     "output_type": "execute_result"
    }
   ],
   "source": [
    "# check for nulls again\n",
    "df_sj.isnull().sum()"
   ]
  },
  {
   "cell_type": "code",
   "execution_count": 65,
   "metadata": {
    "hidden": true
   },
   "outputs": [
    {
     "data": {
      "text/plain": [
       "week_start_date                          0\n",
       "year                                     0\n",
       "weekofyear                               0\n",
       "ndvi_ne                                  0\n",
       "ndvi_nw                                  0\n",
       "ndvi_se                                  0\n",
       "ndvi_sw                                  0\n",
       "precipitation_amt_mm                     0\n",
       "reanalysis_air_temp_k                    0\n",
       "reanalysis_avg_temp_k                    0\n",
       "reanalysis_dew_point_temp_k              0\n",
       "reanalysis_max_air_temp_k                0\n",
       "reanalysis_min_air_temp_k                0\n",
       "reanalysis_precip_amt_kg_per_m2          0\n",
       "reanalysis_relative_humidity_percent     0\n",
       "reanalysis_sat_precip_amt_mm             0\n",
       "reanalysis_specific_humidity_g_per_kg    0\n",
       "reanalysis_tdtr_k                        0\n",
       "station_avg_temp_c                       0\n",
       "station_diur_temp_rng_c                  0\n",
       "station_max_temp_c                       0\n",
       "station_min_temp_c                       0\n",
       "station_precip_mm                        0\n",
       "dtype: int64"
      ]
     },
     "execution_count": 65,
     "metadata": {},
     "output_type": "execute_result"
    }
   ],
   "source": [
    "# check for nulls again\n",
    "df_iq.isnull().sum()"
   ]
  },
  {
   "cell_type": "markdown",
   "metadata": {
    "heading_collapsed": true
   },
   "source": [
    "# Summary of the DrivenData records"
   ]
  },
  {
   "cell_type": "markdown",
   "metadata": {
    "hidden": true
   },
   "source": [
    "Training datasets:\n",
    "* df_sj = 936 records\n",
    "* df_iq = 520 records\n",
    "\n",
    "\n",
    "Labels datasets:\n",
    "* sj_train_labels - 936 records\n",
    "* iq_train_labels - 520 records\n",
    "\n",
    "Labels dataframes have these columns: 'year', 'weekofyear', 'total_cases'\n",
    "\n",
    "The training and label datasets for each city are in matching week order."
   ]
  },
  {
   "cell_type": "code",
   "execution_count": 66,
   "metadata": {
    "hidden": true
   },
   "outputs": [
    {
     "name": "stdout",
     "output_type": "stream",
     "text": [
      "<class 'pandas.core.frame.DataFrame'>\n",
      "Int64Index: 936 entries, 0 to 935\n",
      "Data columns (total 23 columns):\n",
      "week_start_date                          936 non-null datetime64[ns]\n",
      "year                                     936 non-null int64\n",
      "weekofyear                               936 non-null int64\n",
      "ndvi_ne                                  936 non-null float64\n",
      "ndvi_nw                                  936 non-null float64\n",
      "ndvi_se                                  936 non-null float64\n",
      "ndvi_sw                                  936 non-null float64\n",
      "precipitation_amt_mm                     936 non-null float64\n",
      "reanalysis_air_temp_k                    936 non-null float64\n",
      "reanalysis_avg_temp_k                    936 non-null float64\n",
      "reanalysis_dew_point_temp_k              936 non-null float64\n",
      "reanalysis_max_air_temp_k                936 non-null float64\n",
      "reanalysis_min_air_temp_k                936 non-null float64\n",
      "reanalysis_precip_amt_kg_per_m2          936 non-null float64\n",
      "reanalysis_relative_humidity_percent     936 non-null float64\n",
      "reanalysis_sat_precip_amt_mm             936 non-null float64\n",
      "reanalysis_specific_humidity_g_per_kg    936 non-null float64\n",
      "reanalysis_tdtr_k                        936 non-null float64\n",
      "station_avg_temp_c                       936 non-null float64\n",
      "station_diur_temp_rng_c                  936 non-null float64\n",
      "station_max_temp_c                       936 non-null float64\n",
      "station_min_temp_c                       936 non-null float64\n",
      "station_precip_mm                        936 non-null float64\n",
      "dtypes: datetime64[ns](1), float64(20), int64(2)\n",
      "memory usage: 175.5 KB\n"
     ]
    }
   ],
   "source": [
    "df_sj.info()"
   ]
  },
  {
   "cell_type": "code",
   "execution_count": 67,
   "metadata": {
    "hidden": true
   },
   "outputs": [
    {
     "name": "stdout",
     "output_type": "stream",
     "text": [
      "<class 'pandas.core.frame.DataFrame'>\n",
      "Int64Index: 936 entries, 0 to 935\n",
      "Data columns (total 3 columns):\n",
      "year           936 non-null int64\n",
      "weekofyear     936 non-null int64\n",
      "total_cases    936 non-null int64\n",
      "dtypes: int64(3)\n",
      "memory usage: 29.2 KB\n"
     ]
    }
   ],
   "source": [
    "sj_train_labels.info()"
   ]
  },
  {
   "cell_type": "code",
   "execution_count": 68,
   "metadata": {
    "hidden": true,
    "scrolled": true
   },
   "outputs": [
    {
     "name": "stdout",
     "output_type": "stream",
     "text": [
      "<class 'pandas.core.frame.DataFrame'>\n",
      "RangeIndex: 520 entries, 0 to 519\n",
      "Data columns (total 23 columns):\n",
      "week_start_date                          520 non-null datetime64[ns]\n",
      "year                                     520 non-null int64\n",
      "weekofyear                               520 non-null int64\n",
      "ndvi_ne                                  520 non-null float64\n",
      "ndvi_nw                                  520 non-null float64\n",
      "ndvi_se                                  520 non-null float64\n",
      "ndvi_sw                                  520 non-null float64\n",
      "precipitation_amt_mm                     520 non-null float64\n",
      "reanalysis_air_temp_k                    520 non-null float64\n",
      "reanalysis_avg_temp_k                    520 non-null float64\n",
      "reanalysis_dew_point_temp_k              520 non-null float64\n",
      "reanalysis_max_air_temp_k                520 non-null float64\n",
      "reanalysis_min_air_temp_k                520 non-null float64\n",
      "reanalysis_precip_amt_kg_per_m2          520 non-null float64\n",
      "reanalysis_relative_humidity_percent     520 non-null float64\n",
      "reanalysis_sat_precip_amt_mm             520 non-null float64\n",
      "reanalysis_specific_humidity_g_per_kg    520 non-null float64\n",
      "reanalysis_tdtr_k                        520 non-null float64\n",
      "station_avg_temp_c                       520 non-null float64\n",
      "station_diur_temp_rng_c                  520 non-null float64\n",
      "station_max_temp_c                       520 non-null float64\n",
      "station_min_temp_c                       520 non-null float64\n",
      "station_precip_mm                        520 non-null float64\n",
      "dtypes: datetime64[ns](1), float64(20), int64(2)\n",
      "memory usage: 93.6 KB\n"
     ]
    }
   ],
   "source": [
    "df_iq.info()"
   ]
  },
  {
   "cell_type": "code",
   "execution_count": 69,
   "metadata": {
    "hidden": true
   },
   "outputs": [
    {
     "name": "stdout",
     "output_type": "stream",
     "text": [
      "<class 'pandas.core.frame.DataFrame'>\n",
      "Int64Index: 520 entries, 936 to 1455\n",
      "Data columns (total 3 columns):\n",
      "year           520 non-null int64\n",
      "weekofyear     520 non-null int64\n",
      "total_cases    520 non-null int64\n",
      "dtypes: int64(3)\n",
      "memory usage: 16.2 KB\n"
     ]
    }
   ],
   "source": [
    "iq_train_labels.info()"
   ]
  },
  {
   "cell_type": "markdown",
   "metadata": {
    "heading_collapsed": true
   },
   "source": [
    "# Finalization of the DrivenData datasets "
   ]
  },
  {
   "cell_type": "code",
   "execution_count": 70,
   "metadata": {
    "hidden": true
   },
   "outputs": [],
   "source": [
    "# add the total_cases value to the training datasets\n",
    "sj_final = df_sj.copy()\n",
    "sj_final['total_cases'] = sj_train_labels['total_cases']"
   ]
  },
  {
   "cell_type": "code",
   "execution_count": 71,
   "metadata": {
    "hidden": true
   },
   "outputs": [
    {
     "data": {
      "text/html": [
       "<div>\n",
       "<style scoped>\n",
       "    .dataframe tbody tr th:only-of-type {\n",
       "        vertical-align: middle;\n",
       "    }\n",
       "\n",
       "    .dataframe tbody tr th {\n",
       "        vertical-align: top;\n",
       "    }\n",
       "\n",
       "    .dataframe thead th {\n",
       "        text-align: right;\n",
       "    }\n",
       "</style>\n",
       "<table border=\"1\" class=\"dataframe\">\n",
       "  <thead>\n",
       "    <tr style=\"text-align: right;\">\n",
       "      <th></th>\n",
       "      <th>week_start_date</th>\n",
       "      <th>year</th>\n",
       "      <th>weekofyear</th>\n",
       "      <th>ndvi_ne</th>\n",
       "      <th>ndvi_nw</th>\n",
       "      <th>ndvi_se</th>\n",
       "      <th>ndvi_sw</th>\n",
       "      <th>precipitation_amt_mm</th>\n",
       "      <th>reanalysis_air_temp_k</th>\n",
       "      <th>reanalysis_avg_temp_k</th>\n",
       "      <th>...</th>\n",
       "      <th>reanalysis_relative_humidity_percent</th>\n",
       "      <th>reanalysis_sat_precip_amt_mm</th>\n",
       "      <th>reanalysis_specific_humidity_g_per_kg</th>\n",
       "      <th>reanalysis_tdtr_k</th>\n",
       "      <th>station_avg_temp_c</th>\n",
       "      <th>station_diur_temp_rng_c</th>\n",
       "      <th>station_max_temp_c</th>\n",
       "      <th>station_min_temp_c</th>\n",
       "      <th>station_precip_mm</th>\n",
       "      <th>total_cases</th>\n",
       "    </tr>\n",
       "  </thead>\n",
       "  <tbody>\n",
       "    <tr>\n",
       "      <td>0</td>\n",
       "      <td>1990-04-30</td>\n",
       "      <td>1990</td>\n",
       "      <td>18</td>\n",
       "      <td>0.122600</td>\n",
       "      <td>0.103725</td>\n",
       "      <td>0.198483</td>\n",
       "      <td>0.177617</td>\n",
       "      <td>12.42</td>\n",
       "      <td>297.572857</td>\n",
       "      <td>297.742857</td>\n",
       "      <td>...</td>\n",
       "      <td>73.365714</td>\n",
       "      <td>12.42</td>\n",
       "      <td>14.012857</td>\n",
       "      <td>2.628571</td>\n",
       "      <td>25.442857</td>\n",
       "      <td>6.900000</td>\n",
       "      <td>29.4</td>\n",
       "      <td>20.0</td>\n",
       "      <td>16.0</td>\n",
       "      <td>4</td>\n",
       "    </tr>\n",
       "    <tr>\n",
       "      <td>1</td>\n",
       "      <td>1990-05-07</td>\n",
       "      <td>1990</td>\n",
       "      <td>19</td>\n",
       "      <td>0.169900</td>\n",
       "      <td>0.142175</td>\n",
       "      <td>0.162357</td>\n",
       "      <td>0.155486</td>\n",
       "      <td>22.82</td>\n",
       "      <td>298.211429</td>\n",
       "      <td>298.442857</td>\n",
       "      <td>...</td>\n",
       "      <td>77.368571</td>\n",
       "      <td>22.82</td>\n",
       "      <td>15.372857</td>\n",
       "      <td>2.371429</td>\n",
       "      <td>26.714286</td>\n",
       "      <td>6.371429</td>\n",
       "      <td>31.7</td>\n",
       "      <td>22.2</td>\n",
       "      <td>8.6</td>\n",
       "      <td>5</td>\n",
       "    </tr>\n",
       "    <tr>\n",
       "      <td>2</td>\n",
       "      <td>1990-05-14</td>\n",
       "      <td>1990</td>\n",
       "      <td>20</td>\n",
       "      <td>0.032250</td>\n",
       "      <td>0.172967</td>\n",
       "      <td>0.157200</td>\n",
       "      <td>0.170843</td>\n",
       "      <td>34.54</td>\n",
       "      <td>298.781429</td>\n",
       "      <td>298.878571</td>\n",
       "      <td>...</td>\n",
       "      <td>82.052857</td>\n",
       "      <td>34.54</td>\n",
       "      <td>16.848571</td>\n",
       "      <td>2.300000</td>\n",
       "      <td>26.714286</td>\n",
       "      <td>6.485714</td>\n",
       "      <td>32.2</td>\n",
       "      <td>22.8</td>\n",
       "      <td>41.4</td>\n",
       "      <td>4</td>\n",
       "    </tr>\n",
       "    <tr>\n",
       "      <td>3</td>\n",
       "      <td>1990-05-21</td>\n",
       "      <td>1990</td>\n",
       "      <td>21</td>\n",
       "      <td>0.128633</td>\n",
       "      <td>0.245067</td>\n",
       "      <td>0.227557</td>\n",
       "      <td>0.235886</td>\n",
       "      <td>15.36</td>\n",
       "      <td>298.987143</td>\n",
       "      <td>299.228571</td>\n",
       "      <td>...</td>\n",
       "      <td>80.337143</td>\n",
       "      <td>15.36</td>\n",
       "      <td>16.672857</td>\n",
       "      <td>2.428571</td>\n",
       "      <td>27.471429</td>\n",
       "      <td>6.771429</td>\n",
       "      <td>33.3</td>\n",
       "      <td>23.3</td>\n",
       "      <td>4.0</td>\n",
       "      <td>3</td>\n",
       "    </tr>\n",
       "    <tr>\n",
       "      <td>4</td>\n",
       "      <td>1990-05-28</td>\n",
       "      <td>1990</td>\n",
       "      <td>22</td>\n",
       "      <td>0.196200</td>\n",
       "      <td>0.262200</td>\n",
       "      <td>0.251200</td>\n",
       "      <td>0.247340</td>\n",
       "      <td>7.52</td>\n",
       "      <td>299.518571</td>\n",
       "      <td>299.664286</td>\n",
       "      <td>...</td>\n",
       "      <td>80.460000</td>\n",
       "      <td>7.52</td>\n",
       "      <td>17.210000</td>\n",
       "      <td>3.014286</td>\n",
       "      <td>28.942857</td>\n",
       "      <td>9.371429</td>\n",
       "      <td>35.0</td>\n",
       "      <td>23.9</td>\n",
       "      <td>5.8</td>\n",
       "      <td>6</td>\n",
       "    </tr>\n",
       "  </tbody>\n",
       "</table>\n",
       "<p>5 rows × 24 columns</p>\n",
       "</div>"
      ],
      "text/plain": [
       "  week_start_date  year  weekofyear   ndvi_ne   ndvi_nw   ndvi_se   ndvi_sw  \\\n",
       "0      1990-04-30  1990          18  0.122600  0.103725  0.198483  0.177617   \n",
       "1      1990-05-07  1990          19  0.169900  0.142175  0.162357  0.155486   \n",
       "2      1990-05-14  1990          20  0.032250  0.172967  0.157200  0.170843   \n",
       "3      1990-05-21  1990          21  0.128633  0.245067  0.227557  0.235886   \n",
       "4      1990-05-28  1990          22  0.196200  0.262200  0.251200  0.247340   \n",
       "\n",
       "   precipitation_amt_mm  reanalysis_air_temp_k  reanalysis_avg_temp_k  ...  \\\n",
       "0                 12.42             297.572857             297.742857  ...   \n",
       "1                 22.82             298.211429             298.442857  ...   \n",
       "2                 34.54             298.781429             298.878571  ...   \n",
       "3                 15.36             298.987143             299.228571  ...   \n",
       "4                  7.52             299.518571             299.664286  ...   \n",
       "\n",
       "   reanalysis_relative_humidity_percent  reanalysis_sat_precip_amt_mm  \\\n",
       "0                             73.365714                         12.42   \n",
       "1                             77.368571                         22.82   \n",
       "2                             82.052857                         34.54   \n",
       "3                             80.337143                         15.36   \n",
       "4                             80.460000                          7.52   \n",
       "\n",
       "   reanalysis_specific_humidity_g_per_kg  reanalysis_tdtr_k  \\\n",
       "0                              14.012857           2.628571   \n",
       "1                              15.372857           2.371429   \n",
       "2                              16.848571           2.300000   \n",
       "3                              16.672857           2.428571   \n",
       "4                              17.210000           3.014286   \n",
       "\n",
       "   station_avg_temp_c  station_diur_temp_rng_c  station_max_temp_c  \\\n",
       "0           25.442857                 6.900000                29.4   \n",
       "1           26.714286                 6.371429                31.7   \n",
       "2           26.714286                 6.485714                32.2   \n",
       "3           27.471429                 6.771429                33.3   \n",
       "4           28.942857                 9.371429                35.0   \n",
       "\n",
       "   station_min_temp_c  station_precip_mm  total_cases  \n",
       "0                20.0               16.0            4  \n",
       "1                22.2                8.6            5  \n",
       "2                22.8               41.4            4  \n",
       "3                23.3                4.0            3  \n",
       "4                23.9                5.8            6  \n",
       "\n",
       "[5 rows x 24 columns]"
      ]
     },
     "execution_count": 71,
     "metadata": {},
     "output_type": "execute_result"
    }
   ],
   "source": [
    "sj_final.head()"
   ]
  },
  {
   "cell_type": "code",
   "execution_count": 72,
   "metadata": {
    "hidden": true
   },
   "outputs": [],
   "source": [
    "# reset the index of the Iquitos training labels dataset\n",
    "iq_train_labels = iq_train_labels.reset_index(drop=True)"
   ]
  },
  {
   "cell_type": "code",
   "execution_count": 73,
   "metadata": {
    "hidden": true
   },
   "outputs": [],
   "source": [
    "# add the total_cases value to the training datasets\n",
    "iq_final = df_iq.copy()\n",
    "iq_final['total_cases'] = iq_train_labels['total_cases']"
   ]
  },
  {
   "cell_type": "code",
   "execution_count": 74,
   "metadata": {
    "hidden": true
   },
   "outputs": [
    {
     "data": {
      "text/html": [
       "<div>\n",
       "<style scoped>\n",
       "    .dataframe tbody tr th:only-of-type {\n",
       "        vertical-align: middle;\n",
       "    }\n",
       "\n",
       "    .dataframe tbody tr th {\n",
       "        vertical-align: top;\n",
       "    }\n",
       "\n",
       "    .dataframe thead th {\n",
       "        text-align: right;\n",
       "    }\n",
       "</style>\n",
       "<table border=\"1\" class=\"dataframe\">\n",
       "  <thead>\n",
       "    <tr style=\"text-align: right;\">\n",
       "      <th></th>\n",
       "      <th>week_start_date</th>\n",
       "      <th>year</th>\n",
       "      <th>weekofyear</th>\n",
       "      <th>ndvi_ne</th>\n",
       "      <th>ndvi_nw</th>\n",
       "      <th>ndvi_se</th>\n",
       "      <th>ndvi_sw</th>\n",
       "      <th>precipitation_amt_mm</th>\n",
       "      <th>reanalysis_air_temp_k</th>\n",
       "      <th>reanalysis_avg_temp_k</th>\n",
       "      <th>...</th>\n",
       "      <th>reanalysis_relative_humidity_percent</th>\n",
       "      <th>reanalysis_sat_precip_amt_mm</th>\n",
       "      <th>reanalysis_specific_humidity_g_per_kg</th>\n",
       "      <th>reanalysis_tdtr_k</th>\n",
       "      <th>station_avg_temp_c</th>\n",
       "      <th>station_diur_temp_rng_c</th>\n",
       "      <th>station_max_temp_c</th>\n",
       "      <th>station_min_temp_c</th>\n",
       "      <th>station_precip_mm</th>\n",
       "      <th>total_cases</th>\n",
       "    </tr>\n",
       "  </thead>\n",
       "  <tbody>\n",
       "    <tr>\n",
       "      <td>0</td>\n",
       "      <td>2000-07-01</td>\n",
       "      <td>2000</td>\n",
       "      <td>26</td>\n",
       "      <td>0.192886</td>\n",
       "      <td>0.132257</td>\n",
       "      <td>0.340886</td>\n",
       "      <td>0.247200</td>\n",
       "      <td>25.41</td>\n",
       "      <td>296.740000</td>\n",
       "      <td>298.450000</td>\n",
       "      <td>...</td>\n",
       "      <td>92.418571</td>\n",
       "      <td>25.41</td>\n",
       "      <td>16.651429</td>\n",
       "      <td>8.928571</td>\n",
       "      <td>26.400000</td>\n",
       "      <td>10.775000</td>\n",
       "      <td>32.5</td>\n",
       "      <td>20.7</td>\n",
       "      <td>3.0</td>\n",
       "      <td>0</td>\n",
       "    </tr>\n",
       "    <tr>\n",
       "      <td>1</td>\n",
       "      <td>2000-07-08</td>\n",
       "      <td>2000</td>\n",
       "      <td>27</td>\n",
       "      <td>0.216833</td>\n",
       "      <td>0.276100</td>\n",
       "      <td>0.289457</td>\n",
       "      <td>0.241657</td>\n",
       "      <td>60.61</td>\n",
       "      <td>296.634286</td>\n",
       "      <td>298.428571</td>\n",
       "      <td>...</td>\n",
       "      <td>93.581429</td>\n",
       "      <td>60.61</td>\n",
       "      <td>16.862857</td>\n",
       "      <td>10.314286</td>\n",
       "      <td>26.900000</td>\n",
       "      <td>11.566667</td>\n",
       "      <td>34.0</td>\n",
       "      <td>20.8</td>\n",
       "      <td>55.6</td>\n",
       "      <td>0</td>\n",
       "    </tr>\n",
       "    <tr>\n",
       "      <td>2</td>\n",
       "      <td>2000-07-15</td>\n",
       "      <td>2000</td>\n",
       "      <td>28</td>\n",
       "      <td>0.176757</td>\n",
       "      <td>0.173129</td>\n",
       "      <td>0.204114</td>\n",
       "      <td>0.128014</td>\n",
       "      <td>55.52</td>\n",
       "      <td>296.415714</td>\n",
       "      <td>297.392857</td>\n",
       "      <td>...</td>\n",
       "      <td>95.848571</td>\n",
       "      <td>55.52</td>\n",
       "      <td>17.120000</td>\n",
       "      <td>7.385714</td>\n",
       "      <td>26.800000</td>\n",
       "      <td>11.466667</td>\n",
       "      <td>33.0</td>\n",
       "      <td>20.7</td>\n",
       "      <td>38.1</td>\n",
       "      <td>0</td>\n",
       "    </tr>\n",
       "    <tr>\n",
       "      <td>3</td>\n",
       "      <td>2000-07-22</td>\n",
       "      <td>2000</td>\n",
       "      <td>29</td>\n",
       "      <td>0.227729</td>\n",
       "      <td>0.145429</td>\n",
       "      <td>0.254200</td>\n",
       "      <td>0.200314</td>\n",
       "      <td>5.60</td>\n",
       "      <td>295.357143</td>\n",
       "      <td>296.228571</td>\n",
       "      <td>...</td>\n",
       "      <td>87.234286</td>\n",
       "      <td>5.60</td>\n",
       "      <td>14.431429</td>\n",
       "      <td>9.114286</td>\n",
       "      <td>25.766667</td>\n",
       "      <td>10.533333</td>\n",
       "      <td>31.5</td>\n",
       "      <td>14.7</td>\n",
       "      <td>30.0</td>\n",
       "      <td>0</td>\n",
       "    </tr>\n",
       "    <tr>\n",
       "      <td>4</td>\n",
       "      <td>2000-07-29</td>\n",
       "      <td>2000</td>\n",
       "      <td>30</td>\n",
       "      <td>0.328643</td>\n",
       "      <td>0.322129</td>\n",
       "      <td>0.254371</td>\n",
       "      <td>0.361043</td>\n",
       "      <td>62.76</td>\n",
       "      <td>296.432857</td>\n",
       "      <td>297.635714</td>\n",
       "      <td>...</td>\n",
       "      <td>88.161429</td>\n",
       "      <td>62.76</td>\n",
       "      <td>15.444286</td>\n",
       "      <td>9.500000</td>\n",
       "      <td>26.600000</td>\n",
       "      <td>11.480000</td>\n",
       "      <td>33.3</td>\n",
       "      <td>19.1</td>\n",
       "      <td>4.0</td>\n",
       "      <td>0</td>\n",
       "    </tr>\n",
       "  </tbody>\n",
       "</table>\n",
       "<p>5 rows × 24 columns</p>\n",
       "</div>"
      ],
      "text/plain": [
       "  week_start_date  year  weekofyear   ndvi_ne   ndvi_nw   ndvi_se   ndvi_sw  \\\n",
       "0      2000-07-01  2000          26  0.192886  0.132257  0.340886  0.247200   \n",
       "1      2000-07-08  2000          27  0.216833  0.276100  0.289457  0.241657   \n",
       "2      2000-07-15  2000          28  0.176757  0.173129  0.204114  0.128014   \n",
       "3      2000-07-22  2000          29  0.227729  0.145429  0.254200  0.200314   \n",
       "4      2000-07-29  2000          30  0.328643  0.322129  0.254371  0.361043   \n",
       "\n",
       "   precipitation_amt_mm  reanalysis_air_temp_k  reanalysis_avg_temp_k  ...  \\\n",
       "0                 25.41             296.740000             298.450000  ...   \n",
       "1                 60.61             296.634286             298.428571  ...   \n",
       "2                 55.52             296.415714             297.392857  ...   \n",
       "3                  5.60             295.357143             296.228571  ...   \n",
       "4                 62.76             296.432857             297.635714  ...   \n",
       "\n",
       "   reanalysis_relative_humidity_percent  reanalysis_sat_precip_amt_mm  \\\n",
       "0                             92.418571                         25.41   \n",
       "1                             93.581429                         60.61   \n",
       "2                             95.848571                         55.52   \n",
       "3                             87.234286                          5.60   \n",
       "4                             88.161429                         62.76   \n",
       "\n",
       "   reanalysis_specific_humidity_g_per_kg  reanalysis_tdtr_k  \\\n",
       "0                              16.651429           8.928571   \n",
       "1                              16.862857          10.314286   \n",
       "2                              17.120000           7.385714   \n",
       "3                              14.431429           9.114286   \n",
       "4                              15.444286           9.500000   \n",
       "\n",
       "   station_avg_temp_c  station_diur_temp_rng_c  station_max_temp_c  \\\n",
       "0           26.400000                10.775000                32.5   \n",
       "1           26.900000                11.566667                34.0   \n",
       "2           26.800000                11.466667                33.0   \n",
       "3           25.766667                10.533333                31.5   \n",
       "4           26.600000                11.480000                33.3   \n",
       "\n",
       "   station_min_temp_c  station_precip_mm  total_cases  \n",
       "0                20.7                3.0            0  \n",
       "1                20.8               55.6            0  \n",
       "2                20.7               38.1            0  \n",
       "3                14.7               30.0            0  \n",
       "4                19.1                4.0            0  \n",
       "\n",
       "[5 rows x 24 columns]"
      ]
     },
     "execution_count": 74,
     "metadata": {},
     "output_type": "execute_result"
    }
   ],
   "source": [
    "iq_final.head()"
   ]
  },
  {
   "cell_type": "code",
   "execution_count": 75,
   "metadata": {
    "hidden": true
   },
   "outputs": [],
   "source": [
    "# drop the unnecessary columns in the final datasets\n",
    "sj_final.drop(['year', 'weekofyear'], axis=1, inplace=True)\n",
    "iq_final.drop(['year', 'weekofyear'], axis=1, inplace=True)"
   ]
  },
  {
   "cell_type": "code",
   "execution_count": 76,
   "metadata": {
    "hidden": true
   },
   "outputs": [
    {
     "name": "stdout",
     "output_type": "stream",
     "text": [
      "\n",
      "\n"
     ]
    },
    {
     "data": {
      "image/png": "[encoded data removed]",
      "text/plain": [
       "<Figure size 1440x720 with 1 Axes>"
      ]
     },
     "metadata": {
      "needs_background": "light"
     },
     "output_type": "display_data"
    },
    {
     "name": "stdout",
     "output_type": "stream",
     "text": [
      "\n",
      "\n"
     ]
    },
    {
     "data": {
      "image/png": "[encoded data removed]",
      "text/plain": [
       "<Figure size 1440x720 with 1 Axes>"
      ]
     },
     "metadata": {
      "needs_background": "light"
     },
     "output_type": "display_data"
    }
   ],
   "source": [
    "# look at the history of cases in San Juan by year\n",
    "print('\\n')\n",
    "x = sj_final['week_start_date']\n",
    "y = sj_final['total_cases']\n",
    "plt.figure(figsize=(20,10))\n",
    "plt.plot(x,y)\n",
    "plt.xlabel('year', fontsize=24)\n",
    "plt.ylabel('total_cases', fontsize=24)\n",
    "plt.xticks(fontsize=18)\n",
    "plt.yticks(fontsize=18)\n",
    "plt.title('San Juan Dengue Fever total cases per week', fontsize=24)\n",
    "plt.show()\n",
    "\n",
    "print('\\n')\n",
    "\n",
    "# look at the history of cases in Iquitos by year\n",
    "x = iq_final['week_start_date']\n",
    "y = iq_final['total_cases']\n",
    "plt.figure(figsize=(20,10))\n",
    "plt.plot(x,y)\n",
    "plt.xlabel('year', fontsize=24)\n",
    "plt.ylabel('total_cases', fontsize=24)\n",
    "plt.xticks(fontsize=18)\n",
    "plt.yticks(fontsize=18)\n",
    "plt.title('Iquitos Dengue Fever total cases per week', fontsize=24)\n",
    "plt.show()\n"
   ]
  },
  {
   "cell_type": "markdown",
   "metadata": {
    "heading_collapsed": true,
    "hidden": true
   },
   "source": [
    "## Some observations about the total_cases history:\n",
    "### In San Juan, the total cases seem to rise in second half of the year, with particularly large spikes in cases in 1995 and 1999.\n",
    "### In Iquitos the total cases also seem to rise in the second half of the year, with a very large spike in 2004, with another two large spikes in 2007 and 2008. The spikes in Iquitos seem to occur a few months later than in San Juan."
   ]
  },
  {
   "cell_type": "code",
   "execution_count": 77,
   "metadata": {
    "hidden": true
   },
   "outputs": [],
   "source": [
    "# look at how a chosen test proportion for each dataset will fall on the history of total_cases\n",
    "\n",
    "proportions = [.6, .65, .70, .75, .8, .85, .9, .95]\n",
    "\n",
    "def show_dates(df):\n",
    "    for proportion in proportions:\n",
    "        start_index = math.floor(len(df) * proportion)\n",
    "        proportion_text = str(proportion*100)\n",
    "        date = df.iloc[start_index][0]\n",
    "        \n",
    "#         sub_df.iloc[0]['A']\n",
    "\n",
    "#         week = row.iloc[0]\n",
    "        print('Start week at {} percent for training is {}'.format(proportion_text, date))\n"
   ]
  },
  {
   "cell_type": "code",
   "execution_count": 78,
   "metadata": {
    "hidden": true
   },
   "outputs": [
    {
     "name": "stdout",
     "output_type": "stream",
     "text": [
      "Start week at 60.0 percent for training is 2001-02-12 00:00:00\n",
      "Start week at 65.0 percent for training is 2002-01-08 00:00:00\n",
      "Start week at 70.0 percent for training is 2002-12-03 00:00:00\n",
      "Start week at 75.0 percent for training is 2003-10-29 00:00:00\n",
      "Start week at 80.0 percent for training is 2004-09-16 00:00:00\n",
      "Start week at 85.0 percent for training is 2005-08-13 00:00:00\n",
      "Start week at 90.0 percent for training is 2006-07-09 00:00:00\n",
      "Start week at 95.0 percent for training is 2007-06-04 00:00:00\n"
     ]
    }
   ],
   "source": [
    "show_dates(sj_final)"
   ]
  },
  {
   "cell_type": "code",
   "execution_count": 79,
   "metadata": {
    "hidden": true
   },
   "outputs": [
    {
     "name": "stdout",
     "output_type": "stream",
     "text": [
      "Start week at 60.0 percent for training is 2006-07-02 00:00:00\n",
      "Start week at 65.0 percent for training is 2007-01-01 00:00:00\n",
      "Start week at 70.0 percent for training is 2007-07-02 00:00:00\n",
      "Start week at 75.0 percent for training is 2008-01-01 00:00:00\n",
      "Start week at 80.0 percent for training is 2008-07-01 00:00:00\n",
      "Start week at 85.0 percent for training is 2009-01-01 00:00:00\n",
      "Start week at 90.0 percent for training is 2009-07-02 00:00:00\n",
      "Start week at 95.0 percent for training is 2010-01-01 00:00:00\n"
     ]
    }
   ],
   "source": [
    "show_dates(iq_final)"
   ]
  },
  {
   "cell_type": "markdown",
   "metadata": {
    "hidden": true
   },
   "source": [
    "For San Juan, choosing a date prior to 2006 will force the model to predict cases in years 2006 to 2007. This corresponds to a training proportion of about .87\n",
    "\n",
    "For Iquitos, choosing a date prior to mid-2008 will force the model to test predict cases in the last half of 2008, all of 2009, and the first half of 2010. This corresponds to a training proportion of about .79"
   ]
  },
  {
   "cell_type": "markdown",
   "metadata": {
    "heading_collapsed": true
   },
   "source": [
    "# Functions to prepare the data and the LSTM models"
   ]
  },
  {
   "cell_type": "code",
   "execution_count": 80,
   "metadata": {
    "hidden": true
   },
   "outputs": [],
   "source": [
    "# function converts a time series for supervised learning\n",
    "# modified from \n",
    "# https://machinelearningmastery.com/multivariate-time-series-forecasting-lstms-keras/\n",
    "\n",
    "def series_to_supervised(data, n_in=1, n_out=1, dropnan=True):\n",
    "    \"\"\"\n",
    "    arguments:\n",
    "    data: list of values\n",
    "    n_in: lookback time period(s)\n",
    "    n_out: prediction time period(s)\n",
    "    dropnan: True/False\n",
    "    \"\"\"\n",
    "    n_vars = 1 if type(data) is list else data.shape[1]\n",
    "    df = pd.DataFrame(data)\n",
    "    cols, names = list(), list()\n",
    "    # input sequence (t-n, ... t-1)\n",
    "    for i in range(n_in, 0, -1):\n",
    "        cols.append(df.shift(i))\n",
    "        names += [('var%d(t-%d)' % (j+1, i)) for j in range(n_vars)]\n",
    "    # forecast sequence (t, t+1, ... t+n)\n",
    "    for i in range(0, n_out):\n",
    "        cols.append(df.shift(-i))\n",
    "        if i == 0:\n",
    "            names += [('var%d(t)' % (j+1)) for j in range(n_vars)]\n",
    "        else:\n",
    "            names += [('var%d(t+%d)' % (j+1, i)) for j in range(n_vars)]\n",
    "    # put it all together\n",
    "    agg = pd.concat(cols, axis=1)\n",
    "    agg.columns = names\n",
    "    # drop rows with NaN values\n",
    "    if dropnan:\n",
    "        agg.dropna(inplace=True)\n",
    "    return agg"
   ]
  },
  {
   "cell_type": "code",
   "execution_count": 81,
   "metadata": {
    "hidden": true
   },
   "outputs": [],
   "source": [
    "# create function to create models and display results\n",
    "\n",
    "def run_lstm(dataset_in, dataset_name_string, chart_title, start_col, end_col, \n",
    "             lookback_periods, train_proportion, dropout_proportion, epoch_count):\n",
    "    '''\n",
    "    dataset_in: pandas dataframe\n",
    "    dataset_name_string: string for name of dataset_in, used in report\n",
    "    chart_title: string for plot title\n",
    "    start_col: index of column to start training data with\n",
    "    end_col: index of column to end the training date from\n",
    "    lookback_periods: prior time periods to use when predicting\n",
    "    train_proportion: proportion of the dataset to use for the training data (0-1)\n",
    "    dropout_proportion: proportion of nodes in the dropout layer to randomly disable during an epoch\n",
    "    epoch_count: number of epochs to run the model\n",
    "    '''\n",
    "    \n",
    "    #get values, starting with start_col, which in these datasets skips 'week_start_date'\n",
    "    dataset = dataset_in.copy()\n",
    "    values = dataset[dataset.columns[start_col:end_col]].values\n",
    "\n",
    "    # ensure all data are of type float32\n",
    "    values = values.astype('float32')\n",
    "\n",
    "    # normalize all features\n",
    "    scaler = MinMaxScaler(feature_range=(0, 1))\n",
    "    scaled = scaler.fit_transform(values)\n",
    "\n",
    "    # convert data to proper format for supervised learning using lookback_periods\n",
    "    reframed = series_to_supervised(scaled, lookback_periods, 1)\n",
    "\n",
    "    # split the data into train and test sets based on given proportion\n",
    "    values = reframed.values\n",
    "    n_train_weeks = math.floor(len(values) * train_proportion)\n",
    "    train = values[:n_train_weeks, :]\n",
    "    test = values[n_train_weeks:, :]\n",
    "    \n",
    "    # split into explanatry (as opposed to independant) and response variables. \n",
    "    # Last column, 'total_cases' is the response variable\n",
    "    train_X, train_y = train[:, :-1], train[:, -1]\n",
    "    test_X, test_y = test[:, :-1], test[:, -1]\n",
    "    \n",
    "    # reshape input to be 3D [samples, timesteps, features]\n",
    "    train_X = train_X.reshape((train_X.shape[0], 1, train_X.shape[1]))\n",
    "    test_X = test_X.reshape((test_X.shape[0], 1, test_X.shape[1]))\n",
    "    \n",
    "    # Create an LSTM model with a dropout layer of specified probability as the second layer,\n",
    "    # and number of epochs specified\n",
    "    model = Sequential()\n",
    "    \n",
    "    model.add(LSTM(103, input_shape=(train_X.shape[1], train_X.shape[2])))\n",
    "\n",
    "    # dropout layer\n",
    "    model.add(Dropout(dropout_proportion))\n",
    "\n",
    "    model.add(Dense(50, activation='relu'))\n",
    "\n",
    "    # output layer\n",
    "    model.add(Dense(1))\n",
    "\n",
    "    model.compile(loss='mae', optimizer='adam')\n",
    "\n",
    "    # fit model\n",
    "    history = model.fit(train_X, train_y, epochs=epoch_count, batch_size=72, \n",
    "                        validation_data=(test_X, test_y), verbose=0, shuffle=False)\n",
    "    \n",
    "    # output\n",
    "    print('Dataset name: {}'.format(dataset_name_string))\n",
    "    print('Lookback window periods: {}'.format(lookback_periods))\n",
    "    print('Training proportion: {}'.format(train_proportion))\n",
    "    print('Dropout proportion: {}'.format(dropout_proportion))\n",
    "    print('last epoch loss: {}'.format(history.history['loss'][-1]))\n",
    "    print('last epoch val_loss: {}'.format(history.history['val_loss'][-1]))\n",
    "\n",
    "    # plot history\n",
    "    plt.figure(figsize=(20,10))\n",
    "    plt.plot(history.history['loss'], label='train')\n",
    "    plt.plot(history.history['val_loss'], label='test')\n",
    "    plt.xlabel('epochs', fontsize=20)\n",
    "    plt.ylabel('loss proportion', fontsize=20)\n",
    "    plt.legend(fontsize=20)\n",
    "    plt.title('Location: {}'.format(chart_title), fontsize=24)\n",
    "    plt.show()\n",
    "        "
   ]
  },
  {
   "cell_type": "code",
   "execution_count": 113,
   "metadata": {},
   "outputs": [],
   "source": [
    "# create function to create models and display mae\n",
    "\n",
    "def run_lstm_preds(dataset_in, dataset_name_string, chart_title, start_col, end_col, \n",
    "             lookback_periods, train_proportion, dropout_proportion, epoch_count):\n",
    "    '''\n",
    "    dataset_in: pandas dataframe\n",
    "    dataset_name_string: string for name of dataset_in, used in report\n",
    "    chart_title: string for plot title\n",
    "    start_col: index of column to start training data with\n",
    "    end_col: index of column to end the training date from\n",
    "    lookback_periods: prior time periods to use when predicting\n",
    "    train_proportion: proportion of the dataset to use for the training data (0-1)\n",
    "    dropout_proportion: proportion of nodes in the dropout layer to randomly disable during an epoch\n",
    "    epoch_count: number of epochs to run the model\n",
    "    '''\n",
    "    \n",
    "    #get values, starting with start_col, which in these datasets skips 'week_start_date'\n",
    "    dataset = dataset_in.copy()\n",
    "    values = dataset[dataset.columns[start_col:end_col]].values\n",
    "#     print(values[0])\n",
    "    \n",
    "    # ensure all data are of type float32\n",
    "    values = values.astype('float32')\n",
    "    \n",
    "    #get min and max from original data preds chart\n",
    "    total_cases = dataset['total_cases'].values\n",
    "    cases_min = min(total_cases)\n",
    "    cases_max = max(total_cases)\n",
    "    cases_range = cases_max - cases_min\n",
    "    \n",
    "#     print('cases_min: {}'.format(cases_min))\n",
    "#     print('cases_max: {}'.format(cases_max))\n",
    "#     print('cases_range: {}'.format(cases_range))\n",
    "\n",
    "    # normalize all features\n",
    "    scaler = MinMaxScaler(feature_range=(0, 1))\n",
    "    scaled = scaler.fit_transform(values)\n",
    "#     print(scaled[0])\n",
    "\n",
    "    # convert data to proper format for supervised learning using lookback_periods\n",
    "    reframed = series_to_supervised(scaled, lookback_periods, 1)\n",
    "\n",
    "    # split the data into train and test sets based on given proportion\n",
    "    values = reframed.values\n",
    "    n_train_weeks = math.floor(len(values) * train_proportion)\n",
    "#     print('n_train_weeks: {}'.format(n_train_weeks))\n",
    "    train = values[:n_train_weeks, :]\n",
    "    test = values[n_train_weeks:, :]    \n",
    "    \n",
    "    # split into explanatry (as opposed to independant) and response variables. \n",
    "    # Last column, 'total_cases' is the response variable\n",
    "    train_X, train_y = train[:, :-1], train[:, -1]\n",
    "    test_X, test_y = test[:, :-1], test[:, -1]\n",
    "    \n",
    "    # reshape input to be 3D [samples, timesteps, features]\n",
    "    train_X = train_X.reshape((train_X.shape[0], 1, train_X.shape[1]))\n",
    "    test_X = test_X.reshape((test_X.shape[0], 1, test_X.shape[1]))\n",
    "    \n",
    "    # Create an LSTM model with a dropout layer of specified probability as the second layer,\n",
    "    # and number of epochs specified\n",
    "    model = Sequential()\n",
    "    model.add(LSTM(103, input_shape=(train_X.shape[1], train_X.shape[2])))\n",
    "    model.add(Dropout(dropout_proportion))\n",
    "    model.add(Dense(50, activation='relu'))\n",
    "    model.add(Dense(1))\n",
    "\n",
    "    model.compile(loss='mae', optimizer='adam')\n",
    "\n",
    "    # fit model\n",
    "    history = model.fit(train_X, train_y, epochs=epoch_count, batch_size=72,\n",
    "                        validation_data=(test_X, test_y), verbose=0, shuffle=False)\n",
    "    \n",
    "#     val_mae = model.evaluate(test_X, test_y, verbose=0)  # use when using unscaled output\n",
    "\n",
    "    preds = model.predict(test_X)\n",
    "    \n",
    "    # for predictions chart\n",
    "    preds_original = []\n",
    "    test_y_original = []\n",
    "    \n",
    "    def upscale(array_in, range_in, list_out):\n",
    "        for row, val in enumerate(array_in):\n",
    "#             print(val)\n",
    "#             print(range_in/val)\n",
    "            if val > 0:\n",
    "                list_out.append(range_in*val) \n",
    "            else:\n",
    "                list_out.append(0)\n",
    "            \n",
    "    upscale(preds, cases_range, preds_original)\n",
    "    upscale(test_y, cases_range, test_y_original)\n",
    "    \n",
    "    val_mae = mean_absolute_error(test_y_original, preds_original)\n",
    "\n",
    "   \n",
    "    # output\n",
    "    print('Dataset name: {}'.format(dataset_name_string))\n",
    "    print('Lookback window periods: {}'.format(lookback_periods))\n",
    "    print('Training proportion: {}'.format(train_proportion))\n",
    "    print('Dropout proportion: {}'.format(dropout_proportion))\n",
    "    print('Mean absolute error: {}'.format(val_mae))\n",
    "\n",
    "    # plot predictions & actuals\n",
    "    plt.figure(figsize=(20,10))\n",
    "    plt.plot(preds_original, label='predicted cases')\n",
    "    plt.plot(test_y_original, label='actual cases')\n",
    "    plt.xlabel('week', fontsize=20)\n",
    "    plt.ylabel('total_cases', fontsize=20)\n",
    "    plt.legend(fontsize=20)\n",
    "    plt.title('Location: {}'.format(chart_title), fontsize=24)\n",
    "    plt.show()\n",
    "    "
   ]
  },
  {
   "cell_type": "code",
   "execution_count": 114,
   "metadata": {},
   "outputs": [
    {
     "name": "stdout",
     "output_type": "stream",
     "text": [
      "Dataset name: sj_final\n",
      "Lookback window periods: 4\n",
      "Training proportion: 0.87\n",
      "Dropout proportion: 0.5\n",
      "Mean absolute error: 7.6829845639648005\n"
     ]
    },
    {
     "data": {
      "image/png": "[encoded data removed]",
      "text/plain": [
       "<Figure size 1440x720 with 1 Axes>"
      ]
     },
     "metadata": {
      "needs_background": "light"
     },
     "output_type": "display_data"
    }
   ],
   "source": [
    "# look at the predictions\n",
    "run_lstm_preds(sj_final, 'sj_final', 'San Juan, Puerto Rico', 1, 23, 4, .87, .5, 100)"
   ]
  },
  {
   "cell_type": "code",
   "execution_count": 97,
   "metadata": {},
   "outputs": [
    {
     "data": {
      "text/plain": [
       "0    4\n",
       "1    5\n",
       "Name: total_cases, dtype: int64"
      ]
     },
     "execution_count": 97,
     "metadata": {},
     "output_type": "execute_result"
    }
   ],
   "source": [
    "# sj_final.iloc[809:812]['total_cases']\n",
    "sj_final.iloc[0:2]['total_cases']"
   ]
  },
  {
   "cell_type": "markdown",
   "metadata": {
    "heading_collapsed": true
   },
   "source": [
    "# Run some trials using only the data from drivendata.org"
   ]
  },
  {
   "cell_type": "markdown",
   "metadata": {
    "heading_collapsed": true,
    "hidden": true
   },
   "source": [
    "## San Juan models"
   ]
  },
  {
   "cell_type": "code",
   "execution_count": null,
   "metadata": {
    "hidden": true
   },
   "outputs": [],
   "source": [
    "# for reference\n",
    "# run_lstm(dataset_in, dataset_name_string, chart_title, start_col, end_col, \n",
    "#          lookback_periods, train_proportion, dropout_proportion, epoch_count)\n",
    "\n",
    "# San Juan\n",
    "run_lstm(sj_final, 'sj_final', 'San Juan, Puerto Rico', 1, 23, 4, .87, .3, 100)"
   ]
  },
  {
   "cell_type": "code",
   "execution_count": null,
   "metadata": {
    "hidden": true
   },
   "outputs": [],
   "source": [
    "# try increasing the dropout probability\n",
    "run_lstm(sj_final, 'sj_final', 'San Juan, Puerto Rico', 1, 23, 4, .87, .4, 100)"
   ]
  },
  {
   "cell_type": "code",
   "execution_count": null,
   "metadata": {
    "hidden": true
   },
   "outputs": [],
   "source": [
    "# try increasing the dropout probability again\n",
    "run_lstm(sj_final, 'sj_final', 'San Juan, Puerto Rico', 1, 23, 4, .87, .5, 100)"
   ]
  },
  {
   "cell_type": "markdown",
   "metadata": {
    "hidden": true
   },
   "source": [
    "The model directly above is the best performing model for San Juan."
   ]
  },
  {
   "cell_type": "code",
   "execution_count": null,
   "metadata": {
    "hidden": true
   },
   "outputs": [],
   "source": [
    "# try decreasing the lookback periods\n",
    "run_lstm(sj_final, 'sj_final', 'San Juan, Puerto Rico', 1, 23, 3, .87, .5, 100)"
   ]
  },
  {
   "cell_type": "code",
   "execution_count": null,
   "metadata": {
    "hidden": true
   },
   "outputs": [],
   "source": [
    "# try decreasing the lookback periods\n",
    "run_lstm(sj_final, 'sj_final', 'San Juan, Puerto Rico', 1, 23, 2, .87, .5, 100)"
   ]
  },
  {
   "cell_type": "markdown",
   "metadata": {
    "heading_collapsed": true,
    "hidden": true
   },
   "source": [
    "## Iquitos models"
   ]
  },
  {
   "cell_type": "code",
   "execution_count": null,
   "metadata": {
    "hidden": true
   },
   "outputs": [],
   "source": [
    "# for reference\n",
    "# run_lstm(dataset_in, dataset_name_string, chart_title, start_col, end_col, \n",
    "#          lookback_periods, train_proportion, dropout_proportion, epoch_count)\n",
    "\n",
    "# Iquitos\n",
    "run_lstm(iq_final, \"iq_final\", \"Iquitos, Peru\", 1, 23, 4, .79, .3, 100)"
   ]
  },
  {
   "cell_type": "code",
   "execution_count": null,
   "metadata": {
    "hidden": true
   },
   "outputs": [],
   "source": [
    "# increase dropout probability\n",
    "run_lstm(iq_final, \"iq_final\", \"Iquitos, Peru\", 1, 23, 4, .79, .4, 100)"
   ]
  },
  {
   "cell_type": "code",
   "execution_count": null,
   "metadata": {
    "hidden": true
   },
   "outputs": [],
   "source": [
    "# increase dropout probability\n",
    "run_lstm(iq_final, \"iq_final\", \"Iquitos, Peru\", 1, 23, 4, .79, .5, 100)"
   ]
  },
  {
   "cell_type": "code",
   "execution_count": null,
   "metadata": {
    "hidden": true
   },
   "outputs": [],
   "source": [
    "# decrease lookback periods\n",
    "run_lstm(iq_final, \"iq_final\", \"Iquitos, Peru\", 1, 23, 3, .79, .4, 100)"
   ]
  },
  {
   "cell_type": "code",
   "execution_count": null,
   "metadata": {
    "hidden": true
   },
   "outputs": [],
   "source": [
    "# decrease lookback periods\n",
    "run_lstm(iq_final, \"iq_final\", \"Iquitos, Peru\", 1, 23, 2, .79, .4, 100)"
   ]
  },
  {
   "cell_type": "code",
   "execution_count": null,
   "metadata": {
    "hidden": true
   },
   "outputs": [],
   "source": [
    "# decrease lookback periods\n",
    "run_lstm(iq_final, \"iq_final\", \"Iquitos, Peru\", 1, 23, 1, .79, .4, 100)"
   ]
  },
  {
   "cell_type": "markdown",
   "metadata": {
    "hidden": true
   },
   "source": [
    "The model above is the best performing model for Iquitos."
   ]
  },
  {
   "cell_type": "code",
   "execution_count": null,
   "metadata": {
    "hidden": true
   },
   "outputs": [],
   "source": [
    "# try with 85% for the training data\n",
    "run_lstm(iq_final, \"iq_final\", \"Iquitos, Peru\", 1, 23, 1, .85, .4, 100)"
   ]
  },
  {
   "cell_type": "code",
   "execution_count": null,
   "metadata": {
    "hidden": true
   },
   "outputs": [],
   "source": [
    "# try with 90% for the training data\n",
    "run_lstm(iq_final, \"iq_final\", \"Iquitos, Peru\", 1, 23, 1, .9, .4, 100)"
   ]
  },
  {
   "cell_type": "code",
   "execution_count": null,
   "metadata": {
    "hidden": true
   },
   "outputs": [],
   "source": [
    "# look at how many weeks this last model is predicting\n",
    "len(iq_final) * (1-.9)"
   ]
  },
  {
   "cell_type": "markdown",
   "metadata": {
    "hidden": true
   },
   "source": [
    "For Iquitos, when using 90% of the data to train on, the model is only predicting the time period from roughly July 2009 to June 2010. During this time period there was not a large spike in dengue fever cases. The improved accuracy may be due to the model not having to predict such an event. The fact that the model is significantly better during testing than training is perhaps an indication of this."
   ]
  },
  {
   "cell_type": "markdown",
   "metadata": {
    "heading_collapsed": true
   },
   "source": [
    "# Look at possible correlated factors"
   ]
  },
  {
   "cell_type": "code",
   "execution_count": null,
   "metadata": {
    "hidden": true
   },
   "outputs": [],
   "source": [
    "# look at a correlation heat map for San Juan\n",
    "# some code modified from https://seaborn.pydata.org/examples/many_pairwise_correlations.html\n",
    "sns.set(style=\"white\") #to make mask show notebook background\n",
    "\n",
    "df_corr = sj_final.drop('total_cases', axis=1)\n",
    "corr = df_corr.corr()\n",
    "\n",
    "mask = np.zeros_like(corr, dtype=np.bool)\n",
    "mask[np.triu_indices_from(mask)] = True\n",
    "\n",
    "sns.set(font_scale=1.8)\n",
    "\n",
    "f,ax = plt.subplots(figsize=(25,25))\n",
    "\n",
    "hm = sns.heatmap(corr, mask=mask, annot=True, square=True, cmap=\"Blues\", fmt='.1f', annot_kws={'size': 14} )\n",
    "\n",
    "hm.set_ylim(20,0)\n",
    "plt.title('San Juan Factors Heatmap', fontsize='x-large')\n",
    "plt.show()"
   ]
  },
  {
   "cell_type": "markdown",
   "metadata": {
    "hidden": true
   },
   "source": [
    "Weather data has a lot of factors that are strongly correlated with each other."
   ]
  },
  {
   "cell_type": "code",
   "execution_count": null,
   "metadata": {
    "hidden": true
   },
   "outputs": [],
   "source": [
    "# look at the top 12 factors, as correlated to dengue fever cases, are correlated with each other\n",
    "\n",
    "sns.set(style=\"white\")\n",
    "\n",
    "corr_to_target = sj_final.corr()\n",
    "\n",
    "k = 12 #number of variables for heatmap\n",
    "\n",
    "cols = corr_to_target.nlargest(k, 'total_cases')['total_cases'].index\n",
    "\n",
    "cm = np.corrcoef(corr_to_target[cols].values.T)\n",
    "\n",
    "mask = np.zeros_like(cm, dtype=np.bool)\n",
    "mask[np.triu_indices_from(mask)] = True\n",
    "\n",
    "sns.set(font_scale=2)\n",
    "\n",
    "fig = plt.figure(figsize=(20,20))\n",
    "\n",
    "hm = sns.heatmap(cm, cbar=True, annot=True, mask=mask, square=True, cmap=\"Blues\", fmt='.2f', annot_kws={'size': 20},\n",
    "                 yticklabels = cols.values, xticklabels = cols.values)\n",
    "\n",
    "hm.set_ylim(12,0)\n",
    "\n",
    "plt.title('San Juan Heatmap of the top {}\\nfactors correlated to total cases of dengue fever'.format(k), fontsize=28)\n",
    "plt.show()"
   ]
  },
  {
   "cell_type": "markdown",
   "metadata": {
    "heading_collapsed": true
   },
   "source": [
    "# Obtain additional weather data from DarkSky to see if the models can be improved"
   ]
  },
  {
   "cell_type": "code",
   "execution_count": null,
   "metadata": {
    "hidden": true
   },
   "outputs": [],
   "source": [
    "# get darksky.net historical weather information\n",
    "\n",
    "# request format:  https://api.darksky.net/forecast/[key]/[latitude],[longitude],[time]\n",
    "\n",
    "# San Juan, Puerto Rico - Latitude: 18.4653, Longitude: -66.1167\n",
    "# Iquitos, Peru:  - Latitude: -3.74937, Longitude: -73.2444"
   ]
  },
  {
   "cell_type": "code",
   "execution_count": null,
   "metadata": {
    "hidden": true
   },
   "outputs": [],
   "source": [
    "# this gets current SF weather forecast\n",
    "# SF: 37.7648, -122.463\n",
    "\n",
    "# target = 'https://api.darksky.net/forecast/9501b92a37587155d222ae11b77c65a3/37.63474, -122.109015'\n",
    "\n",
    "# req = requests.get(url=target)\n",
    "# json_data = json.loads(req.text)\n",
    "# print(json.dumps(json_data, indent=4, sort_keys=True))"
   ]
  },
  {
   "cell_type": "markdown",
   "metadata": {
    "hidden": true
   },
   "source": [
    "Strategy for additional environmental data:\n",
    "\n",
    "Collect the dark sky data into a seperate dataframe with daily values for each city\n",
    "\n",
    "San Juan first week start date is 1990-04-30 (Monday)\n",
    "San Juan last week start date is 2008-04-22 (Tuesday)\n",
    "\n",
    "Iquitos first week start date is 2000-07-01 (Saturday)\n",
    "Iquitos last week start date is 2010-06-25 (Friday)\n",
    "\n",
    "The San Juan data is weekly and begins on Monday 1990-04-30 @ 12:00 AM and ends on Sunday 2008-04-28 @ 11:59 PM \n",
    "*** there appears to be a discrepancy in the weekly start day from the beginning to the end\n",
    "\n",
    "The Iquitos data is weekly and begins on Saturday 2000-07-01 @ 12:00 AM and ends on Friday 2010-07-02 @ 11:59 PM\n",
    "*** there appears to be a discrepancy in the weekly start day from the beginning to the end\n",
    "\n",
    "Mosquito eggs can stay viable for over a decade, hatching when conditions are acceptable.\n",
    "\n",
    "I am choosing to gather additional weather data for 1 year prior to the start dates above, so the dates I want weather data for are:\n",
    "\n",
    "San Juan: 1989-05-01 to 2008-04-28\n",
    "\n",
    "Iquitos:  1999-06-30 to 2010-07-02"
   ]
  },
  {
   "cell_type": "code",
   "execution_count": null,
   "metadata": {
    "hidden": true
   },
   "outputs": [],
   "source": [
    "# psuedo code for getting the darksky data at 1K/day\n",
    "\n",
    "# each record in the training set has the city code and the start day of that week\n",
    "# convert the start day of week to UNIX epoch timestamp at the city of the record, \n",
    "# ie. 2009-04-30 becomes 641433600 (midnight on 4/30/2009)\n",
    "\n",
    "\n",
    "# make 7 calls to the api, incrementing each by \n",
    "# \n",
    "# set start year and day for sj and iq\n",
    "# set end year and day for sj and iq\n",
    "# make weather_data_df with two columns: index(auto), city, datetime\n",
    "# for index in weather_data_df:\n",
    "#   create the url\n",
    "#   call the api\n",
    "#   write the data to a df\n",
    "#   save the df as a csv\n",
    "# "
   ]
  },
  {
   "cell_type": "code",
   "execution_count": null,
   "metadata": {
    "hidden": true
   },
   "outputs": [],
   "source": [
    "# get darksky.net historical weather information\n",
    "# request format:  https://api.darksky.net/forecast/[key]/[latitude],[longitude],[time]\n",
    "\n",
    "# variables\n",
    "# San Juan, Puerto Rico - Latitude: 18.4653, Longitude: -66.1167\n",
    "# Iquitos, Peru:  - Latitude: -3.74937, Longitude: -73.2444\n",
    "\n",
    "\n",
    "darksky_key = '' # removed for security\n",
    "\n",
    "sj_lat = 18.4653\n",
    "sj_lon = -66.1167\n",
    "iq_lat = -3.74937\n",
    "iq_lon = -73.2444\n",
    "\n",
    "sj_start = '1989-05-01'\n",
    "sj_end = '2008-04-28'\n",
    "iq_start = '1999-06-30'\n",
    "iq_end = '2010-07-02'\n",
    "\n",
    "sj_elapsed = pd.Timestamp(sj_end)  - pd.Timestamp(sj_start)\n",
    "iq_elapsed = pd.Timestamp(iq_end) - pd.Timestamp(iq_start)\n",
    "\n",
    "sj_day_count = sj_elapsed.days\n",
    "iq_day_count = iq_elapsed.days"
   ]
  },
  {
   "cell_type": "code",
   "execution_count": null,
   "metadata": {
    "hidden": true
   },
   "outputs": [],
   "source": [
    "print(sj_day_count)\n",
    "print(iq_day_count)"
   ]
  },
  {
   "cell_type": "code",
   "execution_count": null,
   "metadata": {
    "hidden": true
   },
   "outputs": [],
   "source": [
    "sj_day_list = pd.date_range(sj_start, periods=sj_day_count, freq='D')\n",
    "iq_day_list = pd.date_range(iq_start, periods=iq_day_count, freq='D')\n",
    "\n",
    "sj_days_df = pd.DataFrame(sj_day_list.astype(str))\n",
    "iq_days_df = pd.DataFrame(iq_day_list.astype(str))\n",
    "\n",
    "sj_days_df.columns = (['date'])\n",
    "iq_days_df.columns = (['date'])"
   ]
  },
  {
   "cell_type": "code",
   "execution_count": null,
   "metadata": {
    "hidden": true
   },
   "outputs": [],
   "source": [
    "sj_days_df.head()"
   ]
  },
  {
   "cell_type": "code",
   "execution_count": null,
   "metadata": {
    "hidden": true
   },
   "outputs": [],
   "source": [
    "# original function to obtain darksky data\n",
    "# throws an error about halfway through the 6K records for San Juan, stating that there was \n",
    "# a key error ['daily']\n",
    "\n",
    "\n",
    "def get_darksky_data(key, latitude, longitude, days_df, start_index, count):\n",
    "\n",
    "    start = datetime.datetime.now()\n",
    "    print('Now obtaining {} days of records from DarkSky'.format(count))\n",
    "\n",
    "    temp_df = pd.DataFrame()\n",
    "    current_index = start_index\n",
    "    for i in range(count):\n",
    "        day = days_df.iloc[current_index]['date']\n",
    "        day_string = day + 'T00:00:00'\n",
    "\n",
    "        target = 'https://api.darksky.net/forecast/' + darksky_key + '/' + str(latitude) + ',' + str(longitude) + ',' + day_string + '?exclude=currently,hourly,flags'\n",
    "\n",
    "        req = requests.get(url=target)\n",
    "        json_data = json.loads(req.text)\n",
    "\n",
    "        with open('temp_text.txt', 'a') as the_file:\n",
    "            the_file.write(json.dumps(json_data, sort_keys=False) + '\\n')\n",
    "    \n",
    "        current_index += 1\n",
    "\n",
    "        temp_df = temp_df.append(json_normalize(json_data['daily']['data'], max_level=0), ignore_index=True, verify_integrity=True, sort=False)\n",
    "    \n",
    "    end = datetime.datetime.now()\n",
    "    elapsed = end - start\n",
    "    print('Obtaining {} days took a total of {}'.format(count, elapsed))\n",
    "\n",
    "    return temp_df"
   ]
  },
  {
   "cell_type": "code",
   "execution_count": null,
   "metadata": {
    "hidden": true
   },
   "outputs": [],
   "source": [
    "def darksky_data_to_text_file(key, latitude, longitude, days_df, start_index, count, text_file):\n",
    "    update_flag = True\n",
    "\n",
    "    start = datetime.datetime.now()\n",
    "    print('Now obtaining {} days of records from DarkSky and saving to {}'.format(count, text_file))\n",
    "\n",
    "#     temp_df = pd.DataFrame()\n",
    "    current_index = start_index\n",
    "    for i in range(count):\n",
    "        day = days_df.iloc[current_index]['date']\n",
    "        day_string = day + 'T00:00:00'\n",
    "#         print(day_string)\n",
    "        target = 'https://api.darksky.net/forecast/' + darksky_key + '/' + str(latitude) + ',' + str(longitude) + ',' + day_string + '?exclude=currently,hourly,flags'\n",
    "#         print(target)\n",
    "        req = requests.get(url=target)\n",
    "        json_data = json.loads(req.text)\n",
    "#         print(json.dumps(json_data, indent=4, sort_keys=False))\n",
    "\n",
    "        with open(text_file, 'a') as the_file:\n",
    "            the_file.write(json.dumps(json_data, sort_keys=False) + '\\n')\n",
    "    \n",
    "        current_index += 1\n",
    "#         print(json_normalize(json_data['daily']['data'], max_level=0))\n",
    "        \n",
    "#         if json_data['daily']:\n",
    "#         temp_df = temp_df.append(json_normalize(json_data['daily']['data'], max_level=0), ignore_index=True, verify_integrity=True, sort=False)\n",
    "        if update_flag:\n",
    "            if i == count // 10:\n",
    "                end = datetime.datetime.now()\n",
    "                elapsed = end - start\n",
    "                remaining = elapsed * 9\n",
    "                print('10% of calls took {}'.format(elapsed))\n",
    "                print('Remaining 90% is estimated to take another {}'.format(remaining))\n",
    "                update_flag = False\n",
    "    \n",
    "    end = datetime.datetime.now()\n",
    "    elapsed = end - start\n",
    "    print('Obtaining {} days took a total of {}'.format(count, elapsed))"
   ]
  },
  {
   "cell_type": "code",
   "execution_count": null,
   "metadata": {
    "hidden": true
   },
   "outputs": [],
   "source": [
    "# get the San Juan information from darksky and save to a text file\n",
    "\n",
    "# -----------------------------  only need to call once\n",
    "# darksky_data_to_text_file(darksky_key, sj_lat, sj_lon, sj_days_df, 0, sj_day_count, 'sj_darksky.txt')\n"
   ]
  },
  {
   "cell_type": "code",
   "execution_count": null,
   "metadata": {
    "hidden": true
   },
   "outputs": [],
   "source": [
    "# get the Iquitos information from . darksky and save to a text file\n",
    "\n",
    "# -----------------------------  only need to call once\n",
    "# darksky_data_to_text_file(darksky_key, iq_lat, iq_lon, iq_days_df, 0, iq_day_count, 'iq_darksky.txt')"
   ]
  },
  {
   "cell_type": "code",
   "execution_count": null,
   "metadata": {
    "hidden": true
   },
   "outputs": [],
   "source": [
    "# double check the missing values for San Jaun - start at day 2550 and get 30 days\n",
    "# darksky_data_to_text_file(darksky_key, sj_lat, sj_lon, sj_days_df, 2550, 30, 'sj_test.txt')"
   ]
  },
  {
   "cell_type": "markdown",
   "metadata": {
    "hidden": true
   },
   "source": [
    "Upon inspecting the text file, the same result was received.\n",
    "\n",
    "Evidently, there is no information at darksky for these 16 days:\n",
    "1996-05-03 to 1996-05-11\n",
    "and\n",
    "1996-05-13 to 1996-05-19"
   ]
  },
  {
   "cell_type": "code",
   "execution_count": null,
   "metadata": {
    "hidden": true
   },
   "outputs": [],
   "source": [
    "# double check the missing values for San Jaun - start at day 2550 and get 30 days\n",
    "# darksky_data_to_text_file(darksky_key, sj_lat, sj_lon, sj_days_df, 2550, 30, 'sj_test.txt')\n",
    "# darksky_data_to_text_file(darksky_key, iq_lat, iq_lon, iq_days_df, 0, iq_day_count, 'iq_darksky.txt')"
   ]
  },
  {
   "cell_type": "code",
   "execution_count": null,
   "metadata": {
    "hidden": true
   },
   "outputs": [],
   "source": [
    "def get_line_count(text_file):\n",
    "    with open(text_file) as f:\n",
    "        lines = len(f.readlines())\n",
    "    return lines"
   ]
  },
  {
   "cell_type": "code",
   "execution_count": null,
   "metadata": {
    "hidden": true
   },
   "outputs": [],
   "source": [
    "get_line_count('sj_darksky.txt')"
   ]
  },
  {
   "cell_type": "code",
   "execution_count": null,
   "metadata": {
    "hidden": true
   },
   "outputs": [],
   "source": [
    "get_line_count('iq_darksky.txt')"
   ]
  },
  {
   "cell_type": "code",
   "execution_count": null,
   "metadata": {
    "hidden": true
   },
   "outputs": [],
   "source": [
    "# this function works on a line by line basis\n",
    "\n",
    "def json_text_to_dataframe(text_file):\n",
    "\n",
    "    new_df = pd.DataFrame()\n",
    "    \n",
    "    with open(text_file, \"r\") as f:\n",
    "        for text_line in f:\n",
    "            json_data = json.loads(text_line)\n",
    "            new_df = new_df.append(json_normalize(json_data, max_level=0), ignore_index=True, verify_integrity=True, sort=False)\n",
    "\n",
    "    return new_df"
   ]
  },
  {
   "cell_type": "code",
   "execution_count": null,
   "metadata": {
    "hidden": true
   },
   "outputs": [],
   "source": [
    "sj_weather_temp = json_text_to_dataframe('sj_darksky.txt')\n",
    "iq_weather_temp = json_text_to_dataframe('iq_darksky.txt')"
   ]
  },
  {
   "cell_type": "code",
   "execution_count": null,
   "metadata": {
    "hidden": true
   },
   "outputs": [],
   "source": [
    "sj_weather_temp"
   ]
  },
  {
   "cell_type": "code",
   "execution_count": null,
   "metadata": {
    "hidden": true
   },
   "outputs": [],
   "source": [
    "iq_weather_temp"
   ]
  },
  {
   "cell_type": "code",
   "execution_count": null,
   "metadata": {
    "hidden": true
   },
   "outputs": [],
   "source": [
    "# function to extract the embedded features\n",
    "def extract_features(df, output_file):\n",
    "    '''\n",
    "    df: dataframe in\n",
    "    output_file: name of csv file to save to disk\n",
    "    '''\n",
    "    \n",
    "    # to extract the dictionaries contained within the [daily] and ['data'] keys\n",
    "    temp_df = pd.concat([df.drop(['daily'], axis=1), df['daily'].apply(pd.Series)], axis=1)\n",
    "    \n",
    "    temp_df = pd.concat([temp_df.drop(['data'], axis=1), temp_df['data'].apply(pd.Series)], axis=1)\n",
    "    \n",
    "    temp_df.columns = ['latitude', 'longitude', 'timezone', 'offset', 'delete', 'target']\n",
    "    \n",
    "    temp_df.drop('delete', axis=1, inplace=True)\n",
    "    \n",
    "    temp_df = pd.concat([temp_df.drop(['target'], axis=1), temp_df['target'].apply(pd.Series)], axis=1)\n",
    "    \n",
    "    temp_df2 = temp_df.drop(0, axis=1) # had to create a new df if I didn't rename the columns, a column with a name of zero caused problems\n",
    "    \n",
    "    temp_df2['date'] = pd.to_datetime(temp_df2['time'],unit='s')\n",
    "    \n",
    "    temp_df2 = temp_df2.set_index('date').reset_index()\n",
    "    \n",
    "    temp_df2.to_csv(output_file)"
   ]
  },
  {
   "cell_type": "code",
   "execution_count": null,
   "metadata": {
    "hidden": true
   },
   "outputs": [],
   "source": [
    "# extract the features and save the csv files - only needed on first run\n",
    "# extract_features(sj_weather_temp, 'sj_darksky_cleaned.csv')"
   ]
  },
  {
   "cell_type": "code",
   "execution_count": null,
   "metadata": {
    "hidden": true
   },
   "outputs": [],
   "source": [
    "# extract the features and save the csv files - only needed on first run\n",
    "# extract_features(iq_weather_temp, 'iq_darksky_cleaned.csv')"
   ]
  },
  {
   "cell_type": "markdown",
   "metadata": {
    "heading_collapsed": true
   },
   "source": [
    "# Create the historical weather dataframes from the cleaned DarkSky data"
   ]
  },
  {
   "cell_type": "code",
   "execution_count": null,
   "metadata": {
    "hidden": true
   },
   "outputs": [],
   "source": [
    "# load the exported San Juan file to check it\n",
    "sj_weather_history = pd.read_csv('sj_darksky_cleaned.csv', index_col=0)\n",
    "sj_weather_history.head(10)"
   ]
  },
  {
   "cell_type": "code",
   "execution_count": null,
   "metadata": {
    "hidden": true
   },
   "outputs": [],
   "source": [
    "# load the exported Iquitos file to check it\n",
    "iq_weather_history = pd.read_csv('iq_darksky_cleaned.csv', index_col=0)\n",
    "iq_weather_history.head(10)"
   ]
  },
  {
   "cell_type": "code",
   "execution_count": null,
   "metadata": {
    "hidden": true
   },
   "outputs": [],
   "source": [
    "# look at San Juan summary statistics\n",
    "sj_weather_history.describe()"
   ]
  },
  {
   "cell_type": "code",
   "execution_count": null,
   "metadata": {
    "hidden": true
   },
   "outputs": [],
   "source": [
    "# look at Iquitos summary statistics\n",
    "iq_weather_history.describe()"
   ]
  },
  {
   "cell_type": "markdown",
   "metadata": {
    "hidden": true
   },
   "source": [
    "San Juan has 38 columns, Iquitos has 32."
   ]
  },
  {
   "cell_type": "code",
   "execution_count": null,
   "metadata": {
    "hidden": true
   },
   "outputs": [],
   "source": [
    "sj_weather_history.columns"
   ]
  },
  {
   "cell_type": "code",
   "execution_count": null,
   "metadata": {
    "hidden": true
   },
   "outputs": [],
   "source": [
    "iq_weather_history.columns"
   ]
  },
  {
   "cell_type": "code",
   "execution_count": null,
   "metadata": {
    "hidden": true
   },
   "outputs": [],
   "source": [
    "# look for missing values\n",
    "sj_weather_history.isna().sum()"
   ]
  },
  {
   "cell_type": "code",
   "execution_count": null,
   "metadata": {
    "hidden": true
   },
   "outputs": [],
   "source": [
    "iq_weather_history.isna().sum()"
   ]
  },
  {
   "cell_type": "markdown",
   "metadata": {
    "hidden": true
   },
   "source": [
    "\n",
    "A few factors have a very high number of missing values and some records are missing a value for date, which should not be."
   ]
  },
  {
   "cell_type": "code",
   "execution_count": null,
   "metadata": {
    "hidden": true
   },
   "outputs": [],
   "source": [
    "sj_weather_history[sj_weather_history['date'].isnull()].info()\n"
   ]
  },
  {
   "cell_type": "code",
   "execution_count": null,
   "metadata": {
    "hidden": true
   },
   "outputs": [],
   "source": [
    "iq_weather_history[iq_weather_history['date'].isnull()].info()"
   ]
  },
  {
   "cell_type": "code",
   "execution_count": null,
   "metadata": {
    "hidden": true
   },
   "outputs": [],
   "source": [
    "sj_weather_history[sj_weather_history['date'].isnull()]"
   ]
  },
  {
   "cell_type": "markdown",
   "metadata": {
    "hidden": true
   },
   "source": [
    "It looks like the 6 records missing a date only have information in the latitude, longitude, timezone, and offset columns."
   ]
  },
  {
   "cell_type": "code",
   "execution_count": null,
   "metadata": {
    "hidden": true
   },
   "outputs": [],
   "source": [
    "sj_weather_history.iloc[2558:2577]"
   ]
  },
  {
   "cell_type": "code",
   "execution_count": null,
   "metadata": {
    "hidden": true
   },
   "outputs": [],
   "source": [
    "iq_weather_history[iq_weather_history['date'].isnull()]"
   ]
  },
  {
   "cell_type": "code",
   "execution_count": null,
   "metadata": {
    "hidden": true
   },
   "outputs": [],
   "source": [
    "iq_weather_history.iloc[518:521]"
   ]
  },
  {
   "cell_type": "code",
   "execution_count": null,
   "metadata": {
    "hidden": true
   },
   "outputs": [],
   "source": [
    "iq_weather_history.iloc[678:689]"
   ]
  },
  {
   "cell_type": "code",
   "execution_count": null,
   "metadata": {
    "hidden": true
   },
   "outputs": [],
   "source": [
    "# the date column is an object, needs to be converted to pandas datetime\n",
    "\n",
    "# convert date columns into datetime objects\n",
    "iq_weather_history['date'] = pd.to_datetime(iq_weather_history['date'])\n",
    "sj_weather_history['date'] = pd.to_datetime(sj_weather_history['date'])"
   ]
  },
  {
   "cell_type": "code",
   "execution_count": null,
   "metadata": {
    "hidden": true
   },
   "outputs": [],
   "source": [
    "# function to add missing dates\n",
    "\n",
    "def add_missing_dates(dataframe, keys):    # this function needs error catching in case a key is out of bounds\n",
    "    old_dates = pd.DataFrame(dataframe['date'])\n",
    "    indexes = old_dates.index.tolist()\n",
    "    new_dates_list = []\n",
    "    \n",
    "    for index in indexes:\n",
    "        if index > 0:\n",
    "            prior_index = index - 1\n",
    "#         print('index: {}'.format(index))\n",
    "#         print('old_date value at index: {}'.format(old_dates.iloc[index]['date']))\n",
    "        \n",
    "            old_dates.iloc[index]['date'] = old_dates.iloc[prior_index]['date'] + datetime.timedelta(days=1)\n",
    "        \n",
    "#         print('new_date value will be: {}'.format(new_date))\n",
    "    \n",
    "#         new_dates_list.append(new_date)\n",
    "        \n",
    "#         new_dates = pd.DataFrame()\n",
    "#         new_dates['date'] = new_dates\n",
    "        \n",
    "    return old_dates"
   ]
  },
  {
   "cell_type": "code",
   "execution_count": null,
   "metadata": {
    "hidden": true
   },
   "outputs": [],
   "source": [
    "# make lists of the indexes for the records with missing dates\n",
    "iq_missing_dates_keys = [679, 682, 683, 684, 687]\n",
    "sj_missing_dates_keys = [2559, 2560, 2561, 2562, 2563, 2564, 2565, 2567, 2569, 2570, 2571, 2572, 2573, 2574, 2575]"
   ]
  },
  {
   "cell_type": "code",
   "execution_count": null,
   "metadata": {
    "hidden": true
   },
   "outputs": [],
   "source": [
    "# get the full list of dates for San Juan\n",
    "sj_dates_new = add_missing_dates(sj_weather_history, sj_missing_dates_keys)\n",
    "\n",
    "# replace the dates in the dataframe\n",
    "sj_weather_history['date'] = sj_dates_new['date']\n",
    "\n",
    "# confirm the result in the trouble spot\n",
    "sj_weather_history.iloc[2558:2577]"
   ]
  },
  {
   "cell_type": "code",
   "execution_count": null,
   "metadata": {
    "hidden": true
   },
   "outputs": [],
   "source": [
    "# get the full list of dates for Iquitos\n",
    "iq_dates_new = add_missing_dates(iq_weather_history, iq_missing_dates_keys)\n",
    "\n",
    "# replace the dates in the dataframe\n",
    "iq_weather_history['date'] = iq_dates_new['date']\n",
    "\n",
    "# confirm the result in the trouble spot\n",
    "iq_weather_history.iloc[678:689]"
   ]
  },
  {
   "cell_type": "code",
   "execution_count": null,
   "metadata": {
    "hidden": true
   },
   "outputs": [],
   "source": [
    "# save these new dataframes to csv's  - only needed on first run\n",
    "# iq_weather_history.to_csv('iq_weather_hist_2.csv')\n",
    "# sj_weather_history.to_csv('sj_weather_hist_2.csv')"
   ]
  },
  {
   "cell_type": "markdown",
   "metadata": {
    "heading_collapsed": true
   },
   "source": [
    "# Start here on subsequent runs of the notebook, to finish processing the DarkSky data and combine it with the DrivenData data."
   ]
  },
  {
   "cell_type": "code",
   "execution_count": null,
   "metadata": {
    "hidden": true
   },
   "outputs": [],
   "source": [
    "# load the darksy .csv files. They still need missing values filled.\n",
    "\n",
    "iq_weather_history = pd.read_csv('iq_weather_hist_2.csv')\n",
    "sj_weather_history = pd.read_csv('sj_weather_hist_2.csv')"
   ]
  },
  {
   "cell_type": "code",
   "execution_count": null,
   "metadata": {
    "hidden": true
   },
   "outputs": [],
   "source": [
    "iq_weather_history.isnull().sum()"
   ]
  },
  {
   "cell_type": "code",
   "execution_count": null,
   "metadata": {
    "hidden": true
   },
   "outputs": [],
   "source": [
    "sj_weather_history.isnull().sum()"
   ]
  },
  {
   "cell_type": "code",
   "execution_count": null,
   "metadata": {
    "hidden": true
   },
   "outputs": [],
   "source": [
    "# columns with very large amounts of missing data that are \n",
    "# either likely strongly correlated with other columns and/or of no value (latitude) are dropped\n",
    "sj_drop = ['precipIntensity', 'precipIntensityMax', 'precipIntensityMaxTime', 'precipProbability', 'precipType', 'visibility', 'windGust', 'windGustTime', 'summary', 'icon', 'timezone',\n",
    "          'latitude', 'longitude', 'offset']\n",
    "iq_drop = ['precipType', 'pressure', 'visibility', 'summary', 'icon', 'timezone', 'latitude', 'longitude', 'offset']"
   ]
  },
  {
   "cell_type": "code",
   "execution_count": null,
   "metadata": {
    "hidden": true
   },
   "outputs": [],
   "source": [
    "# drop the columns\n",
    "sj_weather = sj_weather_history.drop(sj_drop, axis=1)\n",
    "iq_weather = iq_weather_history.drop(iq_drop, axis=1)"
   ]
  },
  {
   "cell_type": "code",
   "execution_count": null,
   "metadata": {
    "hidden": true
   },
   "outputs": [],
   "source": [
    "# look at the remaining nulls\n",
    "sj_weather.isnull().sum()"
   ]
  },
  {
   "cell_type": "code",
   "execution_count": null,
   "metadata": {
    "hidden": true
   },
   "outputs": [],
   "source": [
    "# look at cloudCover\n",
    "series = sj_weather['cloudCover']\n",
    "series.plot()"
   ]
  },
  {
   "cell_type": "code",
   "execution_count": null,
   "metadata": {
    "hidden": true
   },
   "outputs": [],
   "source": [
    "sj_weather.info()"
   ]
  },
  {
   "cell_type": "code",
   "execution_count": null,
   "metadata": {
    "hidden": true
   },
   "outputs": [],
   "source": [
    "sj_weather.head()"
   ]
  },
  {
   "cell_type": "code",
   "execution_count": null,
   "metadata": {
    "hidden": true
   },
   "outputs": [],
   "source": [
    "iq_weather.isnull().sum()"
   ]
  },
  {
   "cell_type": "code",
   "execution_count": null,
   "metadata": {
    "hidden": true
   },
   "outputs": [],
   "source": [
    "iq_weather.info()"
   ]
  },
  {
   "cell_type": "code",
   "execution_count": null,
   "metadata": {
    "hidden": true
   },
   "outputs": [],
   "source": [
    "iq_weather.head()"
   ]
  },
  {
   "cell_type": "code",
   "execution_count": null,
   "metadata": {
    "hidden": true
   },
   "outputs": [],
   "source": [
    "# convert date columns to datetime\n",
    "\n",
    "sj_weather['date'] = pd.to_datetime(sj_weather['date'])\n",
    "iq_weather['date'] = pd.to_datetime(iq_weather['date'])"
   ]
  },
  {
   "cell_type": "code",
   "execution_count": null,
   "metadata": {
    "hidden": true
   },
   "outputs": [],
   "source": [
    "# given the small amount of records with missing values, I filled all values with the mean for the column\n",
    "\n",
    "# function to fill all missing values with the mean for each factor\n",
    "\n",
    "def fill_mean(dataframe):\n",
    "    for i, col in enumerate(dataframe):\n",
    "        if col != 'date':\n",
    "            dataframe[col].fillna(dataframe[col].mean(), inplace=True)"
   ]
  },
  {
   "cell_type": "code",
   "execution_count": null,
   "metadata": {
    "hidden": true
   },
   "outputs": [],
   "source": [
    "fill_mean(sj_weather)\n",
    "\n",
    "# check result\n",
    "sj_weather.isnull().sum()\n"
   ]
  },
  {
   "cell_type": "code",
   "execution_count": null,
   "metadata": {
    "hidden": true
   },
   "outputs": [],
   "source": [
    "fill_mean(iq_weather)\n",
    "\n",
    "# check result\n",
    "iq_weather.isnull().sum()\n"
   ]
  },
  {
   "cell_type": "code",
   "execution_count": null,
   "metadata": {
    "hidden": true
   },
   "outputs": [],
   "source": [
    "# remove the duplicate index columns\n",
    "sj_weather.drop(sj_weather.columns[sj_weather.columns.str.contains('unnamed',case = False)],axis = 1, inplace = True)\n",
    "iq_weather.drop(iq_weather.columns[iq_weather.columns.str.contains('unnamed',case = False)],axis = 1, inplace = True)"
   ]
  },
  {
   "cell_type": "code",
   "execution_count": null,
   "metadata": {
    "hidden": true
   },
   "outputs": [],
   "source": [
    "# compare columns in the darksky data with the driven data data\n",
    "sj_weather.columns"
   ]
  },
  {
   "cell_type": "code",
   "execution_count": null,
   "metadata": {
    "hidden": true
   },
   "outputs": [],
   "source": [
    "df_sj.columns"
   ]
  },
  {
   "cell_type": "code",
   "execution_count": null,
   "metadata": {
    "hidden": true
   },
   "outputs": [],
   "source": [
    "iq_weather.columns"
   ]
  },
  {
   "cell_type": "code",
   "execution_count": null,
   "metadata": {
    "hidden": true
   },
   "outputs": [],
   "source": [
    "df_iq.columns"
   ]
  },
  {
   "cell_type": "markdown",
   "metadata": {
    "hidden": true
   },
   "source": [
    "The darksky data needs to be converted into weekly, it is currently in daily format. "
   ]
  },
  {
   "cell_type": "code",
   "execution_count": null,
   "metadata": {
    "hidden": true
   },
   "outputs": [],
   "source": [
    "# function to convert the daily data to weekly data\n",
    "\n",
    "def create_weekly_dataframe(week_start_dates, daily_dataframe):\n",
    "    '''\n",
    "    week_start_dates: a list of pandas datetime dates\n",
    "    daily_dataframe: pandas dataframe of daily weather data\n",
    "    '''\n",
    "    columns = daily_dataframe.columns\n",
    "    rows_to_add = []\n",
    "    test_count = 3\n",
    "\n",
    "    for index, day in enumerate(week_start_dates):\n",
    "#         test_count -= 1\n",
    "#         if test_count > 0:\n",
    "\n",
    "#             print('initial day {}'.format(day))\n",
    "#         create a row in new_df where each column is the mean for the 7 days starting with 'day'\n",
    "#         calculate the 7 days\n",
    "            temp_df = pd.DataFrame()\n",
    "            days = []\n",
    "            for i in range (0,7):\n",
    "                days.append(pd.to_datetime(day + datetime.timedelta(days=i)))\n",
    "\n",
    "    # this is only adding 6 days at the end becuase there is a discrepancy in the start and end dates of the two data sources\n",
    "    # despite the fact that they start on the same date and have the same # of records\n",
    "#             print(days)\n",
    "            temp_df = daily_dataframe.loc[daily_dataframe['date'].isin(days)]\n",
    "#             print(temp_df)\n",
    "            means = {}\n",
    "            means.update(temp_df.mean(axis=0))\n",
    "#             print(means)\n",
    "            rows_to_add.append(means)\n",
    "#             print(len(rows_to_add))\n",
    "    new_df = pd.DataFrame(rows_to_add)\n",
    "    new_df['week_start_date'] = week_start_dates\n",
    "    cols = new_df.columns.to_list()\n",
    "    cols = cols[-1:] + cols[:-1]\n",
    "    new_df = new_df[cols]\n",
    "    \n",
    "        \n",
    "    return new_df"
   ]
  },
  {
   "cell_type": "code",
   "execution_count": null,
   "metadata": {
    "hidden": true
   },
   "outputs": [],
   "source": [
    "# convert date column to date with no time\n",
    "sj_weather['date'] = sj_weather['date'].dt.floor('d')\n",
    "sj_weather['date']"
   ]
  },
  {
   "cell_type": "code",
   "execution_count": null,
   "metadata": {
    "hidden": true
   },
   "outputs": [],
   "source": [
    "iq_weather['date'] = iq_weather['date'].dt.floor('d')\n",
    "iq_weather['date']"
   ]
  },
  {
   "cell_type": "code",
   "execution_count": null,
   "metadata": {
    "hidden": true
   },
   "outputs": [],
   "source": [
    "# make dataframes of the week start days for each city\n",
    "sj_week_starts = pd.to_datetime(df_sj['week_start_date'].dt.floor('d'))\n",
    "iq_week_starts = pd.to_datetime(df_iq['week_start_date'].dt.floor('d'))"
   ]
  },
  {
   "cell_type": "code",
   "execution_count": null,
   "metadata": {
    "hidden": true
   },
   "outputs": [],
   "source": [
    "print('length of sj_weeks in results table: {}'.format(len(sj_week_starts)))"
   ]
  },
  {
   "cell_type": "code",
   "execution_count": null,
   "metadata": {
    "hidden": true
   },
   "outputs": [],
   "source": [
    "# check min and max in driven data data\n",
    "print(sj_week_starts.min())\n",
    "print(sj_week_starts.max())"
   ]
  },
  {
   "cell_type": "code",
   "execution_count": null,
   "metadata": {
    "hidden": true
   },
   "outputs": [],
   "source": [
    "# check max in darksky data\n",
    "sj_weather['date'].max()"
   ]
  },
  {
   "cell_type": "code",
   "execution_count": null,
   "metadata": {
    "hidden": true
   },
   "outputs": [],
   "source": [
    "sj_weekly_weather = (create_weekly_dataframe(sj_week_starts, sj_weather))\n",
    "sj_weekly_weather.head()"
   ]
  },
  {
   "cell_type": "code",
   "execution_count": null,
   "metadata": {
    "hidden": true
   },
   "outputs": [],
   "source": [
    "print('length of iq_weeks in results table: {}'.format(len(iq_week_starts)))"
   ]
  },
  {
   "cell_type": "code",
   "execution_count": null,
   "metadata": {
    "hidden": true
   },
   "outputs": [],
   "source": [
    "# check min and max in driven data data\n",
    "print(iq_week_starts.min())\n",
    "print(iq_week_starts.max())"
   ]
  },
  {
   "cell_type": "code",
   "execution_count": null,
   "metadata": {
    "hidden": true
   },
   "outputs": [],
   "source": [
    "# check max in darksky data\n",
    "iq_weather['date'].max()"
   ]
  },
  {
   "cell_type": "code",
   "execution_count": null,
   "metadata": {
    "hidden": true
   },
   "outputs": [],
   "source": [
    "iq_weekly_weather = (create_weekly_dataframe(iq_week_starts, iq_weather))\n",
    "iq_weekly_weather.head()"
   ]
  },
  {
   "cell_type": "markdown",
   "metadata": {
    "hidden": true
   },
   "source": [
    "## Summary of the four datasets prior to concatenation\n",
    "* sj_weekly_weather - this is the darksky data for San Jose - 936 records\n",
    "* iq_weekly_weather - this is the darksky data for Iquitos - 520 records\n",
    "* df_sj - this is the drivendata data for San Jose - 936 records\n",
    "* df_iq - this is the drivendata date for Iquitos - 520 records\n",
    "\n",
    "All these dataframes share the same week_start_date values, which is pandas datetime object\n",
    "\n",
    "The labels datasets are:\n",
    "* sj_train_labels - 936 records\n",
    "* iq_train_labels - 520 records\n",
    "\n",
    "labels dataframes have these columns: 'year', 'weekofyear', 'total_cases'\n",
    "\n",
    "Each dataset for a city has the same index."
   ]
  },
  {
   "cell_type": "code",
   "execution_count": null,
   "metadata": {
    "hidden": true
   },
   "outputs": [],
   "source": [
    "# create the comnbined datasets for each city\n",
    "\n",
    "def add_columns(df1, df2):\n",
    "    '''\n",
    "    df1, df2: two dataframes with matching indexes\n",
    "    adds the columns in df2 to df1\n",
    "    '''\n",
    "    new_df = pd.concat([df1,df2], axis=1)\n",
    "#     new_df = df1.copy()\n",
    "#     columns = df2.columns\n",
    "#     for column in columns:\n",
    "# #         print(column)\n",
    "#         data = df2[:,column]\n",
    "#         new_df[column] = data\n",
    "    return new_df"
   ]
  },
  {
   "cell_type": "code",
   "execution_count": null,
   "metadata": {
    "hidden": true
   },
   "outputs": [],
   "source": [
    "# remove \"week_start_date\" from one of the datrames for each city to prevent duplication\n",
    "sj_weekly_weather.drop('week_start_date', axis=1, inplace=True)\n",
    "iq_weekly_weather.drop('week_start_date', axis=1, inplace=True)"
   ]
  },
  {
   "cell_type": "code",
   "execution_count": null,
   "metadata": {
    "hidden": true
   },
   "outputs": [],
   "source": [
    "# create the combined dataframe\n",
    "sj_combined = add_columns(df_sj, sj_weekly_weather)\n",
    "iq_combined = add_columns(df_iq, iq_weekly_weather)"
   ]
  },
  {
   "cell_type": "code",
   "execution_count": null,
   "metadata": {
    "hidden": true
   },
   "outputs": [],
   "source": [
    "# check the output\n",
    "sj_combined.info()"
   ]
  },
  {
   "cell_type": "code",
   "execution_count": null,
   "metadata": {
    "hidden": true
   },
   "outputs": [],
   "source": [
    "iq_combined.info()"
   ]
  },
  {
   "cell_type": "code",
   "execution_count": null,
   "metadata": {
    "hidden": true
   },
   "outputs": [],
   "source": [
    "# add the target variable to each dataset\n",
    "sj_combined['total_cases'] = sj_train_labels['total_cases']\n",
    "iq_combined['total_cases'] = iq_train_labels['total_cases']"
   ]
  },
  {
   "cell_type": "code",
   "execution_count": null,
   "metadata": {
    "hidden": true
   },
   "outputs": [],
   "source": [
    "# drop the useless columns\n",
    "sj_combined.drop(['year', 'weekofyear'], axis=1, inplace=True)\n",
    "iq_combined.drop(['year', 'weekofyear'], axis=1, inplace=True)"
   ]
  },
  {
   "cell_type": "markdown",
   "metadata": {
    "heading_collapsed": true
   },
   "source": [
    "# Test models on the combined datasets"
   ]
  },
  {
   "cell_type": "markdown",
   "metadata": {
    "heading_collapsed": true,
    "hidden": true
   },
   "source": [
    "## San Juan combined tests"
   ]
  },
  {
   "cell_type": "code",
   "execution_count": null,
   "metadata": {
    "hidden": true
   },
   "outputs": [],
   "source": [
    "# for reference\n",
    "# run_lstm(dataset_in, dataset_name_string, chart_title, start_col, end_col, \n",
    "#          lookback_periods, train_proportion, dropout_proportion, epoch_count)\n",
    "\n",
    "# this was the best performing model using the driven data data\n",
    "# run_lstm(sj_final, 'sj_final', 'San Juan, Puerto Rico', 1, 23, 4, .87, .5, 100)\n",
    "# last epoch val_loss: 0.015283949489964813\n",
    "\n",
    "# San Juan\n",
    "run_lstm(sj_combined, 'sj_combined', 'San Juan, Puerto Rico', 1, 23, 4, .87, .5, 100)"
   ]
  },
  {
   "cell_type": "code",
   "execution_count": null,
   "metadata": {
    "hidden": true
   },
   "outputs": [],
   "source": [
    "# try reducing the lookback periods to 3\n",
    "run_lstm(sj_combined, 'sj_combined', 'San Juan, Puerto Rico', 1, 23, 3, .87, .5, 100)"
   ]
  },
  {
   "cell_type": "code",
   "execution_count": null,
   "metadata": {
    "hidden": true
   },
   "outputs": [],
   "source": [
    "# try reducing the lookback periods to 2\n",
    "run_lstm(sj_combined, 'sj_combined', 'San Juan, Puerto Rico', 1, 23, 2, .87, .5, 100)"
   ]
  },
  {
   "cell_type": "code",
   "execution_count": null,
   "metadata": {
    "hidden": true
   },
   "outputs": [],
   "source": [
    "# try reducing the lookback periods to 1\n",
    "run_lstm(sj_combined, 'sj_combined', 'San Juan, Puerto Rico', 1, 23, 1, .87, .5, 100)"
   ]
  },
  {
   "cell_type": "markdown",
   "metadata": {
    "heading_collapsed": true,
    "hidden": true
   },
   "source": [
    "## Iquitos combined models"
   ]
  },
  {
   "cell_type": "code",
   "execution_count": null,
   "metadata": {
    "hidden": true
   },
   "outputs": [],
   "source": [
    "# for reference\n",
    "# run_lstm(dataset_in, dataset_name_string, chart_title, start_col, end_col, \n",
    "#          lookback_periods, train_proportion, dropout_proportion, epoch_count)\n",
    "\n",
    "# this was the best performing model using the driven data data\n",
    "# run_lstm(iq_final, \"iq_final\", \"Iquitos, Peru\", 1, 23, 1, .79, .4, 100)\n",
    "# last epoch val_loss: 0.032643817143019185\n",
    "\n",
    "\n",
    "# Iquitos\n",
    "run_lstm(iq_combined, \"iq_combined\", \"Iquitos, Peru\", 1, 23, 4, .79, .4, 100)"
   ]
  },
  {
   "cell_type": "code",
   "execution_count": null,
   "metadata": {
    "hidden": true
   },
   "outputs": [],
   "source": [
    "# reduce the lookback periods to 3\n",
    "run_lstm(iq_combined, \"iq_combined\", \"Iquitos, Peru\", 1, 23, 3, .79, .4, 100)"
   ]
  },
  {
   "cell_type": "code",
   "execution_count": null,
   "metadata": {
    "hidden": true
   },
   "outputs": [],
   "source": [
    "# reduce the lookback periods to 2\n",
    "run_lstm(iq_combined, \"iq_combined\", \"Iquitos, Peru\", 1, 23, 2, .79, .4, 100)"
   ]
  },
  {
   "cell_type": "code",
   "execution_count": null,
   "metadata": {
    "hidden": true
   },
   "outputs": [],
   "source": [
    "# reduce the lookback periods to 1\n",
    "run_lstm(iq_combined, \"iq_combined\", \"Iquitos, Peru\", 1, 23, 1, .79, .4, 100)"
   ]
  },
  {
   "cell_type": "code",
   "execution_count": null,
   "metadata": {
    "hidden": true
   },
   "outputs": [],
   "source": [
    "# increase the dropout probability to 0.5\n",
    "run_lstm(iq_combined, \"iq_combined\", \"Iquitos, Peru\", 1, 23, 1, .79, .5, 100)"
   ]
  },
  {
   "cell_type": "markdown",
   "metadata": {
    "hidden": true
   },
   "source": [
    "The model directly above performed better than the best model using only the DrivenData data."
   ]
  },
  {
   "cell_type": "markdown",
   "metadata": {
    "heading_collapsed": true
   },
   "source": [
    "# Notes on best performing models"
   ]
  },
  {
   "cell_type": "markdown",
   "metadata": {
    "hidden": true
   },
   "source": [
    "A Keras Sequential model with 4 layers was used: \n",
    "    \n",
    "    * model.add(LSTM(103, input_shape=(train_X.shape[1], train_X.shape[2])))\n",
    "    * model.add(Dropout(dropout_proportion))\n",
    "    * model.add(Dense(50, activation='relu'))\n",
    "    * model.add(Dense(1))\n",
    "\n",
    "And was compiled as follows:\n",
    "\n",
    "    * model.compile(loss='mae', optimizer='adam')\n",
    "\n",
    "\n",
    "\n"
   ]
  },
  {
   "cell_type": "markdown",
   "metadata": {
    "hidden": true
   },
   "source": [
    "For San Juan, Puerto Rico, the best results were obtained using only the data from DrivenData and with the following hyperparameters:\n",
    "    * Loockback periods:  4 weeks\n",
    "    * Trained on the first 87% of the weekly data\n",
    "    * Dropout layer with a probability of 0.5\n",
    "\n",
    "\n",
    "\n",
    "For Iquitos, Peru, the best results were obtained using the combined data from DrivenData and DarkSky and with the following hyperparameters:\n",
    "    * Loockback periods:  1 week\n",
    "    * Trained on the first 79% of the weekly data\n",
    "    * Dropout layer with a probability of 0.5\n"
   ]
  },
  {
   "cell_type": "markdown",
   "metadata": {
    "hidden": true
   },
   "source": [
    "## Sample of json object returned from the darksky api"
   ]
  },
  {
   "cell_type": "code",
   "execution_count": null,
   "metadata": {
    "hidden": true
   },
   "outputs": [],
   "source": [
    "# save this example of the json object returned by the darksky api\n",
    "\n",
    "# {\n",
    "#     \"latitude\": 18.4653,\n",
    "#     \"longitude\": -66.1167,\n",
    "#     \"timezone\": \"America/Puerto_Rico\",\n",
    "#     \"daily\": {\n",
    "#         \"data\": [\n",
    "#             {\n",
    "#                 \"time\": 609998400,\n",
    "#                 \"summary\": \"Drizzle in the morning.\",\n",
    "#                 \"icon\": \"rain\",\n",
    "#                 \"sunriseTime\": 610019894,\n",
    "#                 \"sunsetTime\": 610066033,\n",
    "#                 \"moonPhase\": 0.87,\n",
    "#                 \"precipIntensity\": 0.001,\n",
    "#                 \"precipIntensityMax\": 0.0118,\n",
    "#                 \"precipIntensityMaxTime\": 610005600,\n",
    "#                 \"precipProbability\": 1,\n",
    "#                 \"precipType\": \"rain\",\n",
    "#                 \"temperatureHigh\": 85.9,\n",
    "#                 \"temperatureHighTime\": 610048800,\n",
    "#                 \"temperatureLow\": 72.95,\n",
    "#                 \"temperatureLowTime\": 610095600,\n",
    "#                 \"apparentTemperatureHigh\": 88.2,\n",
    "#                 \"apparentTemperatureHighTime\": 610048800,\n",
    "#                 \"apparentTemperatureLow\": 74.07,\n",
    "#                 \"apparentTemperatureLowTime\": 610095600,\n",
    "#                 \"dewPoint\": 70.15,\n",
    "#                 \"humidity\": 0.77,\n",
    "#                 \"pressure\": 1017,\n",
    "#                 \"windSpeed\": 10.32,\n",
    "#                 \"windBearing\": 110,\n",
    "#                 \"cloudCover\": 0.41,\n",
    "#                 \"uvIndex\": 6,\n",
    "#                 \"uvIndexTime\": 610038000,\n",
    "#                 \"temperatureMin\": 72.95,\n",
    "#                 \"temperatureMinTime\": 610009200,\n",
    "#                 \"temperatureMax\": 85.9,\n",
    "#                 \"temperatureMaxTime\": 610048800,\n",
    "#                 \"apparentTemperatureMin\": 74.36,\n",
    "#                 \"apparentTemperatureMinTime\": 610009200,\n",
    "#                 \"apparentTemperatureMax\": 88.2,\n",
    "#                 \"apparentTemperatureMaxTime\": 610048800\n",
    "#             }\n",
    "#         ]\n",
    "#     },\n",
    "#     \"offset\": -4\n",
    "# }"
   ]
  }
 ],
 "metadata": {
  "kernelspec": {
   "display_name": "Python 3",
   "language": "python",
   "name": "python3"
  },
  "language_info": {
   "codemirror_mode": {
    "name": "ipython",
    "version": 3
   },
   "file_extension": ".py",
   "mimetype": "text/x-python",
   "name": "python",
   "nbconvert_exporter": "python",
   "pygments_lexer": "ipython3",
   "version": "3.7.3"
  }
 },
 "nbformat": 4,
 "nbformat_minor": 2
}
